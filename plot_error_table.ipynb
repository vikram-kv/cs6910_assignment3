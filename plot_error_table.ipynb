{
 "cells": [
  {
   "attachments": {},
   "cell_type": "markdown",
   "metadata": {},
   "source": [
    "# Code for plotting informative prediction error table in report"
   ]
  },
  {
   "cell_type": "code",
   "execution_count": null,
   "metadata": {},
   "outputs": [],
   "source": [
    "import plotly.graph_objects as go\n",
    "import plotly.express as px\n",
    "import pandas as pd\n",
    "from torchaudio.functional import edit_distance as edit_dist\n",
    "\n",
    "def color_code(pd_df):\n",
    "    '''\n",
    "        for each prediction in the matrix (rows = number of test examples, cols = (x, y_true, y_pred1, y_pred2 ...)),\n",
    "        we give a color. This will be useful for plotting the test errors in the report using plotly tables.\n",
    "    '''\n",
    "    colorlist = [\"mediumseagreen\", \"lightgreen\", \"yellow\", \"orange\", \"tomato\"]\n",
    "    rws, cols = len(pd_df), len(pd_df.columns)\n",
    "    colors = [['#FFFFFF' for _ in range(rws)] for _ in range(cols)]\n",
    "    for i in range(rws):\n",
    "        for j in range(1, cols):\n",
    "            # compute edit distance between true word and predicted word\n",
    "            true_word = pd_df.iat[i,1]\n",
    "            pred_word = pd_df.iat[i,j]\n",
    "            edit_distance = edit_dist(true_word, pred_word)\n",
    "            clip_edit = min(edit_distance, 4)\n",
    "            colors[j][i] = colorlist[clip_edit]\n",
    "    return colors\n",
    "\n",
    "# pd_df is a dataframe where 1st col = X, 2nd col = y, 3rd col = y_pred1, 4th col = y_pred2 ....\n",
    "# locs are the locations that we want to display.\n",
    "def generate_table_and_legend(pd_df, locs):\n",
    "    df_fil = pd_df.filter(items=locs, axis=0)\n",
    "    colors = color_code(df_fil)\n",
    "    table = go.Table(header=dict(values=df_fil.columns),\n",
    "                     cells=dict(values=[list(df_fil[c]) for c in df_fil.columns], fill_color=colors))\n",
    "    fig = go.Figure(data=[table])\n",
    "    fig.show() # replace with wandb log\n",
    "\n",
    "    colorlist = [\"mediumseagreen\", \"lightgreen\", \"yellow\", \"orange\", \"tomato\"]\n",
    "    \n",
    "    table = go.Table(header=dict(values=['Color', 'Levenshtein distance']),\n",
    "                     cells=dict(values=[['' for _ in range(len(colorlist))], [i for i in range(4)] + ['>= 4']], \n",
    "                                fill_color=[colorlist, ['#FFFFFF' for _ in range(len(colorlist))]]\n",
    "                                ))\n",
    "    fig = go.Figure(data=[table])\n",
    "    fig.show() # replace with wandb log"
   ]
  },
  {
   "cell_type": "code",
   "execution_count": null,
   "metadata": {},
   "outputs": [],
   "source": [
    "df = pd.DataFrame([[str(i) + 'a', 'abc', '1abcde2', 'abc', 'ab'] for i in range(5)], columns=['1', '2', '3', '4', '5'])\n",
    "generate_table_and_legend(df, [0,2,4])"
   ]
  }
 ],
 "metadata": {
  "kernelspec": {
   "display_name": "Python 3",
   "language": "python",
   "name": "python3"
  },
  "language_info": {
   "codemirror_mode": {
    "name": "ipython",
    "version": 3
   },
   "file_extension": ".py",
   "mimetype": "text/x-python",
   "name": "python",
   "nbconvert_exporter": "python",
   "pygments_lexer": "ipython3",
   "version": "3.8.10"
  },
  "orig_nbformat": 4
 },
 "nbformat": 4,
 "nbformat_minor": 2
}
