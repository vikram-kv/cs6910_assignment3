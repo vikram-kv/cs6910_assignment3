{
 "cells": [
  {
   "attachments": {},
   "cell_type": "markdown",
   "metadata": {},
   "source": [
    "# CS6910 Assignment 3 (RNN Frameworks for transliteration) - Without attention"
   ]
  },
  {
   "cell_type": "code",
   "execution_count": 1,
   "metadata": {},
   "outputs": [],
   "source": [
    "# importing required libraries for the notebook\n",
    "import pytorch_lightning as plt\n",
    "from pytorch_lightning.utilities.model_summary import ModelSummary\n",
    "import torch\n",
    "import torch.nn as nn\n",
    "from IPython.display import display\n",
    "import numpy as np\n",
    "from torch.utils.data import DataLoader, Dataset\n",
    "import random\n",
    "from language import *\n",
    "from dataset_dataloader import *\n",
    "from encoder_decoder import *"
   ]
  },
  {
   "cell_type": "code",
   "execution_count": 2,
   "metadata": {},
   "outputs": [
    {
     "name": "stdout",
     "output_type": "stream",
     "text": [
      "cuda\n"
     ]
    }
   ],
   "source": [
    "# know the accelerator available - NOT USED as we have switched to lightning\n",
    "device = ('cuda' if torch.cuda.is_available() else 'cpu')\n",
    "print(device)"
   ]
  },
  {
   "cell_type": "code",
   "execution_count": 3,
   "metadata": {},
   "outputs": [
    {
     "name": "stdout",
     "output_type": "stream",
     "text": [
      "Defaulting to user installation because normal site-packages is not writeable\n",
      "Requirement already satisfied: torchviz in /home/vikram/.local/lib/python3.8/site-packages (0.0.2)\n",
      "Requirement already satisfied: graphviz in /home/vikram/.local/lib/python3.8/site-packages (0.20.1)\n",
      "Requirement already satisfied: torch in /home/vikram/.local/lib/python3.8/site-packages (from torchviz) (2.0.0)\n",
      "Requirement already satisfied: filelock in /home/vikram/.local/lib/python3.8/site-packages (from torch->torchviz) (3.8.0)\n",
      "Requirement already satisfied: typing-extensions in /home/vikram/.local/lib/python3.8/site-packages (from torch->torchviz) (4.5.0)\n",
      "Requirement already satisfied: sympy in /home/vikram/.local/lib/python3.8/site-packages (from torch->torchviz) (1.11.1)\n",
      "Requirement already satisfied: networkx in /home/vikram/.local/lib/python3.8/site-packages (from torch->torchviz) (2.8.6)\n",
      "Requirement already satisfied: jinja2 in /home/vikram/.local/lib/python3.8/site-packages (from torch->torchviz) (3.1.1)\n",
      "Requirement already satisfied: nvidia-cuda-nvrtc-cu11==11.7.99 in /home/vikram/.local/lib/python3.8/site-packages (from torch->torchviz) (11.7.99)\n",
      "Requirement already satisfied: nvidia-cuda-runtime-cu11==11.7.99 in /home/vikram/.local/lib/python3.8/site-packages (from torch->torchviz) (11.7.99)\n",
      "Requirement already satisfied: nvidia-cuda-cupti-cu11==11.7.101 in /home/vikram/.local/lib/python3.8/site-packages (from torch->torchviz) (11.7.101)\n",
      "Requirement already satisfied: nvidia-cudnn-cu11==8.5.0.96 in /home/vikram/.local/lib/python3.8/site-packages (from torch->torchviz) (8.5.0.96)\n",
      "Requirement already satisfied: nvidia-cublas-cu11==11.10.3.66 in /home/vikram/.local/lib/python3.8/site-packages (from torch->torchviz) (11.10.3.66)\n",
      "Requirement already satisfied: nvidia-cufft-cu11==10.9.0.58 in /home/vikram/.local/lib/python3.8/site-packages (from torch->torchviz) (10.9.0.58)\n",
      "Requirement already satisfied: nvidia-curand-cu11==10.2.10.91 in /home/vikram/.local/lib/python3.8/site-packages (from torch->torchviz) (10.2.10.91)\n",
      "Requirement already satisfied: nvidia-cusolver-cu11==11.4.0.1 in /home/vikram/.local/lib/python3.8/site-packages (from torch->torchviz) (11.4.0.1)\n",
      "Requirement already satisfied: nvidia-cusparse-cu11==11.7.4.91 in /home/vikram/.local/lib/python3.8/site-packages (from torch->torchviz) (11.7.4.91)\n",
      "Requirement already satisfied: nvidia-nccl-cu11==2.14.3 in /home/vikram/.local/lib/python3.8/site-packages (from torch->torchviz) (2.14.3)\n",
      "Requirement already satisfied: nvidia-nvtx-cu11==11.7.91 in /home/vikram/.local/lib/python3.8/site-packages (from torch->torchviz) (11.7.91)\n",
      "Requirement already satisfied: triton==2.0.0 in /home/vikram/.local/lib/python3.8/site-packages (from torch->torchviz) (2.0.0)\n",
      "Requirement already satisfied: setuptools in /home/vikram/.local/lib/python3.8/site-packages (from nvidia-cublas-cu11==11.10.3.66->torch->torchviz) (67.2.0)\n",
      "Requirement already satisfied: wheel in /home/vikram/.local/lib/python3.8/site-packages (from nvidia-cublas-cu11==11.10.3.66->torch->torchviz) (0.38.4)\n",
      "Requirement already satisfied: cmake in /home/vikram/.local/lib/python3.8/site-packages (from triton==2.0.0->torch->torchviz) (3.26.3)\n",
      "Requirement already satisfied: lit in /home/vikram/.local/lib/python3.8/site-packages (from triton==2.0.0->torch->torchviz) (16.0.2)\n",
      "Requirement already satisfied: MarkupSafe>=2.0 in /home/vikram/.local/lib/python3.8/site-packages (from jinja2->torch->torchviz) (2.1.1)\n",
      "Requirement already satisfied: mpmath>=0.19 in /home/vikram/.local/lib/python3.8/site-packages (from sympy->torch->torchviz) (1.3.0)\n"
     ]
    }
   ],
   "source": [
    "# some libraries for plotting model graph\n",
    "! pip install torchviz graphviz"
   ]
  },
  {
   "attachments": {},
   "cell_type": "markdown",
   "metadata": {},
   "source": [
    "# Defining the source and target languages and loading data"
   ]
  },
  {
   "cell_type": "code",
   "execution_count": 4,
   "metadata": {},
   "outputs": [],
   "source": [
    "# define the source and target languages\n",
    "TARGET = 'tam'\n",
    "SOURCE = 'eng'"
   ]
  },
  {
   "cell_type": "code",
   "execution_count": 5,
   "metadata": {},
   "outputs": [
    {
     "name": "stdout",
     "output_type": "stream",
     "text": [
      "Number of train samples = 51200\n",
      "Number of valid samples = 4096\n",
      "Number of test samples = 4096\n"
     ]
    }
   ],
   "source": [
    "# load all the available data and print sample counts for each set\n",
    "x_train, y_train = load_data(TARGET, 'train')\n",
    "x_valid, y_valid = load_data(TARGET, 'valid')\n",
    "x_test, y_test = load_data(TARGET, 'test')\n",
    "\n",
    "print(f'Number of train samples = {len(x_train)}')\n",
    "print(f'Number of valid samples = {len(x_valid)}')\n",
    "print(f'Number of test samples = {len(x_test)}')"
   ]
  },
  {
   "cell_type": "code",
   "execution_count": 6,
   "metadata": {},
   "outputs": [
    {
     "name": "stdout",
     "output_type": "stream",
     "text": [
      "Source Vocabulary Size = 26\n",
      "Source Vocabulary = ['a', 'b', 'c', 'd', 'e', 'f', 'g', 'h', 'i', 'j', 'k', 'l', 'm', 'n', 'o', 'p', 'q', 'r', 's', 't', 'u', 'v', 'w', 'x', 'y', 'z']\n",
      "Source Mapping {0: '@', 1: '$', 2: '!', 3: '%', 4: 'a', 5: 'b', 6: 'c', 7: 'd', 8: 'e', 9: 'f', 10: 'g', 11: 'h', 12: 'i', 13: 'j', 14: 'k', 15: 'l', 16: 'm', 17: 'n', 18: 'o', 19: 'p', 20: 'q', 21: 'r', 22: 's', 23: 't', 24: 'u', 25: 'v', 26: 'w', 27: 'x', 28: 'y', 29: 'z'}\n",
      "Target Vocabulary Size = 46\n",
      "Target Vocabulary = ['ஃ', 'அ', 'ஆ', 'இ', 'ஈ', 'உ', 'ஊ', 'எ', 'ஏ', 'ஐ', 'ஒ', 'ஓ', 'க', 'ங', 'ச', 'ஜ', 'ஞ', 'ட', 'ண', 'த', 'ந', 'ன', 'ப', 'ம', 'ய', 'ர', 'ற', 'ல', 'ள', 'ழ', 'வ', 'ஷ', 'ஸ', 'ஹ', 'ா', 'ி', 'ீ', 'ு', 'ூ', 'ெ', 'ே', 'ை', 'ொ', 'ோ', 'ௌ', '்']\n",
      "Target Mapping {0: '@', 1: '$', 2: '!', 3: '%', 4: 'ஃ', 5: 'அ', 6: 'ஆ', 7: 'இ', 8: 'ஈ', 9: 'உ', 10: 'ஊ', 11: 'எ', 12: 'ஏ', 13: 'ஐ', 14: 'ஒ', 15: 'ஓ', 16: 'க', 17: 'ங', 18: 'ச', 19: 'ஜ', 20: 'ஞ', 21: 'ட', 22: 'ண', 23: 'த', 24: 'ந', 25: 'ன', 26: 'ப', 27: 'ம', 28: 'ய', 29: 'ர', 30: 'ற', 31: 'ல', 32: 'ள', 33: 'ழ', 34: 'வ', 35: 'ஷ', 36: 'ஸ', 37: 'ஹ', 38: 'ா', 39: 'ி', 40: 'ீ', 41: 'ு', 42: 'ூ', 43: 'ெ', 44: 'ே', 45: 'ை', 46: 'ொ', 47: 'ோ', 48: 'ௌ', 49: '்'}\n"
     ]
    }
   ],
   "source": [
    "# create language objects for storing vocabulary, index2sym and sym2index\n",
    "SRC_LANG = Language(SOURCE)\n",
    "TAR_LANG = Language(TARGET)\n",
    "\n",
    "# creating vocabulary using train data only\n",
    "SRC_LANG.create_vocabulary(*(x_train))\n",
    "TAR_LANG.create_vocabulary(*(y_train))\n",
    "\n",
    "# generate mappings from characters to numbers and vice versa\n",
    "SRC_LANG.generate_mappings()\n",
    "TAR_LANG.generate_mappings()\n",
    "\n",
    "# print the source and target vocabularies\n",
    "print(f'Source Vocabulary Size = {len(SRC_LANG.symbols)}')\n",
    "print(f'Source Vocabulary = {SRC_LANG.symbols}')\n",
    "print(f'Source Mapping {SRC_LANG.index2sym}')\n",
    "print(f'Target Vocabulary Size = {len(TAR_LANG.symbols)}')\n",
    "print(f'Target Vocabulary = {TAR_LANG.symbols}')\n",
    "print(f'Target Mapping {TAR_LANG.index2sym}')"
   ]
  },
  {
   "attachments": {},
   "cell_type": "markdown",
   "metadata": {},
   "source": [
    "## Runner Class"
   ]
  },
  {
   "cell_type": "code",
   "execution_count": 7,
   "metadata": {},
   "outputs": [],
   "source": [
    "class Runner(plt.LightningModule):\n",
    "    def __init__(self, src_lang : Language, tar_lang : Language, common_embed_size, common_num_layers, \n",
    "                 common_hidden_size, common_cell_type, enc_bidirect=False, attention=False, dropout=0.0, \n",
    "                 opt_name='Adam', learning_rate=1e-3, batch_size=32):\n",
    "    \n",
    "        super(Runner,self).__init__()\n",
    "        # save the language objects\n",
    "        self.src_lang = src_lang\n",
    "        self.tar_lang = tar_lang\n",
    "\n",
    "        # create all the sub-networks and the main model\n",
    "        self.encoder = EncoderNet(vocab_size=src_lang.get_size(), embed_size=common_embed_size,\n",
    "                             num_layers=common_num_layers, hid_size=common_hidden_size,\n",
    "                             cell_type=common_cell_type, bidirect=enc_bidirect, dropout=dropout)\n",
    "        if attention:\n",
    "            self.attention = True\n",
    "            self.attn_layer = Attention(common_hidden_size, enc_bidirect)\n",
    "        else:\n",
    "            self.attention = False\n",
    "            self.attn_layer = None\n",
    "        \n",
    "        self.decoder = DecoderNet(vocab_size=tar_lang.get_size(), embed_size=common_embed_size,\n",
    "                             num_layers=common_num_layers, hid_size=common_hidden_size,\n",
    "                             cell_type=common_cell_type, attention=attention, attn_layer=self.attn_layer,\n",
    "                             enc_bidirect=enc_bidirect, dropout=dropout)\n",
    "        \n",
    "        self.model = EncoderDecoder(encoder=self.encoder, decoder=self.decoder, src_lang=src_lang, \n",
    "                                    tar_lang=tar_lang)\n",
    "\n",
    "        # for determinism\n",
    "        torch.manual_seed(42); torch.cuda.manual_seed(42); np.random.seed(42); random.seed(42)\n",
    "\n",
    "        self.model.apply(self.init_weights) # initialize model weights\n",
    "        self.batch_size = batch_size\n",
    "\n",
    "        # optimizer for the model and loss function [that ignores locs where target = PAD token]\n",
    "        self.loss_criterion = nn.CrossEntropyLoss(ignore_index=tar_lang.sym2index[PAD_SYM])\n",
    "        self.opt_name = opt_name\n",
    "        self.learning_rate = learning_rate\n",
    "\n",
    "        # only adam is present in configure_optimizers as of now\n",
    "        if (opt_name != 'Adam'):\n",
    "            exit(-1)\n",
    "        \n",
    "        self.pred_train_words = []\n",
    "        self.true_train_words = []\n",
    "        self.pred_valid_words = []\n",
    "        self.true_valid_words = []\n",
    "\n",
    "    def configure_optimizers(self):\n",
    "        optimizer = None\n",
    "        if self.opt_name == 'Adam':\n",
    "            optimizer = torch.optim.Adam(self.model.parameters(), lr=self.learning_rate)\n",
    "        return optimizer\n",
    "\n",
    "    @staticmethod\n",
    "    def init_weights(m):\n",
    "        '''\n",
    "        function to initialize the weights of the model parameters\n",
    "        '''\n",
    "        for name, param in m.named_parameters():\n",
    "            if 'weight' in name:\n",
    "                 nn.init.uniform_(param.data, -0.04, 0.04)\n",
    "            else:\n",
    "                nn.init.constant_(param.data, 0)\n",
    "    \n",
    "    @staticmethod\n",
    "    def exact_accuracy(pred_words, tar_words):\n",
    "        ''' \n",
    "        compute the accuracy using (predicted words, target words) and return it.\n",
    "        exact word matching is used.\n",
    "        '''\n",
    "        assert(len(pred_words) == len(tar_words))\n",
    "        count = 0\n",
    "        for i in range(len(pred_words)):\n",
    "            if pred_words[i] == tar_words[i]:\n",
    "                count += 1\n",
    "        return count / len(pred_words)\n",
    "    \n",
    "    ####################\n",
    "    # DATA RELATED HOOKS\n",
    "    ####################\n",
    "\n",
    "    def setup(self, stage=None):\n",
    "        # load all the available data on all GPUs\n",
    "        self.x_train, self.y_train = load_data(TARGET, 'train')\n",
    "        self.x_valid, self.y_valid = load_data(TARGET, 'valid')\n",
    "        self.x_test, self.y_test = load_data(TARGET, 'test')\n",
    "\n",
    "    def train_dataloader(self):\n",
    "        dataset = TransliterateDataset(self.x_train, self.y_train, src_lang=SRC_LANG, tar_lang=TAR_LANG)\n",
    "        dataloader = DataLoader(dataset=dataset, batch_size=self.batch_size, collate_fn=CollationFunction(SRC_LANG, TAR_LANG))\n",
    "        return dataloader\n",
    "\n",
    "    def val_dataloader(self):\n",
    "        dataset = TransliterateDataset(self.x_valid, self.y_valid, src_lang=SRC_LANG, tar_lang=TAR_LANG)\n",
    "        dataloader = DataLoader(dataset=dataset, batch_size=self.batch_size, collate_fn=CollationFunction(SRC_LANG, TAR_LANG))\n",
    "        return dataloader\n",
    "\n",
    "    def test_dataloader(self):\n",
    "        dataset = TransliterateDataset(self.x_test, self.y_test, src_lang=SRC_LANG, tar_lang=TAR_LANG)\n",
    "        dataloader = DataLoader(dataset=dataset, batch_size=1, collate_fn=CollationFunction(SRC_LANG, TAR_LANG))\n",
    "        # we do inference word by word. So, batch_size = 1\n",
    "        return dataloader\n",
    "\n",
    "    ####################\n",
    "    # INTERFACE RELATED FUNCTIONS - NOTE -> add test methods; early stopping; heatmap; beam decoding;\n",
    "    #                                       save to file and plot test errors (for final); fix teacher forcing time interval;\n",
    "    #                                       wandb sweeping stuff and model checkpointing;\n",
    "    #                                       OPT - bleu score/leveshtein distance, model diagram plot\n",
    "    ####################\n",
    "\n",
    "    def training_step(self, train_batch, batch_idx):\n",
    "        batch_X, batch_y, X_lens = train_batch\n",
    "        # get the logits, preds for the current batch\n",
    "        logits, preds = self.model(batch_X, batch_y, X_lens, tf_ratio=0.8)\n",
    "        # ignore loss for the first time step\n",
    "        targets = batch_y[:, 1:]; logits = logits[:, 1:, :]\n",
    "        logits = logits.swapaxes(1, 2) # make class logits the second dimension as needed\n",
    "        loss = self.loss_criterion(logits, targets)\n",
    "        # for epoch-level metrics[accuracy], log all the required data\n",
    "        self.true_train_words += self.tar_lang.convert_to_words(batch_y)\n",
    "        self.pred_train_words += self.tar_lang.convert_to_words(preds)\n",
    "        self.log('train_loss', loss, on_step=False, on_epoch=True, prog_bar=True)\n",
    "        return loss\n",
    "    \n",
    "    def on_train_epoch_end(self):\n",
    "        self.log('train_acc', 100*self.exact_accuracy(self.pred_train_words, self.true_train_words), \n",
    "                 on_epoch=True, prog_bar=True)\n",
    "        self.pred_train_words.clear(); self.true_train_words.clear()\n",
    "\n",
    "    def validation_step(self, valid_batch, batch_idx):\n",
    "        batch_X, batch_y, X_lens = valid_batch\n",
    "        # get the logits, preds for the current batch\n",
    "        logits, preds = self.model(batch_X, batch_y, X_lens) # no teacher forcing\n",
    "        # ignore loss for the first time step\n",
    "        targets = batch_y[:, 1:]; logits = logits[:, 1:, :]\n",
    "        logits = logits.swapaxes(1, 2) # make class logits the second dimension as needed\n",
    "        loss = self.loss_criterion(logits, targets)\n",
    "        # for epoch-level metrics[accuracy], log all the required data\n",
    "        self.true_valid_words += self.tar_lang.convert_to_words(batch_y)\n",
    "        self.pred_valid_words += self.tar_lang.convert_to_words(preds)\n",
    "        self.log('valid_loss', loss, on_step=False, on_epoch=True, prog_bar=True)\n",
    "    \n",
    "    def on_validation_epoch_end(self):\n",
    "        self.log('valid_acc', 100*self.exact_accuracy(self.true_valid_words, self.pred_valid_words), \n",
    "                 on_epoch=True, prog_bar=True)\n",
    "        self.true_valid_words.clear(); self.pred_valid_words.clear()"
   ]
  },
  {
   "cell_type": "code",
   "execution_count": 8,
   "metadata": {},
   "outputs": [
    {
     "name": "stdout",
     "output_type": "stream",
     "text": [
      "  | Name           | Type             | Params\n",
      "----------------------------------------------------\n",
      "0 | encoder        | EncoderNet       | 4.3 M \n",
      "1 | decoder        | DecoderNet       | 1.5 M \n",
      "2 | model          | EncoderDecoder   | 5.8 M \n",
      "3 | loss_criterion | CrossEntropyLoss | 0     \n",
      "----------------------------------------------------\n",
      "5.8 M     Trainable params\n",
      "0         Non-trainable params\n",
      "5.8 M     Total params\n",
      "23.238    Total estimated model params size (MB)\n"
     ]
    }
   ],
   "source": [
    "# testing runner\n",
    "# keep embedding small (around 32) -> important to get dense embedding\n",
    "# also, adjust learning rate reasonably\n",
    "\n",
    "# BEST CONFIG - NOTE - NOTE\n",
    "runner = Runner(SRC_LANG, TAR_LANG, 128, 3, 256, 'LSTM', True, False, 0.0, 'Adam', learning_rate=2e-3, batch_size=128)\n",
    "#trainer = plt.Trainer(max_epochs=20)\n",
    "#trainer.fit(runner)\n",
    "\n",
    "model_sum = ModelSummary(runner)\n",
    "print(model_sum)"
   ]
  },
  {
   "cell_type": "code",
   "execution_count": 15,
   "metadata": {},
   "outputs": [
    {
     "name": "stderr",
     "output_type": "stream",
     "text": [
      "GPU available: True (cuda), used: True\n",
      "TPU available: False, using: 0 TPU cores\n",
      "IPU available: False, using: 0 IPUs\n",
      "HPU available: False, using: 0 HPUs\n",
      "LOCAL_RANK: 0 - CUDA_VISIBLE_DEVICES: [0]\n",
      "\n",
      "  | Name           | Type             | Params\n",
      "----------------------------------------------------\n",
      "0 | encoder        | EncoderNet       | 925 K \n",
      "1 | attn_layer     | Attention        | 197 K \n",
      "2 | decoder        | DecoderNet       | 1.1 M \n",
      "3 | model          | EncoderDecoder   | 2.1 M \n",
      "4 | loss_criterion | CrossEntropyLoss | 0     \n",
      "----------------------------------------------------\n",
      "2.1 M     Trainable params\n",
      "0         Non-trainable params\n",
      "2.1 M     Total params\n",
      "8.246     Total estimated model params size (MB)\n"
     ]
    },
    {
     "data": {
      "application/json": {
       "ascii": false,
       "bar_format": null,
       "colour": null,
       "elapsed": 0.015395402908325195,
       "initial": 0,
       "n": 0,
       "ncols": null,
       "nrows": null,
       "postfix": null,
       "prefix": "Sanity Checking",
       "rate": null,
       "total": null,
       "unit": "it",
       "unit_divisor": 1000,
       "unit_scale": false
      },
      "application/vnd.jupyter.widget-view+json": {
       "model_id": "73f3ae614f3e41f3a0f518015aa2c5ff",
       "version_major": 2,
       "version_minor": 0
      },
      "text/plain": [
       "Sanity Checking: 0it [00:00, ?it/s]"
      ]
     },
     "metadata": {},
     "output_type": "display_data"
    },
    {
     "name": "stderr",
     "output_type": "stream",
     "text": [
      "/home/vikram/.local/lib/python3.8/site-packages/pytorch_lightning/trainer/connectors/data_connector.py:430: PossibleUserWarning: The dataloader, val_dataloader, does not have many workers which may be a bottleneck. Consider increasing the value of the `num_workers` argument` (try 8 which is the number of cpus on this machine) in the `DataLoader` init to improve performance.\n",
      "  rank_zero_warn(\n",
      "/home/vikram/.local/lib/python3.8/site-packages/pytorch_lightning/trainer/connectors/data_connector.py:430: PossibleUserWarning: The dataloader, train_dataloader, does not have many workers which may be a bottleneck. Consider increasing the value of the `num_workers` argument` (try 8 which is the number of cpus on this machine) in the `DataLoader` init to improve performance.\n",
      "  rank_zero_warn(\n"
     ]
    },
    {
     "data": {
      "application/json": {
       "ascii": false,
       "bar_format": null,
       "colour": null,
       "elapsed": 0.007734775543212891,
       "initial": 0,
       "n": 0,
       "ncols": null,
       "nrows": null,
       "postfix": null,
       "prefix": "Training",
       "rate": null,
       "total": null,
       "unit": "it",
       "unit_divisor": 1000,
       "unit_scale": false
      },
      "application/vnd.jupyter.widget-view+json": {
       "model_id": "0d515ee2eba1442bb21ba6cce2c5ec15",
       "version_major": 2,
       "version_minor": 0
      },
      "text/plain": [
       "Training: 0it [00:00, ?it/s]"
      ]
     },
     "metadata": {},
     "output_type": "display_data"
    },
    {
     "name": "stderr",
     "output_type": "stream",
     "text": [
      "`Trainer.fit` stopped: `max_steps=50` reached.\n",
      "GPU available: True (cuda), used: True\n",
      "TPU available: False, using: 0 TPU cores\n",
      "IPU available: False, using: 0 IPUs\n",
      "HPU available: False, using: 0 HPUs\n",
      "LOCAL_RANK: 0 - CUDA_VISIBLE_DEVICES: [0]\n",
      "\n",
      "  | Name           | Type             | Params\n",
      "----------------------------------------------------\n",
      "0 | encoder        | EncoderNet       | 925 K \n",
      "1 | decoder        | DecoderNet       | 414 K \n",
      "2 | model          | EncoderDecoder   | 1.3 M \n",
      "3 | loss_criterion | CrossEntropyLoss | 0     \n",
      "----------------------------------------------------\n",
      "1.3 M     Trainable params\n",
      "0         Non-trainable params\n",
      "1.3 M     Total params\n",
      "5.361     Total estimated model params size (MB)\n"
     ]
    },
    {
     "data": {
      "application/json": {
       "ascii": false,
       "bar_format": null,
       "colour": null,
       "elapsed": 0.008990287780761719,
       "initial": 0,
       "n": 0,
       "ncols": null,
       "nrows": null,
       "postfix": null,
       "prefix": "Sanity Checking",
       "rate": null,
       "total": null,
       "unit": "it",
       "unit_divisor": 1000,
       "unit_scale": false
      },
      "application/vnd.jupyter.widget-view+json": {
       "model_id": "fa88b85a22e5453d80002902edd5155c",
       "version_major": 2,
       "version_minor": 0
      },
      "text/plain": [
       "Sanity Checking: 0it [00:00, ?it/s]"
      ]
     },
     "metadata": {},
     "output_type": "display_data"
    },
    {
     "data": {
      "application/json": {
       "ascii": false,
       "bar_format": null,
       "colour": null,
       "elapsed": 0.009746551513671875,
       "initial": 0,
       "n": 0,
       "ncols": null,
       "nrows": null,
       "postfix": null,
       "prefix": "Training",
       "rate": null,
       "total": null,
       "unit": "it",
       "unit_divisor": 1000,
       "unit_scale": false
      },
      "application/vnd.jupyter.widget-view+json": {
       "model_id": "449c7b23d4654d7db955ed319fc56df8",
       "version_major": 2,
       "version_minor": 0
      },
      "text/plain": [
       "Training: 0it [00:00, ?it/s]"
      ]
     },
     "metadata": {},
     "output_type": "display_data"
    },
    {
     "name": "stderr",
     "output_type": "stream",
     "text": [
      "`Trainer.fit` stopped: `max_steps=50` reached.\n",
      "GPU available: True (cuda), used: True\n",
      "TPU available: False, using: 0 TPU cores\n",
      "IPU available: False, using: 0 IPUs\n",
      "HPU available: False, using: 0 HPUs\n",
      "LOCAL_RANK: 0 - CUDA_VISIBLE_DEVICES: [0]\n",
      "\n",
      "  | Name           | Type             | Params\n",
      "----------------------------------------------------\n",
      "0 | encoder        | EncoderNet       | 399 K \n",
      "1 | attn_layer     | Attention        | 131 K \n",
      "2 | decoder        | DecoderNet       | 808 K \n",
      "3 | model          | EncoderDecoder   | 1.2 M \n",
      "4 | loss_criterion | CrossEntropyLoss | 0     \n",
      "----------------------------------------------------\n",
      "1.2 M     Trainable params\n",
      "0         Non-trainable params\n",
      "1.2 M     Total params\n",
      "4.829     Total estimated model params size (MB)\n"
     ]
    },
    {
     "data": {
      "application/json": {
       "ascii": false,
       "bar_format": null,
       "colour": null,
       "elapsed": 0.006376743316650391,
       "initial": 0,
       "n": 0,
       "ncols": null,
       "nrows": null,
       "postfix": null,
       "prefix": "Sanity Checking",
       "rate": null,
       "total": null,
       "unit": "it",
       "unit_divisor": 1000,
       "unit_scale": false
      },
      "application/vnd.jupyter.widget-view+json": {
       "model_id": "9b899cba444e4226aefd27ff42742ce1",
       "version_major": 2,
       "version_minor": 0
      },
      "text/plain": [
       "Sanity Checking: 0it [00:00, ?it/s]"
      ]
     },
     "metadata": {},
     "output_type": "display_data"
    },
    {
     "data": {
      "application/json": {
       "ascii": false,
       "bar_format": null,
       "colour": null,
       "elapsed": 0.007960081100463867,
       "initial": 0,
       "n": 0,
       "ncols": null,
       "nrows": null,
       "postfix": null,
       "prefix": "Training",
       "rate": null,
       "total": null,
       "unit": "it",
       "unit_divisor": 1000,
       "unit_scale": false
      },
      "application/vnd.jupyter.widget-view+json": {
       "model_id": "d81d60aaf1784292b7c59ebba408636e",
       "version_major": 2,
       "version_minor": 0
      },
      "text/plain": [
       "Training: 0it [00:00, ?it/s]"
      ]
     },
     "metadata": {},
     "output_type": "display_data"
    },
    {
     "name": "stderr",
     "output_type": "stream",
     "text": [
      "`Trainer.fit` stopped: `max_steps=50` reached.\n",
      "GPU available: True (cuda), used: True\n",
      "TPU available: False, using: 0 TPU cores\n",
      "IPU available: False, using: 0 IPUs\n",
      "HPU available: False, using: 0 HPUs\n",
      "LOCAL_RANK: 0 - CUDA_VISIBLE_DEVICES: [0]\n",
      "\n",
      "  | Name           | Type             | Params\n",
      "----------------------------------------------------\n",
      "0 | encoder        | EncoderNet       | 399 K \n",
      "1 | decoder        | DecoderNet       | 414 K \n",
      "2 | model          | EncoderDecoder   | 813 K \n",
      "3 | loss_criterion | CrossEntropyLoss | 0     \n",
      "----------------------------------------------------\n",
      "813 K     Trainable params\n",
      "0         Non-trainable params\n",
      "813 K     Total params\n",
      "3.254     Total estimated model params size (MB)\n"
     ]
    },
    {
     "data": {
      "application/json": {
       "ascii": false,
       "bar_format": null,
       "colour": null,
       "elapsed": 0.007653474807739258,
       "initial": 0,
       "n": 0,
       "ncols": null,
       "nrows": null,
       "postfix": null,
       "prefix": "Sanity Checking",
       "rate": null,
       "total": null,
       "unit": "it",
       "unit_divisor": 1000,
       "unit_scale": false
      },
      "application/vnd.jupyter.widget-view+json": {
       "model_id": "6e79f60e106943428fab5cb10835d2e4",
       "version_major": 2,
       "version_minor": 0
      },
      "text/plain": [
       "Sanity Checking: 0it [00:00, ?it/s]"
      ]
     },
     "metadata": {},
     "output_type": "display_data"
    },
    {
     "data": {
      "application/json": {
       "ascii": false,
       "bar_format": null,
       "colour": null,
       "elapsed": 0.011097908020019531,
       "initial": 0,
       "n": 0,
       "ncols": null,
       "nrows": null,
       "postfix": null,
       "prefix": "Training",
       "rate": null,
       "total": null,
       "unit": "it",
       "unit_divisor": 1000,
       "unit_scale": false
      },
      "application/vnd.jupyter.widget-view+json": {
       "model_id": "c0276f0935b64161a5b0a359a67824e5",
       "version_major": 2,
       "version_minor": 0
      },
      "text/plain": [
       "Training: 0it [00:00, ?it/s]"
      ]
     },
     "metadata": {},
     "output_type": "display_data"
    },
    {
     "name": "stderr",
     "output_type": "stream",
     "text": [
      "`Trainer.fit` stopped: `max_steps=50` reached.\n",
      "GPU available: True (cuda), used: True\n",
      "TPU available: False, using: 0 TPU cores\n",
      "IPU available: False, using: 0 IPUs\n",
      "HPU available: False, using: 0 HPUs\n",
      "LOCAL_RANK: 0 - CUDA_VISIBLE_DEVICES: [0]\n",
      "\n",
      "  | Name           | Type             | Params\n",
      "----------------------------------------------------\n",
      "0 | encoder        | EncoderNet       | 728 K \n",
      "1 | attn_layer     | Attention        | 197 K \n",
      "2 | decoder        | DecoderNet       | 906 K \n",
      "3 | model          | EncoderDecoder   | 1.6 M \n",
      "4 | loss_criterion | CrossEntropyLoss | 0     \n",
      "----------------------------------------------------\n",
      "1.6 M     Trainable params\n",
      "0         Non-trainable params\n",
      "1.6 M     Total params\n",
      "6.536     Total estimated model params size (MB)\n"
     ]
    },
    {
     "data": {
      "application/json": {
       "ascii": false,
       "bar_format": null,
       "colour": null,
       "elapsed": 0.007800579071044922,
       "initial": 0,
       "n": 0,
       "ncols": null,
       "nrows": null,
       "postfix": null,
       "prefix": "Sanity Checking",
       "rate": null,
       "total": null,
       "unit": "it",
       "unit_divisor": 1000,
       "unit_scale": false
      },
      "application/vnd.jupyter.widget-view+json": {
       "model_id": "a0b5b3101ca64f08a76f2bf73b4e48af",
       "version_major": 2,
       "version_minor": 0
      },
      "text/plain": [
       "Sanity Checking: 0it [00:00, ?it/s]"
      ]
     },
     "metadata": {},
     "output_type": "display_data"
    },
    {
     "data": {
      "application/json": {
       "ascii": false,
       "bar_format": null,
       "colour": null,
       "elapsed": 0.007162332534790039,
       "initial": 0,
       "n": 0,
       "ncols": null,
       "nrows": null,
       "postfix": null,
       "prefix": "Training",
       "rate": null,
       "total": null,
       "unit": "it",
       "unit_divisor": 1000,
       "unit_scale": false
      },
      "application/vnd.jupyter.widget-view+json": {
       "model_id": "0864e42af4e643fca1ff96381dbf034a",
       "version_major": 2,
       "version_minor": 0
      },
      "text/plain": [
       "Training: 0it [00:00, ?it/s]"
      ]
     },
     "metadata": {},
     "output_type": "display_data"
    },
    {
     "name": "stderr",
     "output_type": "stream",
     "text": [
      "`Trainer.fit` stopped: `max_steps=50` reached.\n",
      "GPU available: True (cuda), used: True\n",
      "TPU available: False, using: 0 TPU cores\n",
      "IPU available: False, using: 0 IPUs\n",
      "HPU available: False, using: 0 HPUs\n",
      "LOCAL_RANK: 0 - CUDA_VISIBLE_DEVICES: [0]\n",
      "\n",
      "  | Name           | Type             | Params\n",
      "----------------------------------------------------\n",
      "0 | encoder        | EncoderNet       | 728 K \n",
      "1 | decoder        | DecoderNet       | 315 K \n",
      "2 | model          | EncoderDecoder   | 1.0 M \n",
      "3 | loss_criterion | CrossEntropyLoss | 0     \n",
      "----------------------------------------------------\n",
      "1.0 M     Trainable params\n",
      "0         Non-trainable params\n",
      "1.0 M     Total params\n",
      "4.175     Total estimated model params size (MB)\n"
     ]
    },
    {
     "data": {
      "application/json": {
       "ascii": false,
       "bar_format": null,
       "colour": null,
       "elapsed": 0.01247406005859375,
       "initial": 0,
       "n": 0,
       "ncols": null,
       "nrows": null,
       "postfix": null,
       "prefix": "Sanity Checking",
       "rate": null,
       "total": null,
       "unit": "it",
       "unit_divisor": 1000,
       "unit_scale": false
      },
      "application/vnd.jupyter.widget-view+json": {
       "model_id": "36631992d66744e0bef3a4c1843c2dee",
       "version_major": 2,
       "version_minor": 0
      },
      "text/plain": [
       "Sanity Checking: 0it [00:00, ?it/s]"
      ]
     },
     "metadata": {},
     "output_type": "display_data"
    },
    {
     "data": {
      "application/json": {
       "ascii": false,
       "bar_format": null,
       "colour": null,
       "elapsed": 0.007078647613525391,
       "initial": 0,
       "n": 0,
       "ncols": null,
       "nrows": null,
       "postfix": null,
       "prefix": "Training",
       "rate": null,
       "total": null,
       "unit": "it",
       "unit_divisor": 1000,
       "unit_scale": false
      },
      "application/vnd.jupyter.widget-view+json": {
       "model_id": "feeca84fcb42424bb6c2afbff61d554f",
       "version_major": 2,
       "version_minor": 0
      },
      "text/plain": [
       "Training: 0it [00:00, ?it/s]"
      ]
     },
     "metadata": {},
     "output_type": "display_data"
    },
    {
     "name": "stderr",
     "output_type": "stream",
     "text": [
      "`Trainer.fit` stopped: `max_steps=50` reached.\n",
      "GPU available: True (cuda), used: True\n",
      "TPU available: False, using: 0 TPU cores\n",
      "IPU available: False, using: 0 IPUs\n",
      "HPU available: False, using: 0 HPUs\n",
      "LOCAL_RANK: 0 - CUDA_VISIBLE_DEVICES: [0]\n",
      "\n",
      "  | Name           | Type             | Params\n",
      "----------------------------------------------------\n",
      "0 | encoder        | EncoderNet       | 300 K \n",
      "1 | attn_layer     | Attention        | 131 K \n",
      "2 | decoder        | DecoderNet       | 643 K \n",
      "3 | model          | EncoderDecoder   | 944 K \n",
      "4 | loss_criterion | CrossEntropyLoss | 0     \n",
      "----------------------------------------------------\n",
      "944 K     Trainable params\n",
      "0         Non-trainable params\n",
      "944 K     Total params\n",
      "3.777     Total estimated model params size (MB)\n"
     ]
    },
    {
     "data": {
      "application/json": {
       "ascii": false,
       "bar_format": null,
       "colour": null,
       "elapsed": 0.008335351943969727,
       "initial": 0,
       "n": 0,
       "ncols": null,
       "nrows": null,
       "postfix": null,
       "prefix": "Sanity Checking",
       "rate": null,
       "total": null,
       "unit": "it",
       "unit_divisor": 1000,
       "unit_scale": false
      },
      "application/vnd.jupyter.widget-view+json": {
       "model_id": "fcdb2f5552284b11b3667bd72277ca40",
       "version_major": 2,
       "version_minor": 0
      },
      "text/plain": [
       "Sanity Checking: 0it [00:00, ?it/s]"
      ]
     },
     "metadata": {},
     "output_type": "display_data"
    },
    {
     "data": {
      "application/json": {
       "ascii": false,
       "bar_format": null,
       "colour": null,
       "elapsed": 0.008818387985229492,
       "initial": 0,
       "n": 0,
       "ncols": null,
       "nrows": null,
       "postfix": null,
       "prefix": "Training",
       "rate": null,
       "total": null,
       "unit": "it",
       "unit_divisor": 1000,
       "unit_scale": false
      },
      "application/vnd.jupyter.widget-view+json": {
       "model_id": "e0ffc0c833c74f97a55376eb16db4068",
       "version_major": 2,
       "version_minor": 0
      },
      "text/plain": [
       "Training: 0it [00:00, ?it/s]"
      ]
     },
     "metadata": {},
     "output_type": "display_data"
    },
    {
     "name": "stderr",
     "output_type": "stream",
     "text": [
      "`Trainer.fit` stopped: `max_steps=50` reached.\n",
      "GPU available: True (cuda), used: True\n",
      "TPU available: False, using: 0 TPU cores\n",
      "IPU available: False, using: 0 IPUs\n",
      "HPU available: False, using: 0 HPUs\n",
      "LOCAL_RANK: 0 - CUDA_VISIBLE_DEVICES: [0]\n",
      "\n",
      "  | Name           | Type             | Params\n",
      "----------------------------------------------------\n",
      "0 | encoder        | EncoderNet       | 300 K \n",
      "1 | decoder        | DecoderNet       | 315 K \n",
      "2 | model          | EncoderDecoder   | 615 K \n",
      "3 | loss_criterion | CrossEntropyLoss | 0     \n",
      "----------------------------------------------------\n",
      "615 K     Trainable params\n",
      "0         Non-trainable params\n",
      "615 K     Total params\n",
      "2.464     Total estimated model params size (MB)\n"
     ]
    },
    {
     "data": {
      "application/json": {
       "ascii": false,
       "bar_format": null,
       "colour": null,
       "elapsed": 0.00781702995300293,
       "initial": 0,
       "n": 0,
       "ncols": null,
       "nrows": null,
       "postfix": null,
       "prefix": "Sanity Checking",
       "rate": null,
       "total": null,
       "unit": "it",
       "unit_divisor": 1000,
       "unit_scale": false
      },
      "application/vnd.jupyter.widget-view+json": {
       "model_id": "5c03038828ae4542b51c3dbd2d2ff15f",
       "version_major": 2,
       "version_minor": 0
      },
      "text/plain": [
       "Sanity Checking: 0it [00:00, ?it/s]"
      ]
     },
     "metadata": {},
     "output_type": "display_data"
    },
    {
     "data": {
      "application/json": {
       "ascii": false,
       "bar_format": null,
       "colour": null,
       "elapsed": 0.005856513977050781,
       "initial": 0,
       "n": 0,
       "ncols": null,
       "nrows": null,
       "postfix": null,
       "prefix": "Training",
       "rate": null,
       "total": null,
       "unit": "it",
       "unit_divisor": 1000,
       "unit_scale": false
      },
      "application/vnd.jupyter.widget-view+json": {
       "model_id": "ca11202a69eb423896357d0e4cdda49d",
       "version_major": 2,
       "version_minor": 0
      },
      "text/plain": [
       "Training: 0it [00:00, ?it/s]"
      ]
     },
     "metadata": {},
     "output_type": "display_data"
    },
    {
     "name": "stderr",
     "output_type": "stream",
     "text": [
      "`Trainer.fit` stopped: `max_steps=50` reached.\n",
      "GPU available: True (cuda), used: True\n",
      "TPU available: False, using: 0 TPU cores\n",
      "IPU available: False, using: 0 IPUs\n",
      "HPU available: False, using: 0 HPUs\n",
      "LOCAL_RANK: 0 - CUDA_VISIBLE_DEVICES: [0]\n",
      "\n",
      "  | Name           | Type             | Params\n",
      "----------------------------------------------------\n",
      "0 | encoder        | EncoderNet       | 332 K \n",
      "1 | attn_layer     | Attention        | 197 K \n",
      "2 | decoder        | DecoderNet       | 446 K \n",
      "3 | model          | EncoderDecoder   | 779 K \n",
      "4 | loss_criterion | CrossEntropyLoss | 0     \n",
      "----------------------------------------------------\n",
      "779 K     Trainable params\n",
      "0         Non-trainable params\n",
      "779 K     Total params\n",
      "3.116     Total estimated model params size (MB)\n"
     ]
    },
    {
     "data": {
      "application/json": {
       "ascii": false,
       "bar_format": null,
       "colour": null,
       "elapsed": 0.006837368011474609,
       "initial": 0,
       "n": 0,
       "ncols": null,
       "nrows": null,
       "postfix": null,
       "prefix": "Sanity Checking",
       "rate": null,
       "total": null,
       "unit": "it",
       "unit_divisor": 1000,
       "unit_scale": false
      },
      "application/vnd.jupyter.widget-view+json": {
       "model_id": "1a6b1e0253a84443b4f0e45694b60388",
       "version_major": 2,
       "version_minor": 0
      },
      "text/plain": [
       "Sanity Checking: 0it [00:00, ?it/s]"
      ]
     },
     "metadata": {},
     "output_type": "display_data"
    },
    {
     "data": {
      "application/json": {
       "ascii": false,
       "bar_format": null,
       "colour": null,
       "elapsed": 0.010339021682739258,
       "initial": 0,
       "n": 0,
       "ncols": null,
       "nrows": null,
       "postfix": null,
       "prefix": "Training",
       "rate": null,
       "total": null,
       "unit": "it",
       "unit_divisor": 1000,
       "unit_scale": false
      },
      "application/vnd.jupyter.widget-view+json": {
       "model_id": "cdd50fd477c843629f98c69933f02019",
       "version_major": 2,
       "version_minor": 0
      },
      "text/plain": [
       "Training: 0it [00:00, ?it/s]"
      ]
     },
     "metadata": {},
     "output_type": "display_data"
    },
    {
     "name": "stderr",
     "output_type": "stream",
     "text": [
      "`Trainer.fit` stopped: `max_steps=50` reached.\n",
      "GPU available: True (cuda), used: True\n",
      "TPU available: False, using: 0 TPU cores\n",
      "IPU available: False, using: 0 IPUs\n",
      "HPU available: False, using: 0 HPUs\n",
      "LOCAL_RANK: 0 - CUDA_VISIBLE_DEVICES: [0]\n",
      "\n",
      "  | Name           | Type             | Params\n",
      "----------------------------------------------------\n",
      "0 | encoder        | EncoderNet       | 332 K \n",
      "1 | decoder        | DecoderNet       | 118 K \n",
      "2 | model          | EncoderDecoder   | 450 K \n",
      "3 | loss_criterion | CrossEntropyLoss | 0     \n",
      "----------------------------------------------------\n",
      "450 K     Trainable params\n",
      "0         Non-trainable params\n",
      "450 K     Total params\n",
      "1.803     Total estimated model params size (MB)\n"
     ]
    },
    {
     "data": {
      "application/json": {
       "ascii": false,
       "bar_format": null,
       "colour": null,
       "elapsed": 0.012487173080444336,
       "initial": 0,
       "n": 0,
       "ncols": null,
       "nrows": null,
       "postfix": null,
       "prefix": "Sanity Checking",
       "rate": null,
       "total": null,
       "unit": "it",
       "unit_divisor": 1000,
       "unit_scale": false
      },
      "application/vnd.jupyter.widget-view+json": {
       "model_id": "ad6cb5851d0a44609d22180280d52c4c",
       "version_major": 2,
       "version_minor": 0
      },
      "text/plain": [
       "Sanity Checking: 0it [00:00, ?it/s]"
      ]
     },
     "metadata": {},
     "output_type": "display_data"
    },
    {
     "data": {
      "application/json": {
       "ascii": false,
       "bar_format": null,
       "colour": null,
       "elapsed": 0.006480693817138672,
       "initial": 0,
       "n": 0,
       "ncols": null,
       "nrows": null,
       "postfix": null,
       "prefix": "Training",
       "rate": null,
       "total": null,
       "unit": "it",
       "unit_divisor": 1000,
       "unit_scale": false
      },
      "application/vnd.jupyter.widget-view+json": {
       "model_id": "c9a698047f36483f8a98fe2d4f988c08",
       "version_major": 2,
       "version_minor": 0
      },
      "text/plain": [
       "Training: 0it [00:00, ?it/s]"
      ]
     },
     "metadata": {},
     "output_type": "display_data"
    },
    {
     "name": "stderr",
     "output_type": "stream",
     "text": [
      "`Trainer.fit` stopped: `max_steps=50` reached.\n",
      "GPU available: True (cuda), used: True\n",
      "TPU available: False, using: 0 TPU cores\n",
      "IPU available: False, using: 0 IPUs\n",
      "HPU available: False, using: 0 HPUs\n",
      "LOCAL_RANK: 0 - CUDA_VISIBLE_DEVICES: [0]\n",
      "\n",
      "  | Name           | Type             | Params\n",
      "----------------------------------------------------\n",
      "0 | encoder        | EncoderNet       | 102 K \n",
      "1 | attn_layer     | Attention        | 131 K \n",
      "2 | decoder        | DecoderNet       | 315 K \n",
      "3 | model          | EncoderDecoder   | 417 K \n",
      "4 | loss_criterion | CrossEntropyLoss | 0     \n",
      "----------------------------------------------------\n",
      "417 K     Trainable params\n",
      "0         Non-trainable params\n",
      "417 K     Total params\n",
      "1.671     Total estimated model params size (MB)\n"
     ]
    },
    {
     "data": {
      "application/json": {
       "ascii": false,
       "bar_format": null,
       "colour": null,
       "elapsed": 0.005705833435058594,
       "initial": 0,
       "n": 0,
       "ncols": null,
       "nrows": null,
       "postfix": null,
       "prefix": "Sanity Checking",
       "rate": null,
       "total": null,
       "unit": "it",
       "unit_divisor": 1000,
       "unit_scale": false
      },
      "application/vnd.jupyter.widget-view+json": {
       "model_id": "a48df24e995e4e5ebf87892c07cbe069",
       "version_major": 2,
       "version_minor": 0
      },
      "text/plain": [
       "Sanity Checking: 0it [00:00, ?it/s]"
      ]
     },
     "metadata": {},
     "output_type": "display_data"
    },
    {
     "data": {
      "application/json": {
       "ascii": false,
       "bar_format": null,
       "colour": null,
       "elapsed": 0.009058237075805664,
       "initial": 0,
       "n": 0,
       "ncols": null,
       "nrows": null,
       "postfix": null,
       "prefix": "Training",
       "rate": null,
       "total": null,
       "unit": "it",
       "unit_divisor": 1000,
       "unit_scale": false
      },
      "application/vnd.jupyter.widget-view+json": {
       "model_id": "6ae247f958ec4ec5b2f2fc30f3e6ab1c",
       "version_major": 2,
       "version_minor": 0
      },
      "text/plain": [
       "Training: 0it [00:00, ?it/s]"
      ]
     },
     "metadata": {},
     "output_type": "display_data"
    },
    {
     "name": "stderr",
     "output_type": "stream",
     "text": [
      "`Trainer.fit` stopped: `max_steps=50` reached.\n",
      "GPU available: True (cuda), used: True\n",
      "TPU available: False, using: 0 TPU cores\n",
      "IPU available: False, using: 0 IPUs\n",
      "HPU available: False, using: 0 HPUs\n",
      "LOCAL_RANK: 0 - CUDA_VISIBLE_DEVICES: [0]\n",
      "\n",
      "  | Name           | Type             | Params\n",
      "----------------------------------------------------\n",
      "0 | encoder        | EncoderNet       | 102 K \n",
      "1 | decoder        | DecoderNet       | 118 K \n",
      "2 | model          | EncoderDecoder   | 220 K \n",
      "3 | loss_criterion | CrossEntropyLoss | 0     \n",
      "----------------------------------------------------\n",
      "220 K     Trainable params\n",
      "0         Non-trainable params\n",
      "220 K     Total params\n",
      "0.883     Total estimated model params size (MB)\n"
     ]
    },
    {
     "data": {
      "application/json": {
       "ascii": false,
       "bar_format": null,
       "colour": null,
       "elapsed": 0.014124393463134766,
       "initial": 0,
       "n": 0,
       "ncols": null,
       "nrows": null,
       "postfix": null,
       "prefix": "Sanity Checking",
       "rate": null,
       "total": null,
       "unit": "it",
       "unit_divisor": 1000,
       "unit_scale": false
      },
      "application/vnd.jupyter.widget-view+json": {
       "model_id": "f70261c3a7354dada66b11c22ed318ed",
       "version_major": 2,
       "version_minor": 0
      },
      "text/plain": [
       "Sanity Checking: 0it [00:00, ?it/s]"
      ]
     },
     "metadata": {},
     "output_type": "display_data"
    },
    {
     "data": {
      "application/json": {
       "ascii": false,
       "bar_format": null,
       "colour": null,
       "elapsed": 0.006396770477294922,
       "initial": 0,
       "n": 0,
       "ncols": null,
       "nrows": null,
       "postfix": null,
       "prefix": "Training",
       "rate": null,
       "total": null,
       "unit": "it",
       "unit_divisor": 1000,
       "unit_scale": false
      },
      "application/vnd.jupyter.widget-view+json": {
       "model_id": "a1168c5a06cd4a6ea23b31a51518eb19",
       "version_major": 2,
       "version_minor": 0
      },
      "text/plain": [
       "Training: 0it [00:00, ?it/s]"
      ]
     },
     "metadata": {},
     "output_type": "display_data"
    },
    {
     "name": "stderr",
     "output_type": "stream",
     "text": [
      "`Trainer.fit` stopped: `max_steps=50` reached.\n",
      "GPU available: True (cuda), used: True\n",
      "TPU available: False, using: 0 TPU cores\n",
      "IPU available: False, using: 0 IPUs\n",
      "HPU available: False, using: 0 HPUs\n",
      "LOCAL_RANK: 0 - CUDA_VISIBLE_DEVICES: [0]\n",
      "\n",
      "  | Name           | Type             | Params\n",
      "----------------------------------------------------\n",
      "0 | encoder        | EncoderNet       | 4.3 M \n",
      "1 | attn_layer     | Attention        | 197 K \n",
      "2 | decoder        | DecoderNet       | 2.2 M \n",
      "3 | model          | EncoderDecoder   | 6.5 M \n",
      "4 | loss_criterion | CrossEntropyLoss | 0     \n",
      "----------------------------------------------------\n",
      "6.5 M     Trainable params\n",
      "0         Non-trainable params\n",
      "6.5 M     Total params\n",
      "26.123    Total estimated model params size (MB)\n"
     ]
    },
    {
     "data": {
      "application/json": {
       "ascii": false,
       "bar_format": null,
       "colour": null,
       "elapsed": 0.005594730377197266,
       "initial": 0,
       "n": 0,
       "ncols": null,
       "nrows": null,
       "postfix": null,
       "prefix": "Sanity Checking",
       "rate": null,
       "total": null,
       "unit": "it",
       "unit_divisor": 1000,
       "unit_scale": false
      },
      "application/vnd.jupyter.widget-view+json": {
       "model_id": "ca6c471d691a4a8da9c5872cf35e8962",
       "version_major": 2,
       "version_minor": 0
      },
      "text/plain": [
       "Sanity Checking: 0it [00:00, ?it/s]"
      ]
     },
     "metadata": {},
     "output_type": "display_data"
    },
    {
     "data": {
      "application/json": {
       "ascii": false,
       "bar_format": null,
       "colour": null,
       "elapsed": 0.0054187774658203125,
       "initial": 0,
       "n": 0,
       "ncols": null,
       "nrows": null,
       "postfix": null,
       "prefix": "Training",
       "rate": null,
       "total": null,
       "unit": "it",
       "unit_divisor": 1000,
       "unit_scale": false
      },
      "application/vnd.jupyter.widget-view+json": {
       "model_id": "76fb210aefdf4de3bf1b45c94a4fafda",
       "version_major": 2,
       "version_minor": 0
      },
      "text/plain": [
       "Training: 0it [00:00, ?it/s]"
      ]
     },
     "metadata": {},
     "output_type": "display_data"
    },
    {
     "name": "stderr",
     "output_type": "stream",
     "text": [
      "`Trainer.fit` stopped: `max_steps=50` reached.\n",
      "GPU available: True (cuda), used: True\n",
      "TPU available: False, using: 0 TPU cores\n",
      "IPU available: False, using: 0 IPUs\n",
      "HPU available: False, using: 0 HPUs\n",
      "LOCAL_RANK: 0 - CUDA_VISIBLE_DEVICES: [0]\n",
      "\n",
      "  | Name           | Type             | Params\n",
      "----------------------------------------------------\n",
      "0 | encoder        | EncoderNet       | 4.3 M \n",
      "1 | decoder        | DecoderNet       | 1.5 M \n",
      "2 | model          | EncoderDecoder   | 5.8 M \n",
      "3 | loss_criterion | CrossEntropyLoss | 0     \n",
      "----------------------------------------------------\n",
      "5.8 M     Trainable params\n",
      "0         Non-trainable params\n",
      "5.8 M     Total params\n",
      "23.238    Total estimated model params size (MB)\n"
     ]
    },
    {
     "data": {
      "application/json": {
       "ascii": false,
       "bar_format": null,
       "colour": null,
       "elapsed": 0.008222579956054688,
       "initial": 0,
       "n": 0,
       "ncols": null,
       "nrows": null,
       "postfix": null,
       "prefix": "Sanity Checking",
       "rate": null,
       "total": null,
       "unit": "it",
       "unit_divisor": 1000,
       "unit_scale": false
      },
      "application/vnd.jupyter.widget-view+json": {
       "model_id": "bc8a7ad2c9484b0192cfb796fc9c3289",
       "version_major": 2,
       "version_minor": 0
      },
      "text/plain": [
       "Sanity Checking: 0it [00:00, ?it/s]"
      ]
     },
     "metadata": {},
     "output_type": "display_data"
    },
    {
     "data": {
      "application/json": {
       "ascii": false,
       "bar_format": null,
       "colour": null,
       "elapsed": 0.0074901580810546875,
       "initial": 0,
       "n": 0,
       "ncols": null,
       "nrows": null,
       "postfix": null,
       "prefix": "Training",
       "rate": null,
       "total": null,
       "unit": "it",
       "unit_divisor": 1000,
       "unit_scale": false
      },
      "application/vnd.jupyter.widget-view+json": {
       "model_id": "fa505f22784347879bf41dab9d241352",
       "version_major": 2,
       "version_minor": 0
      },
      "text/plain": [
       "Training: 0it [00:00, ?it/s]"
      ]
     },
     "metadata": {},
     "output_type": "display_data"
    },
    {
     "name": "stderr",
     "output_type": "stream",
     "text": [
      "`Trainer.fit` stopped: `max_steps=50` reached.\n",
      "GPU available: True (cuda), used: True\n",
      "TPU available: False, using: 0 TPU cores\n",
      "IPU available: False, using: 0 IPUs\n",
      "HPU available: False, using: 0 HPUs\n",
      "LOCAL_RANK: 0 - CUDA_VISIBLE_DEVICES: [0]\n",
      "\n",
      "  | Name           | Type             | Params\n",
      "----------------------------------------------------\n",
      "0 | encoder        | EncoderNet       | 1.5 M \n",
      "1 | attn_layer     | Attention        | 131 K \n",
      "2 | decoder        | DecoderNet       | 1.9 M \n",
      "3 | model          | EncoderDecoder   | 3.3 M \n",
      "4 | loss_criterion | CrossEntropyLoss | 0     \n",
      "----------------------------------------------------\n",
      "3.3 M     Trainable params\n",
      "0         Non-trainable params\n",
      "3.3 M     Total params\n",
      "13.251    Total estimated model params size (MB)\n"
     ]
    },
    {
     "data": {
      "application/json": {
       "ascii": false,
       "bar_format": null,
       "colour": null,
       "elapsed": 0.011440277099609375,
       "initial": 0,
       "n": 0,
       "ncols": null,
       "nrows": null,
       "postfix": null,
       "prefix": "Sanity Checking",
       "rate": null,
       "total": null,
       "unit": "it",
       "unit_divisor": 1000,
       "unit_scale": false
      },
      "application/vnd.jupyter.widget-view+json": {
       "model_id": "47c397123dd44a838ad3860caa7ed49f",
       "version_major": 2,
       "version_minor": 0
      },
      "text/plain": [
       "Sanity Checking: 0it [00:00, ?it/s]"
      ]
     },
     "metadata": {},
     "output_type": "display_data"
    },
    {
     "data": {
      "application/json": {
       "ascii": false,
       "bar_format": null,
       "colour": null,
       "elapsed": 0.0066683292388916016,
       "initial": 0,
       "n": 0,
       "ncols": null,
       "nrows": null,
       "postfix": null,
       "prefix": "Training",
       "rate": null,
       "total": null,
       "unit": "it",
       "unit_divisor": 1000,
       "unit_scale": false
      },
      "application/vnd.jupyter.widget-view+json": {
       "model_id": "c898d389bb8548a5a9b9b9b3ce4e7654",
       "version_major": 2,
       "version_minor": 0
      },
      "text/plain": [
       "Training: 0it [00:00, ?it/s]"
      ]
     },
     "metadata": {},
     "output_type": "display_data"
    },
    {
     "name": "stderr",
     "output_type": "stream",
     "text": [
      "`Trainer.fit` stopped: `max_steps=50` reached.\n",
      "GPU available: True (cuda), used: True\n",
      "TPU available: False, using: 0 TPU cores\n",
      "IPU available: False, using: 0 IPUs\n",
      "HPU available: False, using: 0 HPUs\n",
      "LOCAL_RANK: 0 - CUDA_VISIBLE_DEVICES: [0]\n",
      "\n",
      "  | Name           | Type             | Params\n",
      "----------------------------------------------------\n",
      "0 | encoder        | EncoderNet       | 1.5 M \n",
      "1 | decoder        | DecoderNet       | 1.5 M \n",
      "2 | model          | EncoderDecoder   | 2.9 M \n",
      "3 | loss_criterion | CrossEntropyLoss | 0     \n",
      "----------------------------------------------------\n",
      "2.9 M     Trainable params\n",
      "0         Non-trainable params\n",
      "2.9 M     Total params\n",
      "11.676    Total estimated model params size (MB)\n"
     ]
    },
    {
     "data": {
      "application/json": {
       "ascii": false,
       "bar_format": null,
       "colour": null,
       "elapsed": 0.005633115768432617,
       "initial": 0,
       "n": 0,
       "ncols": null,
       "nrows": null,
       "postfix": null,
       "prefix": "Sanity Checking",
       "rate": null,
       "total": null,
       "unit": "it",
       "unit_divisor": 1000,
       "unit_scale": false
      },
      "application/vnd.jupyter.widget-view+json": {
       "model_id": "0db074fb13254defb2000ec72668a19d",
       "version_major": 2,
       "version_minor": 0
      },
      "text/plain": [
       "Sanity Checking: 0it [00:00, ?it/s]"
      ]
     },
     "metadata": {},
     "output_type": "display_data"
    },
    {
     "data": {
      "application/json": {
       "ascii": false,
       "bar_format": null,
       "colour": null,
       "elapsed": 0.007416248321533203,
       "initial": 0,
       "n": 0,
       "ncols": null,
       "nrows": null,
       "postfix": null,
       "prefix": "Training",
       "rate": null,
       "total": null,
       "unit": "it",
       "unit_divisor": 1000,
       "unit_scale": false
      },
      "application/vnd.jupyter.widget-view+json": {
       "model_id": "e05058f8ccf4404aa5714fafa5dbb629",
       "version_major": 2,
       "version_minor": 0
      },
      "text/plain": [
       "Training: 0it [00:00, ?it/s]"
      ]
     },
     "metadata": {},
     "output_type": "display_data"
    },
    {
     "name": "stderr",
     "output_type": "stream",
     "text": [
      "`Trainer.fit` stopped: `max_steps=50` reached.\n",
      "GPU available: True (cuda), used: True\n",
      "TPU available: False, using: 0 TPU cores\n",
      "IPU available: False, using: 0 IPUs\n",
      "HPU available: False, using: 0 HPUs\n",
      "LOCAL_RANK: 0 - CUDA_VISIBLE_DEVICES: [0]\n",
      "\n",
      "  | Name           | Type             | Params\n",
      "----------------------------------------------------\n",
      "0 | encoder        | EncoderNet       | 3.4 M \n",
      "1 | attn_layer     | Attention        | 197 K \n",
      "2 | decoder        | DecoderNet       | 1.7 M \n",
      "3 | model          | EncoderDecoder   | 5.1 M \n",
      "4 | loss_criterion | CrossEntropyLoss | 0     \n",
      "----------------------------------------------------\n",
      "5.1 M     Trainable params\n",
      "0         Non-trainable params\n",
      "5.1 M     Total params\n",
      "20.207    Total estimated model params size (MB)\n"
     ]
    },
    {
     "data": {
      "application/json": {
       "ascii": false,
       "bar_format": null,
       "colour": null,
       "elapsed": 0.008453607559204102,
       "initial": 0,
       "n": 0,
       "ncols": null,
       "nrows": null,
       "postfix": null,
       "prefix": "Sanity Checking",
       "rate": null,
       "total": null,
       "unit": "it",
       "unit_divisor": 1000,
       "unit_scale": false
      },
      "application/vnd.jupyter.widget-view+json": {
       "model_id": "2a32157bf578459fb871983884d8bfca",
       "version_major": 2,
       "version_minor": 0
      },
      "text/plain": [
       "Sanity Checking: 0it [00:00, ?it/s]"
      ]
     },
     "metadata": {},
     "output_type": "display_data"
    },
    {
     "data": {
      "application/json": {
       "ascii": false,
       "bar_format": null,
       "colour": null,
       "elapsed": 0.009557723999023438,
       "initial": 0,
       "n": 0,
       "ncols": null,
       "nrows": null,
       "postfix": null,
       "prefix": "Training",
       "rate": null,
       "total": null,
       "unit": "it",
       "unit_divisor": 1000,
       "unit_scale": false
      },
      "application/vnd.jupyter.widget-view+json": {
       "model_id": "f71954e5c1ce4f98a8fd930d1462e044",
       "version_major": 2,
       "version_minor": 0
      },
      "text/plain": [
       "Training: 0it [00:00, ?it/s]"
      ]
     },
     "metadata": {},
     "output_type": "display_data"
    },
    {
     "name": "stderr",
     "output_type": "stream",
     "text": [
      "`Trainer.fit` stopped: `max_steps=50` reached.\n",
      "GPU available: True (cuda), used: True\n",
      "TPU available: False, using: 0 TPU cores\n",
      "IPU available: False, using: 0 IPUs\n",
      "HPU available: False, using: 0 HPUs\n",
      "LOCAL_RANK: 0 - CUDA_VISIBLE_DEVICES: [0]\n",
      "\n",
      "  | Name           | Type             | Params\n",
      "----------------------------------------------------\n",
      "0 | encoder        | EncoderNet       | 3.4 M \n",
      "1 | decoder        | DecoderNet       | 1.1 M \n",
      "2 | model          | EncoderDecoder   | 4.5 M \n",
      "3 | loss_criterion | CrossEntropyLoss | 0     \n",
      "----------------------------------------------------\n",
      "4.5 M     Trainable params\n",
      "0         Non-trainable params\n",
      "4.5 M     Total params\n",
      "17.845    Total estimated model params size (MB)\n"
     ]
    },
    {
     "data": {
      "application/json": {
       "ascii": false,
       "bar_format": null,
       "colour": null,
       "elapsed": 0.01407003402709961,
       "initial": 0,
       "n": 0,
       "ncols": null,
       "nrows": null,
       "postfix": null,
       "prefix": "Sanity Checking",
       "rate": null,
       "total": null,
       "unit": "it",
       "unit_divisor": 1000,
       "unit_scale": false
      },
      "application/vnd.jupyter.widget-view+json": {
       "model_id": "4382adee6ac5456b99e36613408f5228",
       "version_major": 2,
       "version_minor": 0
      },
      "text/plain": [
       "Sanity Checking: 0it [00:00, ?it/s]"
      ]
     },
     "metadata": {},
     "output_type": "display_data"
    },
    {
     "data": {
      "application/json": {
       "ascii": false,
       "bar_format": null,
       "colour": null,
       "elapsed": 0.008831501007080078,
       "initial": 0,
       "n": 0,
       "ncols": null,
       "nrows": null,
       "postfix": null,
       "prefix": "Training",
       "rate": null,
       "total": null,
       "unit": "it",
       "unit_divisor": 1000,
       "unit_scale": false
      },
      "application/vnd.jupyter.widget-view+json": {
       "model_id": "70f50f4b5f9545d28b47af91469fb422",
       "version_major": 2,
       "version_minor": 0
      },
      "text/plain": [
       "Training: 0it [00:00, ?it/s]"
      ]
     },
     "metadata": {},
     "output_type": "display_data"
    },
    {
     "name": "stderr",
     "output_type": "stream",
     "text": [
      "`Trainer.fit` stopped: `max_steps=50` reached.\n",
      "GPU available: True (cuda), used: True\n",
      "TPU available: False, using: 0 TPU cores\n",
      "IPU available: False, using: 0 IPUs\n",
      "HPU available: False, using: 0 HPUs\n",
      "LOCAL_RANK: 0 - CUDA_VISIBLE_DEVICES: [0]\n",
      "\n",
      "  | Name           | Type             | Params\n",
      "----------------------------------------------------\n",
      "0 | encoder        | EncoderNet       | 1.1 M \n",
      "1 | attn_layer     | Attention        | 131 K \n",
      "2 | decoder        | DecoderNet       | 1.4 M \n",
      "3 | model          | EncoderDecoder   | 2.5 M \n",
      "4 | loss_criterion | CrossEntropyLoss | 0     \n",
      "----------------------------------------------------\n",
      "2.5 M     Trainable params\n",
      "0         Non-trainable params\n",
      "2.5 M     Total params\n",
      "10.093    Total estimated model params size (MB)\n"
     ]
    },
    {
     "data": {
      "application/json": {
       "ascii": false,
       "bar_format": null,
       "colour": null,
       "elapsed": 0.009931325912475586,
       "initial": 0,
       "n": 0,
       "ncols": null,
       "nrows": null,
       "postfix": null,
       "prefix": "Sanity Checking",
       "rate": null,
       "total": null,
       "unit": "it",
       "unit_divisor": 1000,
       "unit_scale": false
      },
      "application/vnd.jupyter.widget-view+json": {
       "model_id": "f39df188e0bd4ae38c637758d22be22c",
       "version_major": 2,
       "version_minor": 0
      },
      "text/plain": [
       "Sanity Checking: 0it [00:00, ?it/s]"
      ]
     },
     "metadata": {},
     "output_type": "display_data"
    },
    {
     "data": {
      "application/json": {
       "ascii": false,
       "bar_format": null,
       "colour": null,
       "elapsed": 0.027574539184570312,
       "initial": 0,
       "n": 0,
       "ncols": null,
       "nrows": null,
       "postfix": null,
       "prefix": "Training",
       "rate": null,
       "total": null,
       "unit": "it",
       "unit_divisor": 1000,
       "unit_scale": false
      },
      "application/vnd.jupyter.widget-view+json": {
       "model_id": "f9ec1157cc274f56bab39203f5af64b6",
       "version_major": 2,
       "version_minor": 0
      },
      "text/plain": [
       "Training: 0it [00:00, ?it/s]"
      ]
     },
     "metadata": {},
     "output_type": "display_data"
    },
    {
     "name": "stderr",
     "output_type": "stream",
     "text": [
      "`Trainer.fit` stopped: `max_steps=50` reached.\n",
      "GPU available: True (cuda), used: True\n",
      "TPU available: False, using: 0 TPU cores\n",
      "IPU available: False, using: 0 IPUs\n",
      "HPU available: False, using: 0 HPUs\n",
      "LOCAL_RANK: 0 - CUDA_VISIBLE_DEVICES: [0]\n",
      "\n",
      "  | Name           | Type             | Params\n",
      "----------------------------------------------------\n",
      "0 | encoder        | EncoderNet       | 1.1 M \n",
      "1 | decoder        | DecoderNet       | 1.1 M \n",
      "2 | model          | EncoderDecoder   | 2.2 M \n",
      "3 | loss_criterion | CrossEntropyLoss | 0     \n",
      "----------------------------------------------------\n",
      "2.2 M     Trainable params\n",
      "0         Non-trainable params\n",
      "2.2 M     Total params\n",
      "8.780     Total estimated model params size (MB)\n"
     ]
    },
    {
     "data": {
      "application/json": {
       "ascii": false,
       "bar_format": null,
       "colour": null,
       "elapsed": 0.029184818267822266,
       "initial": 0,
       "n": 0,
       "ncols": null,
       "nrows": null,
       "postfix": null,
       "prefix": "Sanity Checking",
       "rate": null,
       "total": null,
       "unit": "it",
       "unit_divisor": 1000,
       "unit_scale": false
      },
      "application/vnd.jupyter.widget-view+json": {
       "model_id": "ea5894e9cd8d497f9a661a8c6dcee007",
       "version_major": 2,
       "version_minor": 0
      },
      "text/plain": [
       "Sanity Checking: 0it [00:00, ?it/s]"
      ]
     },
     "metadata": {},
     "output_type": "display_data"
    },
    {
     "data": {
      "application/json": {
       "ascii": false,
       "bar_format": null,
       "colour": null,
       "elapsed": 0.03301382064819336,
       "initial": 0,
       "n": 0,
       "ncols": null,
       "nrows": null,
       "postfix": null,
       "prefix": "Training",
       "rate": null,
       "total": null,
       "unit": "it",
       "unit_divisor": 1000,
       "unit_scale": false
      },
      "application/vnd.jupyter.widget-view+json": {
       "model_id": "bd47a1fded2e4b5e9af0bc812e2f6722",
       "version_major": 2,
       "version_minor": 0
      },
      "text/plain": [
       "Training: 0it [00:00, ?it/s]"
      ]
     },
     "metadata": {},
     "output_type": "display_data"
    },
    {
     "name": "stderr",
     "output_type": "stream",
     "text": [
      "`Trainer.fit` stopped: `max_steps=50` reached.\n",
      "GPU available: True (cuda), used: True\n",
      "TPU available: False, using: 0 TPU cores\n",
      "IPU available: False, using: 0 IPUs\n",
      "HPU available: False, using: 0 HPUs\n",
      "LOCAL_RANK: 0 - CUDA_VISIBLE_DEVICES: [0]\n",
      "\n",
      "  | Name           | Type             | Params\n",
      "----------------------------------------------------\n",
      "0 | encoder        | EncoderNet       | 1.4 M \n",
      "1 | attn_layer     | Attention        | 197 K \n",
      "2 | decoder        | DecoderNet       | 709 K \n",
      "3 | model          | EncoderDecoder   | 2.1 M \n",
      "4 | loss_criterion | CrossEntropyLoss | 0     \n",
      "----------------------------------------------------\n",
      "2.1 M     Trainable params\n",
      "0         Non-trainable params\n",
      "2.1 M     Total params\n",
      "8.373     Total estimated model params size (MB)\n"
     ]
    },
    {
     "data": {
      "application/json": {
       "ascii": false,
       "bar_format": null,
       "colour": null,
       "elapsed": 0.00778508186340332,
       "initial": 0,
       "n": 0,
       "ncols": null,
       "nrows": null,
       "postfix": null,
       "prefix": "Sanity Checking",
       "rate": null,
       "total": null,
       "unit": "it",
       "unit_divisor": 1000,
       "unit_scale": false
      },
      "application/vnd.jupyter.widget-view+json": {
       "model_id": "485d87d75e1c4125a690bde7d48b0e5f",
       "version_major": 2,
       "version_minor": 0
      },
      "text/plain": [
       "Sanity Checking: 0it [00:00, ?it/s]"
      ]
     },
     "metadata": {},
     "output_type": "display_data"
    },
    {
     "data": {
      "application/json": {
       "ascii": false,
       "bar_format": null,
       "colour": null,
       "elapsed": 0.00824284553527832,
       "initial": 0,
       "n": 0,
       "ncols": null,
       "nrows": null,
       "postfix": null,
       "prefix": "Training",
       "rate": null,
       "total": null,
       "unit": "it",
       "unit_divisor": 1000,
       "unit_scale": false
      },
      "application/vnd.jupyter.widget-view+json": {
       "model_id": "585ced34659f46ff9a57638c1c3ba582",
       "version_major": 2,
       "version_minor": 0
      },
      "text/plain": [
       "Training: 0it [00:00, ?it/s]"
      ]
     },
     "metadata": {},
     "output_type": "display_data"
    },
    {
     "name": "stderr",
     "output_type": "stream",
     "text": [
      "`Trainer.fit` stopped: `max_steps=50` reached.\n",
      "GPU available: True (cuda), used: True\n",
      "TPU available: False, using: 0 TPU cores\n",
      "IPU available: False, using: 0 IPUs\n",
      "HPU available: False, using: 0 HPUs\n",
      "LOCAL_RANK: 0 - CUDA_VISIBLE_DEVICES: [0]\n",
      "\n",
      "  | Name           | Type             | Params\n",
      "----------------------------------------------------\n",
      "0 | encoder        | EncoderNet       | 1.4 M \n",
      "1 | decoder        | DecoderNet       | 381 K \n",
      "2 | model          | EncoderDecoder   | 1.8 M \n",
      "3 | loss_criterion | CrossEntropyLoss | 0     \n",
      "----------------------------------------------------\n",
      "1.8 M     Trainable params\n",
      "0         Non-trainable params\n",
      "1.8 M     Total params\n",
      "7.061     Total estimated model params size (MB)\n"
     ]
    },
    {
     "data": {
      "application/json": {
       "ascii": false,
       "bar_format": null,
       "colour": null,
       "elapsed": 0.01730966567993164,
       "initial": 0,
       "n": 0,
       "ncols": null,
       "nrows": null,
       "postfix": null,
       "prefix": "Sanity Checking",
       "rate": null,
       "total": null,
       "unit": "it",
       "unit_divisor": 1000,
       "unit_scale": false
      },
      "application/vnd.jupyter.widget-view+json": {
       "model_id": "7c40907a835f403ba3a836854d9fa3e6",
       "version_major": 2,
       "version_minor": 0
      },
      "text/plain": [
       "Sanity Checking: 0it [00:00, ?it/s]"
      ]
     },
     "metadata": {},
     "output_type": "display_data"
    },
    {
     "data": {
      "application/json": {
       "ascii": false,
       "bar_format": null,
       "colour": null,
       "elapsed": 0.027895450592041016,
       "initial": 0,
       "n": 0,
       "ncols": null,
       "nrows": null,
       "postfix": null,
       "prefix": "Training",
       "rate": null,
       "total": null,
       "unit": "it",
       "unit_divisor": 1000,
       "unit_scale": false
      },
      "application/vnd.jupyter.widget-view+json": {
       "model_id": "a8e1ec40d9ac45a78e121d52676a4c6a",
       "version_major": 2,
       "version_minor": 0
      },
      "text/plain": [
       "Training: 0it [00:00, ?it/s]"
      ]
     },
     "metadata": {},
     "output_type": "display_data"
    },
    {
     "name": "stderr",
     "output_type": "stream",
     "text": [
      "`Trainer.fit` stopped: `max_steps=50` reached.\n",
      "GPU available: True (cuda), used: True\n",
      "TPU available: False, using: 0 TPU cores\n",
      "IPU available: False, using: 0 IPUs\n",
      "HPU available: False, using: 0 HPUs\n",
      "LOCAL_RANK: 0 - CUDA_VISIBLE_DEVICES: [0]\n",
      "\n",
      "  | Name           | Type             | Params\n",
      "----------------------------------------------------\n",
      "0 | encoder        | EncoderNet       | 365 K \n",
      "1 | attn_layer     | Attention        | 131 K \n",
      "2 | decoder        | DecoderNet       | 578 K \n",
      "3 | model          | EncoderDecoder   | 944 K \n",
      "4 | loss_criterion | CrossEntropyLoss | 0     \n",
      "----------------------------------------------------\n",
      "944 K     Trainable params\n",
      "0         Non-trainable params\n",
      "944 K     Total params\n",
      "3.777     Total estimated model params size (MB)\n"
     ]
    },
    {
     "data": {
      "application/json": {
       "ascii": false,
       "bar_format": null,
       "colour": null,
       "elapsed": 0.014769554138183594,
       "initial": 0,
       "n": 0,
       "ncols": null,
       "nrows": null,
       "postfix": null,
       "prefix": "Sanity Checking",
       "rate": null,
       "total": null,
       "unit": "it",
       "unit_divisor": 1000,
       "unit_scale": false
      },
      "application/vnd.jupyter.widget-view+json": {
       "model_id": "3792b79b79e24c33ba558e7336e33943",
       "version_major": 2,
       "version_minor": 0
      },
      "text/plain": [
       "Sanity Checking: 0it [00:00, ?it/s]"
      ]
     },
     "metadata": {},
     "output_type": "display_data"
    },
    {
     "data": {
      "application/json": {
       "ascii": false,
       "bar_format": null,
       "colour": null,
       "elapsed": 0.01420450210571289,
       "initial": 0,
       "n": 0,
       "ncols": null,
       "nrows": null,
       "postfix": null,
       "prefix": "Training",
       "rate": null,
       "total": null,
       "unit": "it",
       "unit_divisor": 1000,
       "unit_scale": false
      },
      "application/vnd.jupyter.widget-view+json": {
       "model_id": "5e1b6aa448d24654bf462647abb64410",
       "version_major": 2,
       "version_minor": 0
      },
      "text/plain": [
       "Training: 0it [00:00, ?it/s]"
      ]
     },
     "metadata": {},
     "output_type": "display_data"
    },
    {
     "name": "stderr",
     "output_type": "stream",
     "text": [
      "`Trainer.fit` stopped: `max_steps=50` reached.\n",
      "GPU available: True (cuda), used: True\n",
      "TPU available: False, using: 0 TPU cores\n",
      "IPU available: False, using: 0 IPUs\n",
      "HPU available: False, using: 0 HPUs\n",
      "LOCAL_RANK: 0 - CUDA_VISIBLE_DEVICES: [0]\n",
      "\n",
      "  | Name           | Type             | Params\n",
      "----------------------------------------------------\n",
      "0 | encoder        | EncoderNet       | 365 K \n",
      "1 | decoder        | DecoderNet       | 381 K \n",
      "2 | model          | EncoderDecoder   | 747 K \n",
      "3 | loss_criterion | CrossEntropyLoss | 0     \n",
      "----------------------------------------------------\n",
      "747 K     Trainable params\n",
      "0         Non-trainable params\n",
      "747 K     Total params\n",
      "2.988     Total estimated model params size (MB)\n"
     ]
    },
    {
     "data": {
      "application/json": {
       "ascii": false,
       "bar_format": null,
       "colour": null,
       "elapsed": 0.010474681854248047,
       "initial": 0,
       "n": 0,
       "ncols": null,
       "nrows": null,
       "postfix": null,
       "prefix": "Sanity Checking",
       "rate": null,
       "total": null,
       "unit": "it",
       "unit_divisor": 1000,
       "unit_scale": false
      },
      "application/vnd.jupyter.widget-view+json": {
       "model_id": "09f724573f814976ae739f6927bf9d41",
       "version_major": 2,
       "version_minor": 0
      },
      "text/plain": [
       "Sanity Checking: 0it [00:00, ?it/s]"
      ]
     },
     "metadata": {},
     "output_type": "display_data"
    },
    {
     "data": {
      "application/json": {
       "ascii": false,
       "bar_format": null,
       "colour": null,
       "elapsed": 0.009620904922485352,
       "initial": 0,
       "n": 0,
       "ncols": null,
       "nrows": null,
       "postfix": null,
       "prefix": "Training",
       "rate": null,
       "total": null,
       "unit": "it",
       "unit_divisor": 1000,
       "unit_scale": false
      },
      "application/vnd.jupyter.widget-view+json": {
       "model_id": "34054922df874c899c201a48be307b5f",
       "version_major": 2,
       "version_minor": 0
      },
      "text/plain": [
       "Training: 0it [00:00, ?it/s]"
      ]
     },
     "metadata": {},
     "output_type": "display_data"
    },
    {
     "name": "stderr",
     "output_type": "stream",
     "text": [
      "`Trainer.fit` stopped: `max_steps=50` reached.\n"
     ]
    }
   ],
   "source": [
    "# NOTE -> performing BUG SEARCH\n",
    "# testing all combinations to catch bugs\n",
    "# RESULT -> all clear; no bugs caught\n",
    "num_lay = [1,3]\n",
    "ctype = ['LSTM', 'GRU', 'RNN']\n",
    "bidirect = [True, False]\n",
    "attn = [True, False]\n",
    "\n",
    "for n in num_lay:\n",
    "    for c in ctype:\n",
    "        for b in bidirect:\n",
    "            for a in attn:\n",
    "                runner = Runner(SRC_LANG, TAR_LANG, 128, n, 256, c, b, a, 0.05, 'Adam', learning_rate=2e-3, batch_size=128)\n",
    "                trainer = plt.Trainer(max_steps=50)\n",
    "                trainer.fit(runner)"
   ]
  },
  {
   "cell_type": "code",
   "execution_count": 17,
   "metadata": {},
   "outputs": [
    {
     "name": "stderr",
     "output_type": "stream",
     "text": [
      "GPU available: True (cuda), used: True\n",
      "TPU available: False, using: 0 TPU cores\n",
      "IPU available: False, using: 0 IPUs\n",
      "HPU available: False, using: 0 HPUs\n",
      "LOCAL_RANK: 0 - CUDA_VISIBLE_DEVICES: [0]\n",
      "\n",
      "  | Name           | Type             | Params\n",
      "----------------------------------------------------\n",
      "0 | encoder        | EncoderNet       | 158 K \n",
      "1 | attn_layer     | Attention        | 49.4 K\n",
      "2 | decoder        | DecoderNet       | 220 K \n",
      "3 | model          | EncoderDecoder   | 379 K \n",
      "4 | loss_criterion | CrossEntropyLoss | 0     \n",
      "----------------------------------------------------\n",
      "379 K     Trainable params\n",
      "0         Non-trainable params\n",
      "379 K     Total params\n",
      "1.517     Total estimated model params size (MB)\n"
     ]
    },
    {
     "data": {
      "application/json": {
       "ascii": false,
       "bar_format": null,
       "colour": null,
       "elapsed": 0.00915074348449707,
       "initial": 0,
       "n": 0,
       "ncols": null,
       "nrows": null,
       "postfix": null,
       "prefix": "Training",
       "rate": null,
       "total": null,
       "unit": "it",
       "unit_divisor": 1000,
       "unit_scale": false
      },
      "application/vnd.jupyter.widget-view+json": {
       "model_id": "59ac3c2a08b9422dbe11e041f9b2ff7d",
       "version_major": 2,
       "version_minor": 0
      },
      "text/plain": [
       "Training: 0it [00:00, ?it/s]"
      ]
     },
     "metadata": {},
     "output_type": "display_data"
    },
    {
     "name": "stderr",
     "output_type": "stream",
     "text": [
      "`Trainer.fit` stopped: `max_epochs=1` reached.\n"
     ]
    },
    {
     "name": "stdout",
     "output_type": "stream",
     "text": [
      "51200\n",
      "('फिोऑऋचउ्म्ीद़उंंं', 'शस्त्रागार')\n",
      "('झफञैैृऋसऔदंंंंंंं', 'बिन्द्या')\n",
      "('ढढथथथ', 'किरणकांत')\n",
      "('थगअच', 'यज्ञोपवीत')\n",
      "('फििीघघैैफंचंटऽचचं', 'रटानिया')\n",
      "('ढि्मँऽ', 'वागण्याचे')\n",
      "('ढचइॉेऋऋआआऽऋढशढढॉच', 'देशभरामध्ये')\n",
      "('फिञैैजजैऑःटटचचचउच', 'सुघड़पन')\n",
      "('फििफणङऋुहहंचछवंंं', 'मोहीवाल')\n",
      "('ौँौऽषऑंतऽ', 'सर्वसंग्रह')\n",
      "('थगोससफऑंंचचचचचचछच', 'बसेको')\n",
      "('िथञँँऽौधअःससढढचछं', 'तुमच्यापैकी')\n",
      "('ेः््ऽससऑफऽअफिॉचछच', 'कान्यकुब्ज')\n",
      "('थगिघऊ', 'इनटॉक्सिनेशन')\n",
      "('गतततःसससञॉघफिथऽवं', 'मेच्यूरिटी')\n",
      "('थगङणउफिंचंंंंंंंं', 'अगरी')\n",
      "('', 'अनुक्रमानुपात')\n",
      "('', 'धूलचन्द')\n",
      "('फिाटचंऑटंंंंंटऽवट', 'अवलेह')\n",
      "('ऽझफसङण्ंफचंचचचचउच', 'एबरोर्ड')\n",
      "('फिःटउछषषंचंटचचंंट', 'बैलर्स')\n",
      "('थगअणऔँँ%थंचचछंचछच', 'बार्गली')\n",
      "('फिटोफ', 'पंक्चर्ड')\n",
      "('ढइथढथौटटइचचचचछंंं', 'हैंकर्स')\n",
      "('फि@औआऑग', 'जवानोंके')\n",
      "('ढॉ%ऽ', 'पौंकी')\n",
      "('फधँटम्षषंचचचचउंंं', 'जगनधाम')\n",
      "('झँििऽघैसँफचचच%चछच', 'पोन्नियम')\n",
      "('तफणेइ्चचफचचचछआचचं', 'आईएनबीए')\n",
      "('फि्िथँँचचचचंटंंटं', 'वेदलम')\n",
      "('फिञिञीघइलचचचछंकंट', 'चिनवास')\n",
      "('फि्णबऔीज्फंंंंंटं', 'मारवाड़ा')\n",
      "('फिगङअफगफंंंंंंंंं', 'अनसमझा')\n",
      "('ढििऽळसढअऑंछछंंंंढ', 'इस्टूडेंट')\n",
      "('ढििउऋषाेछंंंढऽऽकं', 'दुःखीत')\n",
      "('तफञैैैैदेंछचउउछंं', 'सिघांची')\n",
      "('झेथ', 'शिक्षेचे')\n",
      "('ढचऋचउशढकफचचचछछंंं', 'उज्वलतम')\n",
      "('गँङमँमँथंंंंटंंंं', 'आपट्टन')\n",
      "('ऊैऽऽ', 'अम्बिकावन')\n",
      "('फिणङैफिंंटंचछआचउं', 'खगनी')\n",
      "('फिथैैआैैषछंचचउंटं', 'थियामिन')\n",
      "('ढऽिॉॉे़्औअथ', 'सोशियोलाजिकल')\n",
      "('ढाढहङंंटंचचचछंंंं', 'एप')\n",
      "('फि्अाऔऋपफंंंंटंटट', 'भाजपाको')\n",
      "('फिऑऑऋऽषथथछचचचॅचछच', 'इस्तिथि')\n",
      "('गँ्ससघऱं़ंंंंटंं', 'छायाटांड')\n",
      "('े', 'तोपवाल')\n",
      "('ढैॉृफऔऔ्फचंंंंंंं', 'गुदवाते')\n",
      "('झँऽङअअअदथछंचछबचछं', 'विसलेरी')\n"
     ]
    }
   ],
   "source": [
    "# testing runner\n",
    "# keep embedding small (around 32) -> important to get dense embedding\n",
    "# also, adjust learning rate reasonably\n",
    "\n",
    "runner = Runner(SRC_LANG, TAR_LANG, 32, 1, 128, 'GRU', True, True, 0.2, 'Adam', learning_rate=1e-3, batch_size=128)\n",
    "trainer = lt.Trainer(max_epochs=1)\n",
    "trainer.fit(runner)"
   ]
  },
  {
   "cell_type": "code",
   "execution_count": 13,
   "metadata": {},
   "outputs": [
    {
     "name": "stderr",
     "output_type": "stream",
     "text": [
      "GPU available: True (cuda), used: True\n",
      "TPU available: False, using: 0 TPU cores\n",
      "IPU available: False, using: 0 IPUs\n",
      "HPU available: False, using: 0 HPUs\n",
      "LOCAL_RANK: 0 - CUDA_VISIBLE_DEVICES: [0]\n",
      "\n",
      "  | Name           | Type             | Params\n",
      "----------------------------------------------------\n",
      "0 | encoder        | EncoderNet       | 1.1 M \n",
      "1 | decoder        | DecoderNet       | 358 K \n",
      "2 | model          | EncoderDecoder   | 1.4 M \n",
      "3 | loss_criterion | CrossEntropyLoss | 0     \n",
      "----------------------------------------------------\n",
      "1.4 M     Trainable params\n",
      "0         Non-trainable params\n",
      "1.4 M     Total params\n",
      "5.657     Total estimated model params size (MB)\n"
     ]
    },
    {
     "data": {
      "application/json": {
       "ascii": false,
       "bar_format": null,
       "colour": null,
       "elapsed": 0.008201122283935547,
       "initial": 0,
       "n": 0,
       "ncols": null,
       "nrows": null,
       "postfix": null,
       "prefix": "Training",
       "rate": null,
       "total": null,
       "unit": "it",
       "unit_divisor": 1000,
       "unit_scale": false
      },
      "application/vnd.jupyter.widget-view+json": {
       "model_id": "77c88964fef54c689fb30f17218c056d",
       "version_major": 2,
       "version_minor": 0
      },
      "text/plain": [
       "Training: 0it [00:00, ?it/s]"
      ]
     },
     "metadata": {},
     "output_type": "display_data"
    },
    {
     "name": "stderr",
     "output_type": "stream",
     "text": [
      "`Trainer.fit` stopped: `max_epochs=1` reached.\n"
     ]
    },
    {
     "name": "stdout",
     "output_type": "stream",
     "text": [
      "51200\n",
      "('स', 'शस्त्रागार')\n",
      "('न%ररोअणणढव!आआआगआआ', 'बिन्द्या')\n",
      "('ऐउउउ', 'किरणकांत')\n",
      "('', 'यज्ञोपवीत')\n",
      "('', 'रटानिया')\n",
      "('', 'वागण्याचे')\n",
      "('', 'देशभरामध्ये')\n",
      "('ऽऐऐऐअअऐ्््गगआआआआआ', 'सुघड़पन')\n",
      "('', 'मोहीवाल')\n",
      "('!ाावव@ममणणणढााृखआ', 'सर्वसंग्रह')\n",
      "('ढढढऐचऐऐ@डआआआआआआआआ', 'बसेको')\n",
      "('', 'तुमच्यापैकी')\n",
      "('', 'कान्यकुब्ज')\n",
      "('%रररररहऐऐऐऐऐोराफज', 'इनटॉक्सिनेशन')\n",
      "('नडऐऐऐ', 'मेच्यूरिटी')\n",
      "('', 'अगरी')\n",
      "('र', 'अनुक्रमानुपात')\n",
      "('', 'धूलचन्द')\n",
      "('', 'अवलेह')\n",
      "('ग', 'एबरोर्ड')\n",
      "('ौढ', 'बैलर्स')\n",
      "('', 'बार्गली')\n",
      "('', 'पंक्चर्ड')\n",
      "('ऐऽा', 'हैंकर्स')\n",
      "('ऽ', 'जवानोंके')\n",
      "('', 'पौंकी')\n",
      "('', 'जगनधाम')\n",
      "('', 'पोन्नियम')\n",
      "('ऐ%%!उरररधशशआआआआआआ', 'आईएनबीए')\n",
      "('', 'वेदलम')\n",
      "('उककडरइइइवववआआआआआऊ', 'चिनवास')\n",
      "('ऽऊऊऊरररररर!!ववगगआ', 'मारवाड़ा')\n",
      "('उ%', 'अनसमझा')\n",
      "('उउस', 'इस्टूडेंट')\n",
      "('गमऐऽऽढऽववइगगआगगगग', 'दुःखीत')\n",
      "('ऐ', 'सिघांची')\n",
      "('लँँाऐ', 'शिक्षेचे')\n",
      "('चऽँऔऽऔऔझझआआआआआआआऑ', 'उज्वलतम')\n",
      "('%ऋगगउउफढ@वफऑआऑचआज', 'आपट्टन')\n",
      "('ऊ', 'अम्बिकावन')\n",
      "('ऽऽऐाणहैवआआआआआआआआआ', 'खगनी')\n",
      "('%ऋ%ोककरररागगआगगखज', 'थियामिन')\n",
      "('बगगडाााााॅसररररतख', 'सोशियोलाजिकल')\n",
      "('ऽऽउऐऔमआआआआआआआआजजआ', 'एप')\n",
      "('गऐृााररर!ववआआआआआऑ', 'भाजपाको')\n",
      "('', 'इस्तिथि')\n",
      "('ऽऽऊचचाचचचऊखखआआजजज', 'छायाटांड')\n",
      "('ऽऽऽऽऽऽऽऽःआआआआआमआआ', 'तोपवाल')\n",
      "('ौाअढॉंझइववऽआऑऑऑजऑ', 'गुदवाते')\n",
      "('', 'विसलेरी')\n"
     ]
    }
   ],
   "source": [
    "# testing runner\n",
    "# keep embedding small (around 32) -> important to get dense embedding\n",
    "# also, adjust learning rate reasonably\n",
    "\n",
    "runner = Runner(SRC_LANG, TAR_LANG, 32, 3, 128, 'LSTM', True, False, 0.2, 'Adam', learning_rate=1e-3, batch_size=128)\n",
    "trainer = plt.Trainer(max_epochs=1)\n",
    "trainer.fit(runner)"
   ]
  },
  {
   "cell_type": "code",
   "execution_count": 14,
   "metadata": {},
   "outputs": [
    {
     "name": "stderr",
     "output_type": "stream",
     "text": [
      "GPU available: True (cuda), used: True\n",
      "TPU available: False, using: 0 TPU cores\n",
      "IPU available: False, using: 0 IPUs\n",
      "HPU available: False, using: 0 HPUs\n",
      "LOCAL_RANK: 0 - CUDA_VISIBLE_DEVICES: [0]\n",
      "\n",
      "  | Name           | Type             | Params\n",
      "----------------------------------------------------\n",
      "0 | encoder        | EncoderNet       | 1.1 M \n",
      "1 | decoder        | DecoderNet       | 358 K \n",
      "2 | model          | EncoderDecoder   | 1.4 M \n",
      "3 | loss_criterion | CrossEntropyLoss | 0     \n",
      "----------------------------------------------------\n",
      "1.4 M     Trainable params\n",
      "0         Non-trainable params\n",
      "1.4 M     Total params\n",
      "5.657     Total estimated model params size (MB)\n"
     ]
    },
    {
     "data": {
      "application/json": {
       "ascii": false,
       "bar_format": null,
       "colour": null,
       "elapsed": 0.0062983036041259766,
       "initial": 0,
       "n": 0,
       "ncols": null,
       "nrows": null,
       "postfix": null,
       "prefix": "Training",
       "rate": null,
       "total": null,
       "unit": "it",
       "unit_divisor": 1000,
       "unit_scale": false
      },
      "application/vnd.jupyter.widget-view+json": {
       "model_id": "3bb57c1e6015462dac23374276e50871",
       "version_major": 2,
       "version_minor": 0
      },
      "text/plain": [
       "Training: 0it [00:00, ?it/s]"
      ]
     },
     "metadata": {},
     "output_type": "display_data"
    },
    {
     "name": "stderr",
     "output_type": "stream",
     "text": [
      "`Trainer.fit` stopped: `max_epochs=1` reached.\n"
     ]
    },
    {
     "name": "stdout",
     "output_type": "stream",
     "text": [
      "51200\n",
      "('स', 'शस्त्रागार')\n",
      "('न%ररोअणणढव!आआआगआआ', 'बिन्द्या')\n",
      "('ऐउउउ', 'किरणकांत')\n",
      "('', 'यज्ञोपवीत')\n",
      "('', 'रटानिया')\n",
      "('', 'वागण्याचे')\n",
      "('', 'देशभरामध्ये')\n",
      "('ऽऐऐऐअअऐ्््गगआआआआआ', 'सुघड़पन')\n",
      "('', 'मोहीवाल')\n",
      "('!ाावव@ममणणणढााृखआ', 'सर्वसंग्रह')\n",
      "('ढढढऐचऐऐ@डआआआआआआआआ', 'बसेको')\n",
      "('', 'तुमच्यापैकी')\n",
      "('', 'कान्यकुब्ज')\n",
      "('%रररररहऐऐऐऐऐोराफज', 'इनटॉक्सिनेशन')\n",
      "('नडऐऐऐ', 'मेच्यूरिटी')\n",
      "('', 'अगरी')\n",
      "('र', 'अनुक्रमानुपात')\n",
      "('', 'धूलचन्द')\n",
      "('', 'अवलेह')\n",
      "('ग', 'एबरोर्ड')\n",
      "('ौढ', 'बैलर्स')\n",
      "('', 'बार्गली')\n",
      "('', 'पंक्चर्ड')\n",
      "('ऐऽा', 'हैंकर्स')\n",
      "('ऽ', 'जवानोंके')\n",
      "('', 'पौंकी')\n",
      "('', 'जगनधाम')\n",
      "('', 'पोन्नियम')\n",
      "('ऐ%%!उरररधशशआआआआआआ', 'आईएनबीए')\n",
      "('', 'वेदलम')\n",
      "('उककडरइइइवववआआआआआऊ', 'चिनवास')\n",
      "('ऽऊऊऊरररररर!!ववगगआ', 'मारवाड़ा')\n",
      "('उ%', 'अनसमझा')\n",
      "('उउस', 'इस्टूडेंट')\n",
      "('गमऐऽऽढऽववइगगआगगगग', 'दुःखीत')\n",
      "('ऐ', 'सिघांची')\n",
      "('लँँाऐ', 'शिक्षेचे')\n",
      "('चऽँऔऽऔऔझझआआआआआआआऑ', 'उज्वलतम')\n",
      "('%ऋगगउउफढ@वफऑआऑचआज', 'आपट्टन')\n",
      "('ऊ', 'अम्बिकावन')\n",
      "('ऽऽऐाणहैवआआआआआआआआआ', 'खगनी')\n",
      "('%ऋ%ोककरररागगआगगखज', 'थियामिन')\n",
      "('बगगडाााााॅसररररतख', 'सोशियोलाजिकल')\n",
      "('ऽऽउऐऔमआआआआआआआआजजआ', 'एप')\n",
      "('गऐृााररर!ववआआआआआऑ', 'भाजपाको')\n",
      "('', 'इस्तिथि')\n",
      "('ऽऽऊचचाचचचऊखखआआजजज', 'छायाटांड')\n",
      "('ऽऽऽऽऽऽऽऽःआआआआआमआआ', 'तोपवाल')\n",
      "('ौाअढॉंझइववऽआऑऑऑजऑ', 'गुदवाते')\n",
      "('', 'विसलेरी')\n"
     ]
    }
   ],
   "source": [
    "# testing runner\n",
    "# keep embedding small (around 32) -> important to get dense embedding\n",
    "# also, adjust learning rate reasonably\n",
    "\n",
    "runner = Runner(SRC_LANG, TAR_LANG, 32, 3, 128, 'LSTM', True, False, 0.2, 'Adam', learning_rate=1e-3, batch_size=128)\n",
    "trainer = plt.Trainer(max_epochs=1)\n",
    "trainer.fit(runner)"
   ]
  },
  {
   "cell_type": "code",
   "execution_count": 15,
   "metadata": {},
   "outputs": [
    {
     "name": "stderr",
     "output_type": "stream",
     "text": [
      "GPU available: True (cuda), used: True\n",
      "TPU available: False, using: 0 TPU cores\n",
      "IPU available: False, using: 0 IPUs\n",
      "HPU available: False, using: 0 HPUs\n",
      "LOCAL_RANK: 0 - CUDA_VISIBLE_DEVICES: [0]\n",
      "\n",
      "  | Name           | Type             | Params\n",
      "----------------------------------------------------\n",
      "0 | encoder        | EncoderNet       | 816 K \n",
      "1 | decoder        | DecoderNet       | 271 K \n",
      "2 | model          | EncoderDecoder   | 1.1 M \n",
      "3 | loss_criterion | CrossEntropyLoss | 0     \n",
      "----------------------------------------------------\n",
      "1.1 M     Trainable params\n",
      "0         Non-trainable params\n",
      "1.1 M     Total params\n",
      "4.353     Total estimated model params size (MB)\n"
     ]
    },
    {
     "data": {
      "application/json": {
       "ascii": false,
       "bar_format": null,
       "colour": null,
       "elapsed": 0.00626826286315918,
       "initial": 0,
       "n": 0,
       "ncols": null,
       "nrows": null,
       "postfix": null,
       "prefix": "Training",
       "rate": null,
       "total": null,
       "unit": "it",
       "unit_divisor": 1000,
       "unit_scale": false
      },
      "application/vnd.jupyter.widget-view+json": {
       "model_id": "164e45e626f94bb59c0caad2af94fd18",
       "version_major": 2,
       "version_minor": 0
      },
      "text/plain": [
       "Training: 0it [00:00, ?it/s]"
      ]
     },
     "metadata": {},
     "output_type": "display_data"
    },
    {
     "name": "stderr",
     "output_type": "stream",
     "text": [
      "`Trainer.fit` stopped: `max_epochs=1` reached.\n"
     ]
    },
    {
     "name": "stdout",
     "output_type": "stream",
     "text": [
      "51200\n",
      "('ळळतततममससतडबँँँओथ', 'शस्त्रागार')\n",
      "('तौ', 'बिन्द्या')\n",
      "('ःौौौौटटटटटटटटधञञञ', 'किरणकांत')\n",
      "('धधौतधममझझझसोोमवव', 'यज्ञोपवीत')\n",
      "('ंटयटटटटतततसूऔेेञे', 'रटानिया')\n",
      "('ौततसौछछसफफफसऐऐऐेे', 'वागण्याचे')\n",
      "('मततततननबबनअबमभफमम', 'देशभरामध्ये')\n",
      "('मूळळममोंनईृधधधञञञ', 'सुघड़पन')\n",
      "('दममखखखखतततँँँेोेञ', 'मोहीवाल')\n",
      "('तौटममखखखमममममोञेे', 'सर्वसंग्रह')\n",
      "('मम', 'बसेको')\n",
      "('ळधधचनमममम', 'तुमच्यापैकी')\n",
      "('ळळआसससससटटङटअअअऊअ', 'कान्यकुब्ज')\n",
      "('ळळसऐऐऐञञळमममखखखखख', 'इनटॉक्सिनेशन')\n",
      "('ऽममममखे', 'मेच्यूरिटी')\n",
      "('गछछछयंयफय%थञञेेेे', 'अगरी')\n",
      "('तधधछऊअअअ%%%%थथ%%%', 'अनुक्रमानुपात')\n",
      "('ंटओटटटटखखखधध्ञय्े', 'धूलचन्द')\n",
      "('धळळयळसतमखेे्ख@', 'अवलेह')\n",
      "('ँळतऔऔऔऔममम्््््ेे', 'एबरोर्ड')\n",
      "('ऽौऽआंंंखमञ%थेेञञे', 'बैलर्स')\n",
      "('एटटटटटटसससरञञञटय', 'बार्गली')\n",
      "('ळळळंंमळमममखख', 'पंक्चर्ड')\n",
      "('धधँममखममममखमयय', 'हैंकर्स')\n",
      "('ंळतततसझटटटटटऐञ%टट', 'जवानोंके')\n",
      "('ळळळळफततस्ञेे्धधेे', 'पौंकी')\n",
      "('खटयययबससऐ्ऐपञऊञञञ', 'जगनधाम')\n",
      "('छळळल', 'पोन्नियम')\n",
      "('ळँयछँढढसञ्िौौ्ेेे', 'आईएनबीए')\n",
      "('धधतततससनमथञेेअििम', 'वेदलम')\n",
      "('ममममखखखममङञञञञथेे', 'चिनवास')\n",
      "('ळळळ!औऔँँँंंंअथञेे', 'मारवाड़ा')\n",
      "('ळळळळसससससतँँययेेथ', 'अनसमझा')\n",
      "('ययययो़़धटटमटटटटटट', 'इस्टूडेंट')\n",
      "('ळधधञआआ््धपपपपेेेे', 'दुःखीत')\n",
      "('मळळळममळळरखखखेेेेे', 'सिघांची')\n",
      "('ंततटटऐधधधधधणञेेधञ', 'शिक्षेचे')\n",
      "('ळळळळससँससतसञऐूञञे', 'उज्वलतम')\n",
      "('ंतछतघघघघधनञिूििेध', 'आपट्टन')\n",
      "('ळमछमममखखखततततअौौट', 'अम्बिकावन')\n",
      "('नंमममखखखो%%ऊ@ऊअथथ', 'खगनी')\n",
      "('ौखमळसससखखखँययऐञञञ', 'थियामिन')\n",
      "('तळळसऐऐऐऽऽथतबू%%%ऐ', 'सोशियोलाजिकल')\n",
      "('खळऊऐऐमफञञेेेेेे््', 'एप')\n",
      "('ळ', 'भाजपाको')\n",
      "('तोऐोोमऽऽऽनअधअअधधऊ', 'इस्तिथि')\n",
      "('ँळंससतततटटटटटटटटट', 'छायाटांड')\n",
      "('ळछछछछंंंफआआ%ऐञेूे', 'तोपवाल')\n",
      "('ंौटटततटटससिभटञूंं', 'गुदवाते')\n",
      "('नळतळससससस!ो्ञञेेे', 'विसलेरी')\n"
     ]
    }
   ],
   "source": [
    "# testing runner\n",
    "# keep embedding small (around 32) -> important to get dense embedding\n",
    "# also, adjust learning rate reasonably\n",
    "\n",
    "runner = Runner(SRC_LANG, TAR_LANG, 32, 3, 128, 'GRU', True, False, 0.2, 'Adam', learning_rate=1e-3, batch_size=128)\n",
    "trainer = plt.Trainer(max_epochs=1)\n",
    "trainer.fit(runner)"
   ]
  },
  {
   "cell_type": "code",
   "execution_count": 16,
   "metadata": {},
   "outputs": [
    {
     "name": "stderr",
     "output_type": "stream",
     "text": [
      "GPU available: True (cuda), used: True\n",
      "TPU available: False, using: 0 TPU cores\n",
      "IPU available: False, using: 0 IPUs\n",
      "HPU available: False, using: 0 HPUs\n",
      "LOCAL_RANK: 0 - CUDA_VISIBLE_DEVICES: [0]\n",
      "\n",
      "  | Name           | Type             | Params\n",
      "----------------------------------------------------\n",
      "0 | encoder        | EncoderNet       | 816 K \n",
      "1 | attn_layer     | Attention        | 49.4 K\n",
      "2 | decoder        | DecoderNet       | 419 K \n",
      "3 | model          | EncoderDecoder   | 1.2 M \n",
      "4 | loss_criterion | CrossEntropyLoss | 0     \n",
      "----------------------------------------------------\n",
      "1.2 M     Trainable params\n",
      "0         Non-trainable params\n",
      "1.2 M     Total params\n",
      "4.944     Total estimated model params size (MB)\n"
     ]
    },
    {
     "data": {
      "application/json": {
       "ascii": false,
       "bar_format": null,
       "colour": null,
       "elapsed": 0.0068624019622802734,
       "initial": 0,
       "n": 0,
       "ncols": null,
       "nrows": null,
       "postfix": null,
       "prefix": "Training",
       "rate": null,
       "total": null,
       "unit": "it",
       "unit_divisor": 1000,
       "unit_scale": false
      },
      "application/vnd.jupyter.widget-view+json": {
       "model_id": "464c35b37c4947469acb6970e2b38e2e",
       "version_major": 2,
       "version_minor": 0
      },
      "text/plain": [
       "Training: 0it [00:00, ?it/s]"
      ]
     },
     "metadata": {},
     "output_type": "display_data"
    },
    {
     "name": "stderr",
     "output_type": "stream",
     "text": [
      "`Trainer.fit` stopped: `max_epochs=1` reached.\n"
     ]
    },
    {
     "name": "stdout",
     "output_type": "stream",
     "text": [
      "51200\n",
      "('ऋृृेाुुठऐऐऐऐचढऑऑु', 'शस्त्रागार')\n",
      "('ऽृृऑऑऑऑऑऔऑऔऑऑुुहु', 'बिन्द्या')\n",
      "('ृशशशऐऐऐऐऐछढढहऑययळ', 'किरणकांत')\n",
      "('ृृुुैैैटटटैऑृुङङङ', 'यज्ञोपवीत')\n",
      "('%ुुुऑपमशममिलढ््््', 'रटानिया')\n",
      "('ृषशशशईााईईई़ुऑऑऑ्', 'वागण्याचे')\n",
      "('ृङााऐऐऐऐशशशषढझऑऑु', 'देशभरामध्ये')\n",
      "('%ुुुटैै@ृृ्््ुुुु', 'सुघड़पन')\n",
      "('दँृृङऔङऔ@@@ुहहहुऑ', 'मोहीवाल')\n",
      "('ऋऋाुुुुेेेाआआटट््', 'सर्वसंग्रह')\n",
      "('आदेऐऐऐ़ुुुुुु््ुि', 'बसेको')\n",
      "('ंंं%%ऑुऑुङशशऐऐआढ्', 'तुमच्यापैकी')\n",
      "('ष%ऽऽ!!ओओओओषषुुजुु', 'कान्यकुब्ज')\n",
      "('ृशङङऊ@शाोुखझझऽऽॅ@', 'इनटॉक्सिनेशन')\n",
      "('ंओओईईुुछठठ@भुुुुु', 'मेच्यूरिटी')\n",
      "('षऽऽभभभभ@@@@य@िुिऑ', 'अगरी')\n",
      "('ऋईऽऽङङआआआआङङ!ृँृि', 'अनुक्रमानुपात')\n",
      "('ओओँऽझभभभभभऑ्लहह@@', 'धूलचन्द')\n",
      "('ऽृृळ@@ीऑऑऑुऑिििळ@', 'अवलेह')\n",
      "('%ृॅजुुशशशढऑऑऑुुुऑ', 'एबरोर्ड')\n",
      "('ंंंदखढझेुुु्ुुुृु', 'बैलर्स')\n",
      "('घषवघघघभभऑऑऑऑऑऑुुु', 'बार्गली')\n",
      "('घघखँखआठठुषषहृिुिआ', 'पंक्चर्ड')\n",
      "('घुजजटघघुुुुुु्हहह', 'हैंकर्स')\n",
      "('ैररटऊखटढअढढढऑऑऑऑऑ', 'जवानोंके')\n",
      "('आाागईईईभजऑऑऑ्िुुु', 'पौंकी')\n",
      "('ववॅॅॅञञञढआऋऑुििऑऑ', 'जगनधाम')\n",
      "('%ळषििळ!!मऽढढिऑहहह', 'पोन्नियम')\n",
      "('ृृुेऐाकककयययिुििु', 'आईएनबीए')\n",
      "('ैैशशशबऽिुुुुु्ुुु', 'वेदलम')\n",
      "('ऋऽळळळ!ऐेेुऑुुुुुु', 'चिनवास')\n",
      "('ऽाीऐऐऐशऐऐऐहऑऑऑऑु@', 'मारवाड़ा')\n",
      "('ऽ!ीभभभ्ङङ!ङुुुु््', 'अनसमझा')\n",
      "('ऽृेेुझझअययययऑऑऑऑऑ', 'इस्टूडेंट')\n",
      "('ृृृङधखऽछऑऑऑऑऑऑुु@', 'दुःखीत')\n",
      "('षृेैझझधऽऽऽऑऑुआ्हह', 'सिघांची')\n",
      "('ऋपळळआआौआठठभुुुऑुु', 'शिक्षेचे')\n",
      "('ंंंुुु%ुढृृृऑुुऑु', 'उज्वलतम')\n",
      "('ऽषषङङऊऊ@@@@्ुुुहह', 'आपट्टन')\n",
      "('ओशंढंऽमशशतढिििि@@', 'अम्बिकावन')\n",
      "('ृङघृृृृ््््ऑ्ुुुु', 'खगनी')\n",
      "('ृैझओमममखखखुुुह््ृ', 'थियामिन')\n",
      "('षषठिङपऋजछऐखखख@@@ह', 'सोशियोलाजिकल')\n",
      "('%ऑ््ुुुुुु्हुिऑऑि', 'एप')\n",
      "('ुुृलऑऑऑशढढऑऑऑऑऑु्', 'भाजपाको')\n",
      "('षृृुुुुहश्ह्हह्््', 'इस्तिथि')\n",
      "('ृधङङईईईतमऽयऋुुुटट', 'छायाटांड')\n",
      "('%ृुषङङखऑऑऑऑुऑुऑयु', 'तोपवाल')\n",
      "('ओझैऽँँऑऑछछऑऑुऑऑऑऑ', 'गुदवाते')\n",
      "('ंंवऽ््ऐऐभुऑऑु@@@ु', 'विसलेरी')\n"
     ]
    }
   ],
   "source": [
    "# testing runner\n",
    "# keep embedding small (around 32) -> important to get dense embedding\n",
    "# also, adjust learning rate reasonably\n",
    "\n",
    "runner = Runner(SRC_LANG, TAR_LANG, 32, 3, 128, 'GRU', True, True, 0.2, 'Adam', learning_rate=1e-3, batch_size=128)\n",
    "trainer = plt.Trainer(max_epochs=1)\n",
    "trainer.fit(runner)"
   ]
  }
 ],
 "metadata": {
  "kernelspec": {
   "display_name": "dlenv",
   "language": "python",
   "name": "python3"
  },
  "language_info": {
   "codemirror_mode": {
    "name": "ipython",
    "version": 3
   },
   "file_extension": ".py",
   "mimetype": "text/x-python",
   "name": "python",
   "nbconvert_exporter": "python",
   "pygments_lexer": "ipython3",
   "version": "3.8.10"
  },
  "orig_nbformat": 4
 },
 "nbformat": 4,
 "nbformat_minor": 2
}
