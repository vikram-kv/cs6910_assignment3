{
 "cells": [
  {
   "attachments": {},
   "cell_type": "markdown",
   "metadata": {},
   "source": [
    "# Sweeping Code (for both attention and no attention)"
   ]
  },
  {
   "attachments": {},
   "cell_type": "markdown",
   "metadata": {},
   "source": [
    "### Sweep Section"
   ]
  },
  {
   "cell_type": "code",
   "execution_count": 1,
   "metadata": {},
   "outputs": [
    {
     "name": "stderr",
     "output_type": "stream",
     "text": [
      "Failed to detect the name of this notebook, you can set it manually with the WANDB_NOTEBOOK_NAME environment variable to enable code saving.\n",
      "\u001b[34m\u001b[1mwandb\u001b[0m: Currently logged in as: \u001b[33mcs19b021\u001b[0m (\u001b[33mcs6700_team_2023\u001b[0m). Use \u001b[1m`wandb login --relogin`\u001b[0m to force relogin\n"
     ]
    },
    {
     "name": "stdout",
     "output_type": "stream",
     "text": [
      "Create sweep with ID: fbk84w2d\n",
      "Sweep URL: https://wandb.ai/cs19b021/cs6910-assignment3/sweeps/fbk84w2d\n",
      "fbk84w2d\n"
     ]
    }
   ],
   "source": [
    "import wandb\n",
    "wandb.login()\n",
    "\n",
    "sweep_configuration = {\n",
    "    'method': 'bayes',\n",
    "    'name': 'Attention-Bayes',\n",
    "    'metric': {'goal': 'maximize', 'name': 'val_acc'},\n",
    "    'parameters': {\n",
    "        'embedding_size' : {'values' : [16, 32, 64, 128, 192]},\n",
    "        'number_of_layers' : {'values' : [1, 2, 3, 4]},\n",
    "        'hidden_size' : {'values' : [32, 64, 128, 192, 256]},\n",
    "        'cell' : {'values' : ['RNN', 'GRU', 'LSTM']},\n",
    "        'bidirectional' : {'values' : [True, False]},\n",
    "        'dropout' : {'values' : [0.0, 0.05, 0.1, 0.2, 0.3]},\n",
    "        'initial_tf_ratio' : {'values' : [0.6, 0.7, 0.8, 0.9]},\n",
    "        'batch_size' : {'values' : [32, 64, 128]},\n",
    "        'attention' : {'value' : True}, # change to True for attention\n",
    "        'dataset' : {'value' : 'aksharantar'},\n",
    "        'optimizer' : {'value' : 'Adam'},\n",
    "        'learning_rate' : {'value' : 2e-3},\n",
    "        'max_epochs' : {'value' : 35},\n",
    "        'patience' : {'value' : 5},\n",
    "        'min_epochs': {'value' : 12},\n",
    "        'min_delta_imp' : {'value' : 0.001},\n",
    "    }\n",
    "}\n",
    "\n",
    "sweep_id = wandb.sweep(sweep=sweep_configuration, entity='cs19b021', project='cs6910-assignment3')\n",
    "print(sweep_id)"
   ]
  }
 ],
 "metadata": {
  "kernelspec": {
   "display_name": "dlenv",
   "language": "python",
   "name": "python3"
  },
  "language_info": {
   "codemirror_mode": {
    "name": "ipython",
    "version": 3
   },
   "file_extension": ".py",
   "mimetype": "text/x-python",
   "name": "python",
   "nbconvert_exporter": "python",
   "pygments_lexer": "ipython3",
   "version": "3.8.10"
  },
  "orig_nbformat": 4
 },
 "nbformat": 4,
 "nbformat_minor": 2
}
