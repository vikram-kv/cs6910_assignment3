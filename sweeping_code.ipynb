{
 "cells": [
  {
   "attachments": {},
   "cell_type": "markdown",
   "metadata": {},
   "source": [
    "# Sweeping Code (for both attention and no attention)"
   ]
  },
  {
   "cell_type": "code",
   "execution_count": null,
   "metadata": {},
   "outputs": [],
   "source": [
    "# importing required libraries for the notebook\n",
    "import lightning as lt\n",
    "from lightning.pytorch.callbacks.early_stopping import EarlyStopping\n",
    "from lightning.pytorch.callbacks import ModelCheckpoint\n",
    "from pytorch_lightning.loggers import WandbLogger, TensorBoardLogger\n",
    "import os\n",
    "import torch\n",
    "import torch.nn as nn\n",
    "from IPython.display import display\n",
    "import numpy as np\n",
    "import pandas as pd\n",
    "from torch.utils.data import DataLoader, Dataset\n",
    "import plotly.graph_objects as go\n",
    "import plotly.express as px\n",
    "from torchaudio.functional import edit_distance as edit_dist\n",
    "import random\n",
    "import wandb\n",
    "from language import *\n",
    "from dataset_dataloader import *\n",
    "from encoder_decoder import *"
   ]
  },
  {
   "cell_type": "code",
   "execution_count": null,
   "metadata": {},
   "outputs": [],
   "source": [
    "# know the accelerator available - NOT USED as we have switched to lightning\n",
    "device = ('cuda' if torch.cuda.is_available() else 'cpu')\n",
    "print(device)"
   ]
  },
  {
   "attachments": {},
   "cell_type": "markdown",
   "metadata": {},
   "source": [
    "# Defining the source and target languages and loading data"
   ]
  },
  {
   "cell_type": "code",
   "execution_count": null,
   "metadata": {},
   "outputs": [],
   "source": [
    "# define the source and target languages\n",
    "TARGET = 'tam'\n",
    "SOURCE = 'eng'"
   ]
  },
  {
   "cell_type": "code",
   "execution_count": null,
   "metadata": {},
   "outputs": [],
   "source": [
    "# load all the available data and print sample counts for each set\n",
    "x_train, y_train = load_data(TARGET, 'train')\n",
    "x_valid, y_valid = load_data(TARGET, 'valid')\n",
    "x_test, y_test = load_data(TARGET, 'test')\n",
    "\n",
    "print(f'Number of train samples = {len(x_train)}')\n",
    "print(f'Number of valid samples = {len(x_valid)}')\n",
    "print(f'Number of test samples = {len(x_test)}')"
   ]
  },
  {
   "cell_type": "code",
   "execution_count": null,
   "metadata": {},
   "outputs": [],
   "source": [
    "# create language objects for storing vocabulary, index2sym and sym2index\n",
    "SRC_LANG = Language(SOURCE)\n",
    "TAR_LANG = Language(TARGET)\n",
    "\n",
    "# creating vocabulary using train data only\n",
    "SRC_LANG.create_vocabulary(*(x_train))\n",
    "TAR_LANG.create_vocabulary(*(y_train))\n",
    "\n",
    "# generate mappings from characters to numbers and vice versa\n",
    "SRC_LANG.generate_mappings()\n",
    "TAR_LANG.generate_mappings()\n",
    "\n",
    "# print the source and target vocabularies\n",
    "print(f'Source Vocabulary Size = {len(SRC_LANG.symbols)}')\n",
    "print(f'Source Vocabulary = {SRC_LANG.symbols}')\n",
    "print(f'Source Mapping {SRC_LANG.index2sym}')\n",
    "print(f'Target Vocabulary Size = {len(TAR_LANG.symbols)}')\n",
    "print(f'Target Vocabulary = {TAR_LANG.symbols}')\n",
    "print(f'Target Mapping {TAR_LANG.index2sym}')"
   ]
  },
  {
   "attachments": {},
   "cell_type": "markdown",
   "metadata": {},
   "source": [
    "## Runner Class"
   ]
  },
  {
   "cell_type": "code",
   "execution_count": 8,
   "metadata": {},
   "outputs": [],
   "source": [
    "'''\n",
    "    Pytorch lightning based module that encapsulates our seq2seq model with useful\n",
    "    helper functions\n",
    "'''\n",
    "class Runner(lt.LightningModule):\n",
    "    def __init__(self, src_lang : Language, tar_lang : Language, common_embed_size, common_num_layers, \n",
    "                 common_hidden_size, common_cell_type, init_tf_ratio = 0.8, enc_bidirect=False, attention=False, dropout=0.0, \n",
    "                 opt_name='Adam', learning_rate=2e-3, batch_size=32):\n",
    "    \n",
    "        super(Runner,self).__init__()\n",
    "        # save the language objects\n",
    "        self.src_lang = src_lang\n",
    "        self.tar_lang = tar_lang\n",
    "\n",
    "        # create all the sub-networks and the main model\n",
    "        self.encoder = EncoderNet(vocab_size=src_lang.get_size(), embed_size=common_embed_size,\n",
    "                             num_layers=common_num_layers, hid_size=common_hidden_size,\n",
    "                             cell_type=common_cell_type, bidirect=enc_bidirect, dropout=dropout)\n",
    "        if attention:\n",
    "            self.attention = True\n",
    "            self.attn_layer = Attention(common_hidden_size, enc_bidirect)\n",
    "        else:\n",
    "            self.attention = False\n",
    "            self.attn_layer = None\n",
    "        \n",
    "        self.decoder = DecoderNet(vocab_size=tar_lang.get_size(), embed_size=common_embed_size,\n",
    "                             num_layers=common_num_layers, hid_size=common_hidden_size,\n",
    "                             cell_type=common_cell_type, attention=attention, attn_layer=self.attn_layer,\n",
    "                             enc_bidirect=enc_bidirect, dropout=dropout)\n",
    "        \n",
    "        self.model = EncoderDecoder(encoder=self.encoder, decoder=self.decoder, src_lang=src_lang, \n",
    "                                    tar_lang=tar_lang)\n",
    "\n",
    "        # for determinism\n",
    "        torch.manual_seed(42); torch.cuda.manual_seed(42); np.random.seed(42); random.seed(42)\n",
    "\n",
    "        self.model.apply(self.init_weights) # initialize model weights\n",
    "        self.batch_size = batch_size\n",
    "\n",
    "        # optimizer for the model and loss function [that ignores locs where target = PAD token]\n",
    "        self.loss_criterion = nn.CrossEntropyLoss(ignore_index=tar_lang.sym2index[PAD_SYM])\n",
    "        self.opt_name = opt_name\n",
    "        self.learning_rate = learning_rate\n",
    "\n",
    "        # only adam is present in configure_optimizers as of now\n",
    "        if (opt_name != 'Adam'):\n",
    "            exit(-1)\n",
    "        \n",
    "        self.pred_train_words = []; self.true_train_words = []\n",
    "        self.pred_valid_words = []; self.true_valid_words = []\n",
    "        self.test_X_words = []; self.pred_test_words = []; self.true_test_words = []\n",
    "        self.save_test_preds = False\n",
    "        self.cur_tf_ratio = init_tf_ratio\n",
    "        self.min_tf_ratio = 0.01\n",
    "        self.attn_matrices = []  # used only when there is attention layer\n",
    "\n",
    "    def configure_optimizers(self):\n",
    "        optimizer = None\n",
    "        if self.opt_name == 'Adam':\n",
    "            optimizer = torch.optim.Adam(self.model.parameters(), lr=self.learning_rate)\n",
    "        return optimizer\n",
    "\n",
    "    @staticmethod\n",
    "    def init_weights(m):\n",
    "        '''\n",
    "        function to initialize the weights of the model parameters\n",
    "        '''\n",
    "        for name, param in m.named_parameters():\n",
    "            if 'weight' in name:\n",
    "                 nn.init.uniform_(param.data, -0.04, 0.04)\n",
    "            else:\n",
    "                nn.init.constant_(param.data, 0)\n",
    "    \n",
    "    @staticmethod\n",
    "    def exact_accuracy(pred_words, tar_words):\n",
    "        ''' \n",
    "        compute the accuracy using (predicted words, target words) and return it.\n",
    "        exact word matching is used.\n",
    "        '''\n",
    "        assert(len(pred_words) == len(tar_words))\n",
    "        count = 0\n",
    "        for i in range(len(pred_words)):\n",
    "            if pred_words[i] == tar_words[i]:\n",
    "                count += 1\n",
    "        return count / len(pred_words)\n",
    "    \n",
    "    ####################\n",
    "    # DATA RELATED HOOKS\n",
    "    ####################\n",
    "\n",
    "    def setup(self, stage=None):\n",
    "        # load all the available data on all GPUs\n",
    "        self.x_train, self.y_train = load_data(TARGET, 'train')\n",
    "        self.x_valid, self.y_valid = load_data(TARGET, 'valid')\n",
    "        self.x_test, self.y_test = load_data(TARGET, 'test')\n",
    "\n",
    "    def train_dataloader(self):\n",
    "        dataset = TransliterateDataset(self.x_train, self.y_train, src_lang=SRC_LANG, tar_lang=TAR_LANG)\n",
    "        dataloader = DataLoader(dataset=dataset, batch_size=self.batch_size, collate_fn=CollationFunction(SRC_LANG, TAR_LANG))\n",
    "        return dataloader\n",
    "\n",
    "    def val_dataloader(self):\n",
    "        dataset = TransliterateDataset(self.x_valid, self.y_valid, src_lang=SRC_LANG, tar_lang=TAR_LANG)\n",
    "        dataloader = DataLoader(dataset=dataset, batch_size=self.batch_size, collate_fn=CollationFunction(SRC_LANG, TAR_LANG))\n",
    "        return dataloader\n",
    "\n",
    "    def test_dataloader(self):\n",
    "        dataset = TransliterateDataset(self.x_test, self.y_test, src_lang=SRC_LANG, tar_lang=TAR_LANG)\n",
    "        dataloader = DataLoader(dataset=dataset, batch_size=1, collate_fn=CollationFunction(SRC_LANG, TAR_LANG))\n",
    "        # we do inference word by word. So, batch_size = 1\n",
    "        return dataloader\n",
    "\n",
    "    ####################\n",
    "    # INTERFACE RELATED FUNCTIONS - NOTE -> beam decoding (and save top 3 preds);\n",
    "    #                                       wandb sweeping stuff and model checkpointing;\n",
    "    #                                       put all together\n",
    "    ####################\n",
    "\n",
    "    def training_step(self, train_batch, batch_idx):\n",
    "        batch_X, batch_y, X_lens = train_batch\n",
    "        # get the logits, preds for the current batch\n",
    "        logits, preds = self.model(batch_X, batch_y, X_lens, tf_ratio=self.cur_tf_ratio)\n",
    "        # ignore loss for the first time step\n",
    "        targets = batch_y[:, 1:]; logits = logits[:, 1:, :]\n",
    "        logits = logits.swapaxes(1, 2) # make class logits the second dimension as needed\n",
    "        loss = self.loss_criterion(logits, targets)\n",
    "        # for epoch-level metrics[accuracy], log all the required data\n",
    "        self.true_train_words += self.tar_lang.convert_to_words(batch_y)\n",
    "        self.pred_train_words += self.tar_lang.convert_to_words(preds)\n",
    "        self.log('train_loss', loss, on_step=False, on_epoch=True, prog_bar=True)\n",
    "        return loss\n",
    "    \n",
    "    def on_train_epoch_end(self):\n",
    "        self.log('train_accuracy', self.exact_accuracy(self.pred_train_words, self.true_train_words), \n",
    "                 on_epoch=True, prog_bar=True)\n",
    "        self.pred_train_words.clear(); self.true_train_words.clear()\n",
    "\n",
    "        self.log('tf_ratio', self.cur_tf_ratio, on_epoch=True, prog_bar=True)\n",
    "        # for first 12 epochs, we dont change the tf ratio. Then we decrease it by 0.1 every epoch till\n",
    "        # min_tf_ratio is reached. This is also logged.\n",
    "        if (self.current_epoch >= 11):\n",
    "            self.cur_tf_ratio -= 0.1\n",
    "            self.cur_tf_ratio = max(self.cur_tf_ratio, self.min_tf_ratio)\n",
    "\n",
    "    def validation_step(self, valid_batch, batch_idx):\n",
    "        batch_X, batch_y, X_lens = valid_batch\n",
    "        # get the logits, preds for the current batch\n",
    "        logits, preds = self.model(batch_X, batch_y, X_lens) # no teacher forcing\n",
    "        # ignore loss for the first time step\n",
    "        targets = batch_y[:, 1:]; logits = logits[:, 1:, :]\n",
    "        logits = logits.swapaxes(1, 2) # make class logits the second dimension as needed\n",
    "        loss = self.loss_criterion(logits, targets)\n",
    "        # for epoch-level metrics[accuracy], log all the required data\n",
    "        self.true_valid_words += self.tar_lang.convert_to_words(batch_y)\n",
    "        self.pred_valid_words += self.tar_lang.convert_to_words(preds)\n",
    "        self.log('validation_loss', loss, on_step=False, on_epoch=True, prog_bar=True)\n",
    "    \n",
    "    def on_validation_epoch_end(self):\n",
    "        self.log('validation_accuracy', self.exact_accuracy(self.true_valid_words, self.pred_valid_words), \n",
    "                 on_epoch=True, prog_bar=True)\n",
    "        self.true_valid_words.clear(); self.pred_valid_words.clear()\n",
    "    \n",
    "    def test_step(self, test_batch, batch_idx):\n",
    "        batch_X, batch_y, X_lens = test_batch\n",
    "        logits, pred_word, attn_matrix = self.model.greedy_inference(batch_X, X_lens)\n",
    "        # update all the global lists\n",
    "        self.pred_test_words += pred_word\n",
    "        self.true_test_words += self.tar_lang.convert_to_words(batch_y)\n",
    "        self.test_X_words += self.src_lang.convert_to_words(batch_X)\n",
    "        # if there is attention, update the attention list also\n",
    "        if (self.attention):\n",
    "            self.attn_matrices += [attn_matrix]\n",
    "        # ignore loss for the first time step\n",
    "        targets = batch_y[:, 1:]; logits = logits[1:, :]\n",
    "        # we shrink the logits to the true decoded sequence length for loss computation alone\n",
    "        true_dec_len = targets.size(1)\n",
    "        logits = (logits[:true_dec_len, :]).swapaxes(0,1).unsqueeze(0)\n",
    "        # squeeze and swapping of dimensions is to meet condition needed by nn.CrossEntopyLoss()\n",
    "        loss = self.loss_criterion(logits, targets)\n",
    "        self.log('test_loss', loss, on_step=False, on_epoch=True, prog_bar=True)\n",
    "    \n",
    "    # will prevent clearing of global test lists on test epoch end\n",
    "    def track_test_predictions(self):\n",
    "        self.save_test_preds = True\n",
    "\n",
    "    def on_test_epoch_end(self):\n",
    "        self.log('test_accuracy', self.exact_accuracy(self.pred_test_words, self.true_test_words), \n",
    "                 on_epoch=True, prog_bar=True)\n",
    "        if not self.save_test_preds:\n",
    "            self.pred_test_words.clear(); self.true_test_words.clear(); self.test_X_words.clear()\n",
    "            self.attn_matrices.clear()\n",
    "    \n",
    "    # here, we will save all the predictions made and also, return a copy of the list of attention\n",
    "    # matrices for generating heatmaps\n",
    "    def save_test_predictions(self, fname='pred'):\n",
    "        edit_distances = [edit_dist(pred,tar) for pred, tar in zip(self.pred_test_words,self.true_test_words)]\n",
    "        pred_df = pd.DataFrame(zip(self.test_X_words, self.true_test_words, self.pred_test_words, edit_distances),\n",
    "                               columns=['Input', 'Target', 'Predicted', 'Levenshtein Distance'])\n",
    "        pred_df.to_csv('./'+fname+'.csv', index=False, encoding='utf-8')\n",
    "\n",
    "        # if attention layer is present, we return attention matrices as well.\n",
    "        ret_info = None\n",
    "        if self.attention:\n",
    "            ret_info = (self.test_X_words.copy(), self.true_test_words.copy(), self.pred_test_words.copy(), self.attn_matrices.copy())\n",
    "        self.save_test_preds = False\n",
    "        # clear after saving to save memory \n",
    "        self.pred_test_words.clear(); self.true_test_words.clear(); self.test_X_words.clear()\n",
    "        self.attn_matrices.clear()\n",
    "        return ret_info"
   ]
  },
  {
   "attachments": {},
   "cell_type": "markdown",
   "metadata": {},
   "source": [
    "### Sweep Section"
   ]
  },
  {
   "cell_type": "code",
   "execution_count": 9,
   "metadata": {},
   "outputs": [
    {
     "name": "stderr",
     "output_type": "stream",
     "text": [
      "GPU available: True (cuda), used: True\n",
      "TPU available: False, using: 0 TPU cores\n",
      "IPU available: False, using: 0 IPUs\n",
      "HPU available: False, using: 0 HPUs\n",
      "LOCAL_RANK: 0 - CUDA_VISIBLE_DEVICES: [0]\n",
      "\n",
      "  | Name           | Type             | Params\n",
      "----------------------------------------------------\n",
      "0 | encoder        | EncoderNet       | 4.3 M \n",
      "1 | attn_layer     | Attention        | 197 K \n",
      "2 | decoder        | DecoderNet       | 2.2 M \n",
      "3 | model          | EncoderDecoder   | 6.5 M \n",
      "4 | loss_criterion | CrossEntropyLoss | 0     \n",
      "----------------------------------------------------\n",
      "6.5 M     Trainable params\n",
      "0         Non-trainable params\n",
      "6.5 M     Total params\n",
      "26.123    Total estimated model params size (MB)\n"
     ]
    },
    {
     "data": {
      "application/json": {
       "ascii": false,
       "bar_format": null,
       "colour": null,
       "elapsed": 0.03480362892150879,
       "initial": 0,
       "n": 0,
       "ncols": null,
       "nrows": null,
       "postfix": null,
       "prefix": "Sanity Checking",
       "rate": null,
       "total": null,
       "unit": "it",
       "unit_divisor": 1000,
       "unit_scale": false
      },
      "application/vnd.jupyter.widget-view+json": {
       "model_id": "af75296b375c458aa0177a61a73ba2ec",
       "version_major": 2,
       "version_minor": 0
      },
      "text/plain": [
       "Sanity Checking: 0it [00:00, ?it/s]"
      ]
     },
     "metadata": {},
     "output_type": "display_data"
    },
    {
     "name": "stderr",
     "output_type": "stream",
     "text": [
      "/home/vikram/.local/lib/python3.8/site-packages/lightning/pytorch/trainer/connectors/data_connector.py:430: PossibleUserWarning: The dataloader, val_dataloader, does not have many workers which may be a bottleneck. Consider increasing the value of the `num_workers` argument` (try 8 which is the number of cpus on this machine) in the `DataLoader` init to improve performance.\n",
      "  rank_zero_warn(\n",
      "/home/vikram/.local/lib/python3.8/site-packages/lightning/pytorch/trainer/connectors/data_connector.py:430: PossibleUserWarning: The dataloader, train_dataloader, does not have many workers which may be a bottleneck. Consider increasing the value of the `num_workers` argument` (try 8 which is the number of cpus on this machine) in the `DataLoader` init to improve performance.\n",
      "  rank_zero_warn(\n"
     ]
    },
    {
     "data": {
      "application/json": {
       "ascii": false,
       "bar_format": null,
       "colour": null,
       "elapsed": 0.006742238998413086,
       "initial": 0,
       "n": 0,
       "ncols": null,
       "nrows": null,
       "postfix": null,
       "prefix": "Training",
       "rate": null,
       "total": null,
       "unit": "it",
       "unit_divisor": 1000,
       "unit_scale": false
      },
      "application/vnd.jupyter.widget-view+json": {
       "model_id": "6476e9376ed3449e87fa2c2332eefac6",
       "version_major": 2,
       "version_minor": 0
      },
      "text/plain": [
       "Training: 0it [00:00, ?it/s]"
      ]
     },
     "metadata": {},
     "output_type": "display_data"
    },
    {
     "data": {
      "application/json": {
       "ascii": false,
       "bar_format": null,
       "colour": null,
       "elapsed": 0.005318641662597656,
       "initial": 0,
       "n": 0,
       "ncols": null,
       "nrows": null,
       "postfix": null,
       "prefix": "Validation",
       "rate": null,
       "total": null,
       "unit": "it",
       "unit_divisor": 1000,
       "unit_scale": false
      },
      "application/vnd.jupyter.widget-view+json": {
       "model_id": "72798dbd22de4e0682c897e054a6bc60",
       "version_major": 2,
       "version_minor": 0
      },
      "text/plain": [
       "Validation: 0it [00:00, ?it/s]"
      ]
     },
     "metadata": {},
     "output_type": "display_data"
    },
    {
     "data": {
      "application/json": {
       "ascii": false,
       "bar_format": null,
       "colour": null,
       "elapsed": 0.005671977996826172,
       "initial": 0,
       "n": 0,
       "ncols": null,
       "nrows": null,
       "postfix": null,
       "prefix": "Validation",
       "rate": null,
       "total": null,
       "unit": "it",
       "unit_divisor": 1000,
       "unit_scale": false
      },
      "application/vnd.jupyter.widget-view+json": {
       "model_id": "c5d549a817b24dbc9a2136a6783778aa",
       "version_major": 2,
       "version_minor": 0
      },
      "text/plain": [
       "Validation: 0it [00:00, ?it/s]"
      ]
     },
     "metadata": {},
     "output_type": "display_data"
    },
    {
     "data": {
      "application/json": {
       "ascii": false,
       "bar_format": null,
       "colour": null,
       "elapsed": 0.008440971374511719,
       "initial": 0,
       "n": 0,
       "ncols": null,
       "nrows": null,
       "postfix": null,
       "prefix": "Validation",
       "rate": null,
       "total": null,
       "unit": "it",
       "unit_divisor": 1000,
       "unit_scale": false
      },
      "application/vnd.jupyter.widget-view+json": {
       "model_id": "61c31313f49847d8a5530bf9e0734484",
       "version_major": 2,
       "version_minor": 0
      },
      "text/plain": [
       "Validation: 0it [00:00, ?it/s]"
      ]
     },
     "metadata": {},
     "output_type": "display_data"
    },
    {
     "data": {
      "application/json": {
       "ascii": false,
       "bar_format": null,
       "colour": null,
       "elapsed": 0.00797891616821289,
       "initial": 0,
       "n": 0,
       "ncols": null,
       "nrows": null,
       "postfix": null,
       "prefix": "Validation",
       "rate": null,
       "total": null,
       "unit": "it",
       "unit_divisor": 1000,
       "unit_scale": false
      },
      "application/vnd.jupyter.widget-view+json": {
       "model_id": "9c766396496341cfbfe0246b2a460cea",
       "version_major": 2,
       "version_minor": 0
      },
      "text/plain": [
       "Validation: 0it [00:00, ?it/s]"
      ]
     },
     "metadata": {},
     "output_type": "display_data"
    },
    {
     "data": {
      "application/json": {
       "ascii": false,
       "bar_format": null,
       "colour": null,
       "elapsed": 0.005789995193481445,
       "initial": 0,
       "n": 0,
       "ncols": null,
       "nrows": null,
       "postfix": null,
       "prefix": "Validation",
       "rate": null,
       "total": null,
       "unit": "it",
       "unit_divisor": 1000,
       "unit_scale": false
      },
      "application/vnd.jupyter.widget-view+json": {
       "model_id": "f986675e1577423da72736756d5f70c3",
       "version_major": 2,
       "version_minor": 0
      },
      "text/plain": [
       "Validation: 0it [00:00, ?it/s]"
      ]
     },
     "metadata": {},
     "output_type": "display_data"
    },
    {
     "data": {
      "application/json": {
       "ascii": false,
       "bar_format": null,
       "colour": null,
       "elapsed": 0.008142232894897461,
       "initial": 0,
       "n": 0,
       "ncols": null,
       "nrows": null,
       "postfix": null,
       "prefix": "Validation",
       "rate": null,
       "total": null,
       "unit": "it",
       "unit_divisor": 1000,
       "unit_scale": false
      },
      "application/vnd.jupyter.widget-view+json": {
       "model_id": "cf602e92ef744d01b6163b39235903f3",
       "version_major": 2,
       "version_minor": 0
      },
      "text/plain": [
       "Validation: 0it [00:00, ?it/s]"
      ]
     },
     "metadata": {},
     "output_type": "display_data"
    },
    {
     "data": {
      "application/json": {
       "ascii": false,
       "bar_format": null,
       "colour": null,
       "elapsed": 0.007360696792602539,
       "initial": 0,
       "n": 0,
       "ncols": null,
       "nrows": null,
       "postfix": null,
       "prefix": "Validation",
       "rate": null,
       "total": null,
       "unit": "it",
       "unit_divisor": 1000,
       "unit_scale": false
      },
      "application/vnd.jupyter.widget-view+json": {
       "model_id": "cfebaa31ef1541d3b376431215f137f9",
       "version_major": 2,
       "version_minor": 0
      },
      "text/plain": [
       "Validation: 0it [00:00, ?it/s]"
      ]
     },
     "metadata": {},
     "output_type": "display_data"
    },
    {
     "data": {
      "application/json": {
       "ascii": false,
       "bar_format": null,
       "colour": null,
       "elapsed": 0.010565996170043945,
       "initial": 0,
       "n": 0,
       "ncols": null,
       "nrows": null,
       "postfix": null,
       "prefix": "Validation",
       "rate": null,
       "total": null,
       "unit": "it",
       "unit_divisor": 1000,
       "unit_scale": false
      },
      "application/vnd.jupyter.widget-view+json": {
       "model_id": "7a42149153ac4e87a0a71bbf202c3c04",
       "version_major": 2,
       "version_minor": 0
      },
      "text/plain": [
       "Validation: 0it [00:00, ?it/s]"
      ]
     },
     "metadata": {},
     "output_type": "display_data"
    },
    {
     "data": {
      "application/json": {
       "ascii": false,
       "bar_format": null,
       "colour": null,
       "elapsed": 0.00756382942199707,
       "initial": 0,
       "n": 0,
       "ncols": null,
       "nrows": null,
       "postfix": null,
       "prefix": "Validation",
       "rate": null,
       "total": null,
       "unit": "it",
       "unit_divisor": 1000,
       "unit_scale": false
      },
      "application/vnd.jupyter.widget-view+json": {
       "model_id": "c9aacfd06ced4c9094cc935bcfc1a34e",
       "version_major": 2,
       "version_minor": 0
      },
      "text/plain": [
       "Validation: 0it [00:00, ?it/s]"
      ]
     },
     "metadata": {},
     "output_type": "display_data"
    },
    {
     "data": {
      "application/json": {
       "ascii": false,
       "bar_format": null,
       "colour": null,
       "elapsed": 0.008098363876342773,
       "initial": 0,
       "n": 0,
       "ncols": null,
       "nrows": null,
       "postfix": null,
       "prefix": "Validation",
       "rate": null,
       "total": null,
       "unit": "it",
       "unit_divisor": 1000,
       "unit_scale": false
      },
      "application/vnd.jupyter.widget-view+json": {
       "model_id": "8dca18444d60414298e8a8ad1521dc83",
       "version_major": 2,
       "version_minor": 0
      },
      "text/plain": [
       "Validation: 0it [00:00, ?it/s]"
      ]
     },
     "metadata": {},
     "output_type": "display_data"
    },
    {
     "data": {
      "application/json": {
       "ascii": false,
       "bar_format": null,
       "colour": null,
       "elapsed": 0.011571884155273438,
       "initial": 0,
       "n": 0,
       "ncols": null,
       "nrows": null,
       "postfix": null,
       "prefix": "Validation",
       "rate": null,
       "total": null,
       "unit": "it",
       "unit_divisor": 1000,
       "unit_scale": false
      },
      "application/vnd.jupyter.widget-view+json": {
       "model_id": "18a0e577ea504141980688f64b107470",
       "version_major": 2,
       "version_minor": 0
      },
      "text/plain": [
       "Validation: 0it [00:00, ?it/s]"
      ]
     },
     "metadata": {},
     "output_type": "display_data"
    },
    {
     "data": {
      "application/json": {
       "ascii": false,
       "bar_format": null,
       "colour": null,
       "elapsed": 0.0056226253509521484,
       "initial": 0,
       "n": 0,
       "ncols": null,
       "nrows": null,
       "postfix": null,
       "prefix": "Validation",
       "rate": null,
       "total": null,
       "unit": "it",
       "unit_divisor": 1000,
       "unit_scale": false
      },
      "application/vnd.jupyter.widget-view+json": {
       "model_id": "c1f0a69a9ba543aea3c6d68dfec3a22e",
       "version_major": 2,
       "version_minor": 0
      },
      "text/plain": [
       "Validation: 0it [00:00, ?it/s]"
      ]
     },
     "metadata": {},
     "output_type": "display_data"
    },
    {
     "name": "stderr",
     "output_type": "stream",
     "text": [
      "`Trainer.fit` stopped: `max_epochs=12` reached.\n",
      "LOCAL_RANK: 0 - CUDA_VISIBLE_DEVICES: [0]\n",
      "/home/vikram/.local/lib/python3.8/site-packages/lightning/pytorch/trainer/connectors/data_connector.py:430: PossibleUserWarning: The dataloader, test_dataloader, does not have many workers which may be a bottleneck. Consider increasing the value of the `num_workers` argument` (try 8 which is the number of cpus on this machine) in the `DataLoader` init to improve performance.\n",
      "  rank_zero_warn(\n"
     ]
    },
    {
     "data": {
      "application/json": {
       "ascii": false,
       "bar_format": null,
       "colour": null,
       "elapsed": 0.01123809814453125,
       "initial": 0,
       "n": 0,
       "ncols": null,
       "nrows": null,
       "postfix": null,
       "prefix": "Testing",
       "rate": null,
       "total": null,
       "unit": "it",
       "unit_divisor": 1000,
       "unit_scale": false
      },
      "application/vnd.jupyter.widget-view+json": {
       "model_id": "c3db3085b1ba488d951e35395d9fc301",
       "version_major": 2,
       "version_minor": 0
      },
      "text/plain": [
       "Testing: 0it [00:00, ?it/s]"
      ]
     },
     "metadata": {},
     "output_type": "display_data"
    },
    {
     "data": {
      "text/html": [
       "<pre style=\"white-space:pre;overflow-x:auto;line-height:normal;font-family:Menlo,'DejaVu Sans Mono',consolas,'Courier New',monospace\">┏━━━━━━━━━━━━━━━━━━━━━━━━━━━┳━━━━━━━━━━━━━━━━━━━━━━━━━━━┓\n",
       "┃<span style=\"font-weight: bold\">        Test metric        </span>┃<span style=\"font-weight: bold\">       DataLoader 0        </span>┃\n",
       "┡━━━━━━━━━━━━━━━━━━━━━━━━━━━╇━━━━━━━━━━━━━━━━━━━━━━━━━━━┩\n",
       "│<span style=\"color: #008080; text-decoration-color: #008080\">       test_accuracy       </span>│<span style=\"color: #800080; text-decoration-color: #800080\">      0.390380859375       </span>│\n",
       "│<span style=\"color: #008080; text-decoration-color: #008080\">         test_loss         </span>│<span style=\"color: #800080; text-decoration-color: #800080\">    1.5079567432403564     </span>│\n",
       "└───────────────────────────┴───────────────────────────┘\n",
       "</pre>\n"
      ],
      "text/plain": [
       "┏━━━━━━━━━━━━━━━━━━━━━━━━━━━┳━━━━━━━━━━━━━━━━━━━━━━━━━━━┓\n",
       "┃\u001b[1m \u001b[0m\u001b[1m       Test metric       \u001b[0m\u001b[1m \u001b[0m┃\u001b[1m \u001b[0m\u001b[1m      DataLoader 0       \u001b[0m\u001b[1m \u001b[0m┃\n",
       "┡━━━━━━━━━━━━━━━━━━━━━━━━━━━╇━━━━━━━━━━━━━━━━━━━━━━━━━━━┩\n",
       "│\u001b[36m \u001b[0m\u001b[36m      test_accuracy      \u001b[0m\u001b[36m \u001b[0m│\u001b[35m \u001b[0m\u001b[35m     0.390380859375      \u001b[0m\u001b[35m \u001b[0m│\n",
       "│\u001b[36m \u001b[0m\u001b[36m        test_loss        \u001b[0m\u001b[36m \u001b[0m│\u001b[35m \u001b[0m\u001b[35m   1.5079567432403564    \u001b[0m\u001b[35m \u001b[0m│\n",
       "└───────────────────────────┴───────────────────────────┘\n"
      ]
     },
     "metadata": {},
     "output_type": "display_data"
    }
   ],
   "source": [
    "# testing runner\n",
    "# BEST CONFIG - NOTE (attn = True, 12 epochs, tf_ratio=0.8)\n",
    "runner = Runner(SRC_LANG, TAR_LANG, 128, 3, 256, 'LSTM', 0.8, True, True, 0.0, 'Adam', learning_rate=2e-3, batch_size=128)\n",
    "trainer = lt.Trainer(max_epochs=12)\n",
    "\n",
    "trainer.fit(runner)\n",
    "runner.freeze()\n",
    "runner.track_test_predictions()\n",
    "trainer.test(runner)\n",
    "a, b, c, d = runner.save_test_predictions()"
   ]
  },
  {
   "cell_type": "code",
   "execution_count": 13,
   "metadata": {},
   "outputs": [
    {
     "name": "stdout",
     "output_type": "stream",
     "text": [
      "['aurobindo', 'pirandhana', 'paantvitth', 'payanpaduththavillai', 'chithiraip', 'veetak', 'veettirkuch', 'seenivasa', 'siridhalavu', 'parappazhavai', 'kaththirukkakudaathu', 'magilchchiyaana', 'poarththukkeyar', 'sambrathaaya', 'grover', 'caaminaathan', 'kidanta', 'neethu', 'nirainthirunthanar', 'vimaanangalum', 'beaverton', 'shipping', 'mudivilaa', 'eeyaththagadu', 'miramar', 'thirumaalin', 'nulainthathu', 'tuurbauu', 'piranthullathu', 'nunmai', 'aalosanai', 'tamizhaiyum', 'sarwar', 'piranthapoothu', 'malargalil', 'avarkalinaal', 'becqy', 'vazhangkunar', 'vaanggappadum', 'shores', 'siraaj', 'neeroattaththin', 'edhirkkatchi', 'majeed', 'peyaroa', 'panithan', 'atul', 'vimaanangalin', 'chozhargalukku', 'udaipur', 'eenoo', 'media', 'vangiyaalargaludanaana', 'thiruththuvatharku', 'titaniumm', 'idharkellaam', 'pakiirathan', 'kuutukalil', 'vaathanggalai', 'kollaadhavar', 'idaith', 'thiyaakaraajar', 'accelya', 'vealaiyaaka', 'velaiththittam', 'paek', 'andar', 'wai', 'bhusawal', 'nilaippaattil', 'goopee', 'arkis', 'maembaalam', 'vechchitteengaley', 'vaathittu', 'cakkarattai', 'sonwani', 'panitthaan', 'cranston', 'jinivaa', 'kanavanin', 'bakthakedigal', 'kulanggalin', 'parppavar', 'idharkellam', 'adankiyuzhzha', 'latchiyaththirgum', 'piridhoru', 'thanggumidam', 'railway', 'aerpadavillai', 'vipaththin', 'polavo', 'maheshh', 'varunthaan', 'aanaiya', 'noolum', 'erickson', 'aarampiththullathu', 'asija', 'katch', 'maiyamaaka', 'kooppaiyil', 'kuuttankal', 'sernthuvittiruntha', 'teta', 'aanaimalai', 'yuneskoavin', 'varaaga', 'vandhirundhanar', 'rajgarh', 'munnetukka', 'kkul', 'kallaala', 'lee', 'thittamittullaar', 'thaervil', 'muguthuvali', 'mansfield', 'kaiyaal', 'aana', 'kudayyil', 'sollra', 'itarsi', 'kirishthavarkalin', 'adumattumalla', 'shajapur', 'colii', 'saethamadainththana', 'matriyirunthathaagavum', 'shaavai', 'panimanai', 'saliththollaikaana', 'chitranshi', 'narampukal', 'andri', 'kaithal', 'ananrtham', 'cork', 'beepi', 'sasanka', 'under', 'yoagaththin', 'renton', 'magaaveer', 'saashai', 'basirhat', 'panigalukkum', 'kulamum', 'kayitrril', 'vilaiyaadudhal', 'fitzgerald', 'modern', 'kota', 'kartu', 'kalluriyaga', 'iththittathirkku', 'thanithaniyaga', 'kark', 'vaelaiyin', 'maattruvathai', 'uruppugal', 'vaippaar', 'braamanarkalum', 'adiyiliyaal', 'kezh', 'thadaip', 'panguthaarargal', 'pudhuvaiyai', 'thadaipattathu', 'kaimari', 'ouil', 'santos', 'seithiyaalargalukum', 'pudhumaigalai', 'meemanjai', 'padhivar', 'seluththappadavendum', 'thoguppin', 'eduththirukkirathu', 'chudalai', 'yokkiyargalukku', 'ippothea', 'anupiyullathu', 'leakin', 'anuraathapuram', 'oliparappittu', 'nanmaigalaip', 'gooldain', 'uruvaakkaththirku', 'maraala', 'santana', 'paes', 'vikraman', 'azhugai', 'oruvar', 'bayangaravaathigal', 'jappaanin', 'bisiyaaga', 'wells', 'pasukkalin', 'enggo', 'hempstead', 'kidanthanar', 'kuriththullaargal', 'dae', 'kadidhamum', 'alakiyaana', 'sangaththai', 'thirunthiyirikkirar', 'masuthiyai', 'thogaiyaanthu', 'adhumattumalla', 'odissi', 'samapangku', 'kedaaiyaa', 'soazhargalukku', 'aarppaattangal', 'dhakshinaamoorthy', 'kaithigalai', 'pazhani', 'seenitthovai', 'gaines', 'ezhuthiyirukkiraargal', 'kakinada', 'kidaikkaadhadhaal', 'tayde', 'pirammaththai', 'moolzhgadikkappatta', 'kontirunta', 'piraroodu', 'matkalangaley', 'kaaranamaagum', 'ayiathimuka', 'loova', 'meenkalaiyum', 'vakuththaal', 'muthalvarai', 'kaattrae', 'thalaynagaram', 'thiranaaligalukkaana', 'atkinson', 'yuuee', 'kurukkup', 'fertilizers', 'lancaster', 'kanavanathu', 'thuruvam', 'thulai', 'sarbia', 'thunburuththal', 'kampalattu', 'yoorik', 'koottappatta', 'agachchiththarippu', 'uraiyaadalgalai', 'seyalpatatha', 'kaalakattaththil', 'pesinen', 'karuthippaarththu', 'rivas', 'arellano', 'symon', 'saaradhigal', 'vaethangkalil', 'seyalpaduthal', 'vendum', 'ekapoakam', 'thankich', 'therinthirunthavar', 'puunakariyil', 'porundhavillai', 'pinvaanginaar', 'koppai', 'matravargalaith', 'weils', 'kilappi', 'varukinrana', 'puratti', 'kalviyaandu', 'naangalum', 'uruvaakkal', 'laal', 'varuvaay', 'poivittaar', 'wheel', 'mishra', 'solren', 'kaividappadugiraargal', 'seiyappattiruppaar', 'aarvaththaik', 'vaattara', 'paantavarkalai', 'pathikkaththaan', 'ezhuthiyulla', 'gudepu', 'alambiththudaiththu', 'kallurigazhum', 'deerfield', 'raentam', 'padigalin', 'isuzu', 'moorththikal', 'therkkilirundhu', 'laqchhami', 'valinadaththi', 'emilie', 'gardan', 'santharppankal', 'pirachurankal', 'kavalaiye', 'ezhundhukkum', 'gudd', 'dasila', 'vetridaththil', 'chennai', 'unarndhirundhaan', 'kelvih', 'texas', 'matravargal', 'adiyum', 'earkanavae', 'santhan', 'wedik', 'kaavalthuraik', 'thodarpalar', 'karanamaakum', 'shimman', 'patrick', 'lamb', 'balmer', 'vitum', 'redding', 'kadidhangalum', 'birlasoft', 'sollappadupavargalum', 'prabhoo', 'redwood', 'kalra', 'napa', 'nigazhchiyum', 'mutiyala', 'perundhaabam', 'harres', 'solvathaga', 'piramukar', 'idaodhikkeedu', 'vaelaigalum', 'koottangalukku', 'mahaveerar', 'bula', 'aaivukku', 'koottangalai', 'passaic', 'asoq', 'gouuld', 'ullatakkum', 'thayaarippathundu', 'inththiyaavirkul', 'araku', 'narambugalai', 'panigalukkup', 'okay', 'nigalvugazhaiyum', 'irukkinroom', 'aazhthulai', 'kalvikkaana', 'kovai', 'alaiyum', 'kulithu', 'odisii', 'sedhamadaindhu', 'yeraalam', 'tokaiyin', 'arignargalinaalum', 'cheyalmuraiku', 'vidhiththu', 'kontiruntha', 'kuudum', 'thamizhakatthilirundhu', 'vilaiyaaduthal', 'maddox', 'vaangguthal', 'cheyn', 'puriginrana', 'aathmaa', 'kitantanar', 'kettathu', 'alavugal', 'ganeebaa', 'kidaikkinra', 'seetu', 'syriyap', 'masuuthiyai', 'akkanitha', 'jallian', 'yerpaduvathudan', 'ahmedabadil', 'ennaa', 'saraikela', 'veliyaagiyirundhaal', 'valanguvathai', 'rishiraj', 'mandaavar', 'nawin', 'venmaippuratchiyin', 'thalaivarai', 'suvaachiththirukkum', 'vadamaagaana', 'nyaayirandru', 'cankath', 'iraingaaname', 'kolupil', 'nadunilaip', 'webster', 'ramon', 'vaakanangkalin', 'kaalanigal', 'aanthai', 'avarooda', 'mcdowell', 'seiyyappattapothu', 'pugaaril', 'sengkuththaana', 'magatha', 'infraprojects', 'vanurti', 'thadangkalil', 'kulaththirku', 'durgai', 'bee', 'kabulil', 'madala', 'shashthrigal', 'nadandhabothu', 'raenjch', 'kolhapur', 'irusakkara', 'church', 'velip', 'asramm', 'overgal', 'nalliravu', 'baarathiyaar', 'athishta', 'poaraan', 'vaerldu', 'glycols', 'ariyum', 'swamigalaippatri', 'seyint', 'bareli', 'vaangavum', 'edukkumaaru', 'kandippa', 'madgaon', 'uththiyogaththil', 'pukazhpettravai', 'tinsukia', 'ashraf', 'porulaagaum', 'akaththi', 'seyyulgal', 'oottappattullaarkal', 'vaiththiyam', 'matravargalthaan', 'aegis', 'adangkiyulla', 'appothe', 'young', 'bhopal', 'aangalaik', 'panigalin', 'moody', 'azhaga', 'hendrix', 'kannoottatthil', 'yakima', 'saunders', 'kulanggalaiyum', 'joliet', 'valakkukalukku', 'kurdu', 'thompson', 'ariviththirunthathu', 'viil', 'kavali', 'malarkalaiyum', 'budaun', 'nanmaikal', 'naangalaum', 'twin', 'antioch', 'veliyidappadavillai', 'pandavargalil', 'alam', 'sadaamudiyan', 'parakkum', 'saaiman', 'valarppaith', 'adadaa', 'maadhangalilume', 'yookam', 'kurainthae', 'tiwari', 'padaiyaniyum', 'palu', 'sangamaga', 'muraimaikalai', 'paduththiya', 'vealaiyaiyum', 'seiyappattiruntha', 'ataher', 'neeroattaththil', 'seiyalattiryavargalaiyum', 'avathikullaakuvaar', 'adiittii', 'esuppaaniya', 'chuttik', 'munaipunilaiyaaga', 'piramaandamaana', 'communications', 'polaagivittadhey', 'nuraiyeeral', 'inraikkum', 'sandhiya', 'saemikkappattullathu', 'shaji', 'neemuch', 'yekspoa', 'arundhivittom', 'pannividuvaargalo', 'siththaantha', 'kavalaiyil', 'forest', 'gupta', 'padaththaiyum', 'kuuttankalin', 'poattiyaandahu', 'thiran', 'kkalin', 'daiie', 'padaithan', 'peraniyil', 'microsaaft', 'mcclain', 'pattakaararaana', 'ithevealai', 'vaippaargal', 'naanaa', 'nilainiruththum', 'asooka', 'serndhu', 'medizensar', 'nokkiye', 'nadanthaalpothum', 'murlidhar', 'malhotra', 'doorling', 'appaatal', 'stanton', 'nerukkam', 'aagivitum', 'nadhe', 'uyirmai', 'holidays', 'quantumm', 'odisha', 'samayththa', 'ethuvaaka', 'tharavai', 'maheshwari', 'vazhi', 'rswm', 'thamiram', 'vittuvaiththirundhaar', 'parimaatramum', 'pannum', 'davangere', 'theeni', 'raymond', 'visaikalai', 'munger', 'vilaiyaadik', 'chirutai', 'paduththiyullathu', 'thandanaiyilirunthu', 'alavukatandhdha', 'kavalaippadum', 'ivvaiyellaam', 'maalik', 'santharppankalai', 'munmaadhiri', 'puuna', 'bhalla', 'mugaamgal', 'garrison', 'uruyaagak', 'aangalitam', 'akzo', 'mumbai', 'vadikal', 'vealaiyin', 'sundhari', 'pogap', 'gauuld', 'aadugalil', 'en', 'thondriyathaal', 'aggarwal', 'uruppugalukkum', 'thalangkalil', 'inaiyaanadhu', 'himachal', 'pakthargal', 'thiruvarangkam', 'uyilil', 'paarppavar', 'virathanggal', 'thoatruviththu', 'sattruth', 'bisht', 'matrtravargalaiyum', 'vattiyai', 'bidar', 'blue', 'aandilirunthu', 'nathiyaiyum', 'kooppai', 'seyin', 'cardenas', 'yaddanapudi', 'aurangabad', 'neettippu', 'panigalukku', 'perugiyathu', 'vaakkuruthu', 'raanuvaththirku', 'adhaavadhu', 'vidukkappattulathu', 'imili', 'amerikkarkal', 'maiyamaakavum', 'paanam', 'pilaiyaaka', 'moines', 'yooe', 'chhateja', 'aan', 'kaithiyin', 'nokkik', 'senjchi', 'poruppaettru', 'glaxosmithkline', 'munechcharikkai', 'mugaamai', 'kadavulkalin', 'mikkavar', 'naeyargal', 'irukkumpoathu', 'kuutamum', 'pandri', 'pithappai', 'vazhikattral', 'thousand', 'uyarnilaip', 'othara', 'peruvathargaaga', 'kooravum', 'shandilya', 'paarppavargalukkaaka', 'vazhakkukalil', 'aavanappaduthuvathu', 'pharmaceuticals', 'jeykumaran', 'varith', 'valiyuruththiyulladhu', 'palaththa', 'klein', 'nirvaaga', 'oppandhap', 'thiraiyulagin', 'valukkattaayamaaga', 'castro', 'chakrabortty', 'chutalaimaatan', 'melton', 'shahjahanpur', 'kyubaa', 'sadhavaahana', 'aapogusil', 'olympia', 'centro', 'itheyvelai', 'amaiththirunthavargal', 'japan', 'nasreen', 'puthucheri', 'haaris', 'emile', 'seyalpadumpothu', 'viduththullathu', 'kuraikkappattulladhu', 'forge', 'sekariththu', 'kuraindhdhavargal', 'silica', 'vaachiththavatrin', 'praem', 'kooriyiruppadhaavadhuk', 'majesco', 'fro', 'vegappandhu', 'pompano', 'seidhullaargal', 'vetrtrita', 'kelvinn', 'cholar', 'kelwiin', 'taklas', 'vaanginaal', 'vanthiyathevan', 'adheedhamaana', 'thara', 'maruththullathu', 'aalaiyum', 'kozhuppil', 'kiuubaa', 'varavirukkum', 'kolunthu', 'akola', 'vaanggich', 'athumattumillamal', 'cet', 'commerce', 'tourisamaaga', 'anniyaraanaar', 'santhiraashtamam', 'yeppadich', 'paathaiyaip', 'collins', 'renewables', 'aanaiyaththil', 'thambadhiyinarukku', 'africavai', 'vaakkuvaathathil', 'thaandavamaagath', 'payirgalaith', 'vidayamaaka', 'kuuttamum', 'wellsh', 'maaligaikku', 'kanduvarugindraargal', 'apex', 'nutrruvargalukku', 'leten', 'makilchchiyudan', 'thaangak', 'zordan', 'aasiriyargalukku', 'aayeraththu', 'innel', 'seiyyappaduvathum', 'solapuram', 'karthikeeyan', 'ontruthirandulla', 'tanu', 'seyarpatiruppadhaaga', 'vaiththiyanaatha', 'cigniti', 'thamilakatthilum', 'asoogaavai', 'akaththikkeerai', 'excel', 'immakkal', 'koottatthai', 'vivariththullaar', 'veettukkul', 'insurance', 'koduppathaaga', 'japanai', 'santhiththup', 'karunakaran', 'appadip', 'kaidhigalai', 'thamilagatthilum', 'poola', 'kandarinththa', 'palakaiyin', 'inrith', 'thodarbugalaiyum', 'logistics', 'noolagangkal', 'nanmaiyae', 'neeraith', 'kovaiyin', 'uudakam', 'thamizhakatthaich', 'deepanggal', 'wladimir', 'uruppugalaiyum', 'mikkavargalaiyum', 'assam', 'mudiyalai', 'melaadhikkangal', 'aerpadum', 'amrishtaril', 'latchaththirkum', 'unavuch', 'aarae', 'kovindhaiyum', 'munnuthaaranamaaga', 'olsen', 'elagip', 'odici', 'udhagamandalam', 'alaihi', 'evaiyae', 'geethanjali', 'pethonn', 'kalyaana', 'kaahpi', 'volgaa', 'parisoathiththu', 'perth', 'kadhaanaayaki', 'newark', 'diie', 'padippaith', 'adhirchchiyadaindha', 'uthadugalla', 'aliyum', 'gita', 'veruththa', 'kotturu', 'nelson', 'cubavil', 'kadarkaraiyil', 'peravaith', 'chankankalukku', 'saethamadainththu', 'udambai', 'vidhya', 'strong', 'azhiththanar', 'baka', 'ventum', 'aangalukkaana', 'kalvikkaka', 'uyirvaalum', 'asokan', 'thamilakatthukku', 'theriviththullathaga', 'deoghar', 'mikkathu', 'uththirappiradhesa', 'inththiyaavai', 'manudhaarar', 'nikazhvukalaal', 'thandanaiyilirundhu', 'sura', 'seimadhi', 'pearland', 'pinpuramaaka', 'naarkaali', 'ivanga', 'yeitha', 'yedhirkka', 'inaithidumaaru', 'seigira', 'kadambur', 'ivanaippaadiya', 'pasukkazhil', 'kandarinthanar', 'quuantuumm', 'munvaiththaar', 'pachchaanaip', 'snow', 'thalaiyittu', 'delhi', 'fernandez', 'mitra', 'kei', 'mandadi', 'quuantam', 'vaedhi', 'kaalaththai', 'ilakkiyaththuraikalukku', 'sosalisa', 'abuthaabiyil', 'alam', 'amaitthukkondullathu', 'manipur', 'aaivukkaana', 'pukazhpetraar', 'bhiwani', 'ezhuthiyullathu', 'yelimaiyaaka', 'maalaikal', 'bathilum', 'varigal', 'deccan', 'dhonee', 'apinaya', 'yeluthiyullathu', 'sollukkaana', 'siridhazhavu', 'yookan', 'thodankinen', 'fatima', 'thiriththanna', 'gandhimathi', 'suthamana', 'ilanthu', 'avathaaranggal', 'tharukintraar', 'aandilirunththu', 'goolda', 'ellison', 'athithamana', 'orangal', 'sreenivaasan', 'paava', 'ottik', 'palagaiyil', 'kulanthaai', 'paathikkap', 'kathirveecchin', 'indhuk', 'ventures', 'monterey', 'izhuthupottavar', 'povatharku', 'aagividum', 'padutthiya', 'mudhalvarai', 'thalaimaith', 'thoarruviththaar', 'kannikalaich', 'kaimioo', 'veentum', 'devaalayam', 'veluththu', 'ooduruvalgalukkum', 'naattavargazh', 'killeen', 'kuudumaana', 'kool', 'thiranaalikalukkaana', 'seiyappattan', 'vanggak', 'mupparimaana', 'makizhunthu', 'ippodhey', 'udalparumanukkum', 'bye', 'mukaitheen', 'ther', 'aarvamum', 'railgal', 'woonsocket', 'paththaandu', 'sasthri', 'sangiligal', 'kinna', 'uthaviyaalargal', 'aaksuvaris', 'evu', 'vaakuvaadham', 'aayeraththai', 'thodarbuth', 'rahman', 'miqii', 'kaavalthuraip', 'cincinnati', 'goodyear', 'naalgalil', 'rand', 'idaippaguthiyilulla', 'saregama', 'heidelbergceat', 'nicotine', 'vitayamaaga', 'paathiyaaka', 'musleem', 'nadaththinar', 'thamillaiyum', 'ain', 'mukaththuvaaraththil', 'thoguththaar', 'thodarbukalil', 'anpaip', 'aalaaga', 'hattiesburg', 'capsyulukku', 'odyssey', 'kulaththinaraik', 'euro', 'iniyaavadhu', 'sugar', 'chakkarattaip', 'darpoo', 'maruththuvamanaikal', 'ggoo', 'vaiththiyasaalaiyin', 'sikar', 'mandabaththinullea', 'nelsan', 'arai', 'irumal', 'mision', 'siridhu', 'udagaththai', 'aaruroodu', 'kadarkaraiyilirundhu', 'kolin', 'thokaiyee', 'maalaiyum', 'thanikthanik', 'rekla', 'pilaikalai', 'cuubaa', 'manaiviyidam', 'visaka', 'azhagi', 'keats', 'kevalmna', 'purigindranar', 'vaakkittu', 'cofee', 'uyarmanithargal', 'seidharth', 'surrivara', 'kuuttaaka', 'paarththukondu', 'adhanadippadaiyil', 'redar', 'dhayalan', 'valinadaththinaar', 'sarangpur', 'independence', 'antriravu', 'pilaant', 'kuutapata', 'soozhappattullathu', 'yooth', 'karachii', 'jaunpur', 'veliyaagavillai', 'crest', 'tholaipaesi', 'gtpl', 'thukkamadaiyum', 'villiyam', 'vulagak', 'azhukku', 'firozpur', 'baliga', 'pallavargal', 'pathulaiyil', 'thaniththanmaiyaana', 'valanguvathudan', 'serverukku', 'atharkerpa', 'thurubadhanaana', 'maliq', 'conner', 'koly', 'chalukkiyarkal', 'mcmahon', 'vazhipattukkollalaam', 'hpaarm', 'kozhukkattai', 'khammam', 'ahamadabad', 'katarkarai', 'piratecam', 'verumaiyaaga', 'molina', 'kadapa', 'malaikaattugalin', 'varuvaayth', 'nasavil', 'theendaamai', 'jagaragallu', 'reading', 'morena', 'kidaikkindra', 'sonthamaa', 'titaniuumm', 'qamio', 'loodhana', 'seidhavarukku', 'poruththappattirukkum', 'karrachi', 'kambankal', 'yaaaraenum', 'americaavai', 'ungalukkaana', 'kooriyathaavathu', 'ekadarinaa', 'seibavargalukkum', 'serverkal', 'kattumaanam', 'varadhan', 'virichal', 'uudaaka', 'busyaaga', 'hydro', 'niraivetru', 'villupuram', 'waee', 'tobaggo', 'murpattaar', 'noushathin', 'magana', 'ahmadabad', 'noolakaththai', 'kettaal', 'magizhunthu', 'kavalaippadamal', 'thaankal', 'bakaa', 'pinaikkappattavar', 'piriththaar', 'uruvaakkuvatharku', 'yenavethaan', 'colombil', 'seethakkathi', 'aasram', 'lenexa', 'euless', 'solvathu', 'koottavum', 'adikku', 'puthuchchaeri', 'paaluravu', 'ambalavaanar', 'maruththiruppargal', 'koluppil', 'kuva', 'eedupattadhaaga', 'rajput', 'beatles', 'musulim', 'azhiththaar', 'maaraaka', 'aavudaiyaal', 'paso', 'vidukiravanukku', 'parattukkal', 'cholunkal', 'vangadhaesaththin', 'sarawagi', 'surendranagar', 'saantham', 'magaadevi', 'choottik', 'pandavargalukkum', 'nucleus', 'uzhaika', 'sent', 'roawer', 'untaanathu', 'aayvukalukku', 'duke', 'gables', 'vaguththadhu', 'pandavargalai', 'malarae', 'cherinthu', 'tamizhakatthukku', 'paalum', 'garg', 'castaneda', 'sivaprakasa', 'lakhimpur', 'kaavalturaik', 'kethumaalanin', 'americavil', 'illaiyenil', 'seerudaikal', 'koodadhu', 'rishii', 'kaattuvathaaga', 'dhoni', 'solvadhenral', 'noushadhin', 'uchchakatta', 'soozhappatirukkira', 'textiles', 'ashok', 'kuzhandhaay', 'uppsala', 'veeraankanaigal', 'vlaadimir', 'tholumpoathu', 'maththiyatharaik', 'rahaaney', 'nava', 'rend', 'qool', 'keeran', 'cipla', 'virumbugiraargal', 'nashik', 'kudumippidiyum', 'arivippugalai', 'ringk', 'seidhidavum', 'francisco', 'thambathigal', 'peaththi', 'irundhaale', 'rehman', 'zed', 'serththanar', 'vanggikku', 'iyakku', 'reilly', 'thalaimaiyetraar', 'financial', 'quantam', 'samarppikka', 'magha', 'goud', 'myyamaakavum', 'mattaththirkkum', 'kataisi', 'karuththuk', 'motihari', 'sendrullathu', 'aatchiyamaikka', 'solvathentraal', 'kuzhanthaai', 'veesith', 'nilaithaan', 'gardner', 'kalviye', 'paathaiyai', 'karpathil', 'eedupattanar', 'barron', 'kodaikanal', 'khare', 'paanankal', 'gallon', 'larsen', 'thayanidhiyaagiya', 'seyalpatum', 'setti', 'chuttinar', 'movers', 'iththeevu', 'pakuthiyaith', 'intrith', 'pradhaesa', 'vaelaich', 'paliyiduthal', 'chaudhary', 'ibraahim', 'maarpai', 'nigazhndhirukkume', 'jhindal', 'vaithirukkiradhu', 'pidippathu', 'gaurilla', 'cauimbatoore', 'thaniththaniyaana', 'manai', 'kaarg', 'karuththukkalin', 'therigiradhu', 'earpadaatha', 'muhammad', 'provo', 'inthnikalvai', 'kaappeedu', 'karkhele', 'vitna', 'kokarnesvarar', 'panri', 'niruvappattuch', 'saintt', 'tuurbo', 'kuzhuvinargalukkidaiye', 'tholuthaar', 'taataa', 'kelviin', 'premaa', 'thamizhakaththaych', 'maanikkam', 'sooraavalikal', 'anant', 'kizhaar', 'wadhawan', 'kuuttappatta', 'seiyappattullaar', 'aarppaattam', 'kulatthirku', 'kadithaththil', 'kaidhiyaaga', 'vaadiya', 'letin', 'loakiyaa', 'yoosiththu', 'solarkal', 'tara', 'sivandhu', 'azhiththathu', 'kaidhu', 'sheppard', 'kulangkalum', 'thiruvadanai', 'vetrtridam', 'peyaraal', 'mahabaleshwar', 'piriththiyaaniyaavil', 'talankalil', 'pirasanthaip', 'vachchinde', 'anju', 'paniyida', 'aarppaattangkal', 'mcmillan', 'eesal', 'ithazhaaka', 'moondrilirundhu', 'seedharth', 'thalaivanum', 'urii', 'waeter', 'vazhithoantralgal', 'varalaaratra', 'thaankak', 'gopy', 'itharkamaiya', 'araikuuval', 'oppanthak', 'baabaavin', 'ewer', 'tharavugalai', 'neeroadu', 'sindhanaiyai', 'chary', 'ooraga', 'everett', 'samanaana', 'appadiyum', 'khaliq', 'koophee', 'muyantrapoathu', 'vetrtritaththai', 'nagaraththilirunthuthan', 'arivippukalai', 'poaga', 'goldain', 'makammathu', 'payanikalukku', 'appagudhi', 'thuvakkappattu', 'kanniyar', 'evanston', 'vaaganangkalukku', 'kaurava', 'amerikkarkalukku', 'swain', 'moondrilirunthu', 'pukalpettraar', 'orlando', 'kurainthavarkal', 'adhimugavai', 'gunamaa', 'thaangaamal', 'thoolvikkup', 'kaaranamaagap', 'kathaikku', 'becky', 'selikkukkum', 'kadaichchanggath', 'vaeroruvan', 'vazhanggunar', 'noolakangal', 'oovar', 'carloo', 'thaangkakoodiya', 'arimugappaduthuven', 'suzharpanthu', 'vimaananggalum', 'pygmies', 'tun', 'sothai', 'mudikkappattiruntha', 'magilchchiyaaga', 'shavai', 'guarrilla', 'nirangalh', 'tamilakap', 'kenner', 'naveenath', 'sanghvi', 'paarththuch', 'samamaagavum', 'vaangum', 'geethai', 'padaiththanar', 'vilimpugal', 'kudippazhakkam', 'ingaa', 'sattamaa', 'jyothy', 'ooraandil', 'vangathaesaththin', 'maaskoovin', 'swasippadhaal', 'padithal', 'pathikkappattullathu', 'dhandavaalangal', 'shankar', 'vaelaiyaaga', 'amerikka', 'thoolaith', 'vedik', 'wlademer', 'patil', 'vichaikalai', 'virkanum', 'adhilaeyae', 'orange', 'solgireergal', 'kodukkappattikkum', 'thodarpukalil', 'sinthithal', 'shiiv', 'gond', 'bhasin', 'koolgalai', 'kokuyo', 'poola', 'tie', 'enrirunthirukkum', 'jammukashmirin', 'panguthaarargalaaga', 'muzhavu', 'aasiriyaraakap', 'aanmikam', 'pathaviyerpu', 'ahmadnagar', 'mudinthaalum', 'bhilai', 'carey', 'padigal', 'covai', 'nanmaiyaaga', 'kavalaiyee', 'nadaththinaal', 'pinvaangkinaar', 'voolka', 'nana', 'just', 'kallangkuzhikku', 'aadupavar', 'siims', 'supply', 'bareilly', 'ariviththirunthaar', 'theriyaathaa', 'koabi', 'ungantha', 'mamallapuram', 'dekalb', 'idippu', 'thanseivinai', 'idhaiththaan', 'pirarukku', 'siridhum', 'sakkaranggalai', 'yerpadaatha', 'talaivarai', 'angkeegaaraththaip', 'nizamat', 'jet', 'eekapoakam', 'pradhaesam', 'eevu', 'sabaiyinaal', 'raedaar', 'vidayam', 'aayvugalaiyum', 'purivadhu', 'pirgaalaththu', 'civinki', 'hinton', 'murthiyaaga', 'mahesan', 'keenl', 'kudhinkaalgalai', 'nadandhuvaruvathaagavum', 'cherbiya', 'matriyirunthathaakavum', 'aavanapaduthuvathu', 'kurichi', 'varshney', 'thirankal', 'paliyiduvathu', 'veezhchchiyin', 'durkkai', 'iraagavanai', 'kodiye', 'distriparks', 'mesion', 'nisan', 'kooriyirunthathaalum', 'nootrtriyettu', 'vayal', 'paduththiyadhu', 'kadaisiyaaga', 'titan', 'manathukku', 'vivaatha', 'anumadhikavillai', 'niyamikka', 'kulonsillaa', 'peepi', 'fremont', 'africa', 'parathaechi', 'sonnathum', 'avaridam', 'kolukkattai', 'aalaiyam', 'qarachy', 'pandavargalum', 'kollappadavullamaiyum', 'asuraththakkuthalgalil', 'poly', 'verenna', 'mendru', 'polutil', 'kooriyapoothu', 'kaaranaththaith', 'potter', 'sirithum', 'banks', 'nasra', 'espinoza', 'kalloori', 'unarnthaan', 'piravaecha', 'niruththappattu', 'thambathi', 'guha', 'vatamaerkil', 'unnidam', 'veettirguch', 'thoontriya', 'kaankiraar', 'pirakaasa', 'gud', 'expo', 'tokaiyaik', 'bauroon', 'aaytha', 'titanium', 'avaroo', 'sottiyirunthathu', 'chakkarangalai', 'kadhaiyamsangaludan', 'magaalatchumi', 'coult', 'valakkukalum', 'nalloor', 'kodiyertrathudan', 'panigazhin', 'sarvargal', 'taraa', 'aangalae', 'adhaepoal', 'covaiyin', 'arupaththu', 'kaalathung', 'adiththuvittadhagavum', 'darvyn', 'payir', 'panipat', 'nanmaiyaka', 'thogaiyee', 'veil', 'serkkaikal', 'palagaiyin', 'ivaiyellaam', 'kazhalai', 'swamy', 'auuguust', 'oozhalil', 'mattancheri', 'vidhdhiyaa', 'noolagaththil', 'sailaja', 'rancho', 'visaeshamaana', 'pannirandaam', 'mathura', 'katchikalai', 'manatil', 'kaiyal', 'magilchchiyum', 'skotch', 'anuppiulladhu', 'bogi', 'panakkaararkal', 'veliyidavillai', 'sanggaththirku', 'ezhuvadhudhaan', 'neerittaal', 'kovalanum', 'eeduppattathaaga', 'sateesh', 'malaiyadivaaraththil', 'maattruvadhai', 'kadithangalum', 'seithadhai', 'jharkhand', 'ahmadabadil', 'iqbal', 'blackburn', 'sivadhaanuvai', 'aneetaa', 'sehgal', 'periyathaaka', 'kameoo', 'saaththiyamaa', 'avalaith', 'thadutthaar', 'works', 'pittman', 'veetirkuch', 'barrett', 'inam', 'baiswar', 'nalwa', 'yerpadum', 'cheythavaruku', 'palaathkaara', 'inthiyaavai', 'dhurkkai', 'periyavaraaga', 'corqa', 'irukik', 'nuraiyeeralin', 'sevvaai', 'winter', 'nulainththanar', 'valaigutaa', 'serbiyaa', 'kuliththa', 'vaei', 'vaakanangkalaiyum', 'thunindhu', 'thamizhagatthai', 'chairil', 'padaitthanar', 'bhatt', 'gouud', 'aisvaryanggalaiyum', 'vitayangkalai', 'waseem', 'sakkarangalai', 'youth', 'payirgalilum', 'pirappikkaadhadhaal', 'yogan', 'mauuhammad', 'kurukkum', 'yikkuraiyaippokkum', 'viliyam', 'baava', 'thiyaagaraaja', 'tide', 'pump', 'maadhulai', 'pakaa', 'maattramadaiyum', 'paeraasiriyarum', 'sheopur', 'virpannarpolap', 'kora', 'qey', 'jolyan', 'thayarippadhundu', 'naaz', 'eerugalai', 'kaaniyilladhavarukku', 'malarkalaik', 'poruththathu', 'anuppiyullathu', 'porumaiyai', 'yematraththukkum', 'sunteck', 'vaangkappattu', 'alikkappattirundhadhu', 'baeebeel', 'puutaan', 'unavugalaiyum', 'piranthirunthathaagavum', 'poruppetra', 'parichchaiai', 'willis', 'aankalaik', 'titan', 'munivargalagiya', 'pesinoom', 'kuupduvoom', 'kanavaanathu', 'thudiththirunthaal', 'qorq', 'nalla', 'nokip', 'santharppam', 'johnson', 'sinhaa', 'cumbaththin', 'senguththaana', 'thodarnthaal', 'ivatrukkum', 'rendaam', 'tamilagaththilum', 'koottamum', 'poakkuvaraththil', 'suththappaduththum', 'emmai', 'sangamikkum', 'hexaware', 'polutu', 'ambedkar', 'kanamazhaiyaal', 'salazar', 'rings', 'valangkuvathutan', 'natureview', 'visaarikka', 'aranoolgalaana', 'dhanbad', 'nainital', 'pottuth', 'kayitrin', 'uttarakhand', 'veettilae', 'odiissey', 'kitaikkaatu', 'manuththaakkal', 'erinththu', 'baee', 'anuppia', 'oppandhaththil', 'arumai', 'magaa', 'poruppaettrathu', 'eagan', 'pesinaen', 'sikkana', 'pilai', 'macias', 'kidandhanar', 'saerkkaigal', 'sasthirigal', 'narambugal', 'yoakam', 'srinivasan', 'yirukkiraaragal', 'meman', 'sambhavaththandru', 'microwsopht', 'appakuthiyin', 'animaa', 'pandriyin', 'coast', 'airtel', 'uthesithirundhaar', 'nextgen', 'varudi', 'seyalpadaatha', 'yookkiyamaana', 'tunn', 'veelchchiyum', 'atiyum', 'unavukkaaga', 'kaaranamaakum', 'watarr', 'kalanthuraiyaadalil', 'alangaraththil', 'vazhikaattu', 'thanjavur', 'murthi', 'nigalvugalaip', 'keelirangi', 'apoorvamaana', 'ayropiya', 'needhavaan', 'vittaal', 'callahan', 'poyinar', 'iowa', 'kuutattin', 'pavizhamilam', 'kurichchi', 'karmangkal', 'karuththaakkam', 'karna', 'dhandanaiyilirundhu', 'soazhar', 'peththi', 'aaivukalaiyum', 'poagirean', 'malda', 'kaarsan', 'indianapolis', 'priththa', 'naadoadi', 'kulanggal', 'viththiyaachamaaka', 'barry', 'sangiliyai', 'makilchchiyum', 'nagammaiyilum', 'tamilakam', 'everest', 'vimaananggal', 'pozhudhupoakkaaga', 'kutaynthu', 'vaakkuppadhivu', 'thogaigal', 'kabana', 'yerpadavae', 'cuttack', 'mara', 'kashtappattu', 'uithale', 'thulaiyai', 'angelo', 'pathilum', 'mahanagar', 'aakivida', 'aarvaththil', 'agaththi', 'vaiththirukkirar', 'madhubani', 'kaarnar', 'theratipally', 'vaater', 'scotlaanththin', 'muyandranar', 'panrigalai', 'pukazhpettravai', 'chaudhari', 'marabanuparisothanai', 'kurainthaal', 'idhoa', 'vanggigalukku', 'utpattirunthavarkal', 'adigalaiyum', 'amaikkalam', 'vazhipaduvathu', 'oppantham', 'nigalththappadum', 'morepen', 'echcharithullathu', 'vakkeel', 'appaguthikalil', 'santharppangkalai', 'sudalaimatan', 'paduththunaen', 'myyamaaka', 'saththunavu', 'sadhaveedhamaaga', 'saertkkiyai', 'ambalavanar', 'lakshimiyin', 'kurthu', 'thevaalayam', 'woulga', 'baacyaraaj', 'eruppalar', 'anupavikka', 'dart', 'hairis', 'solvadhai', 'taetaa', 'cittanta', 'nigazhvai', 'payirkalum', 'seethakkadhi', 'maelavaiyil', 'kudippeyarnthaar', 'weterr', 'chandler', 'visaigalai', 'santharppangkalil', 'azhaikkappaduvatharkana', 'panpaadugazhin', 'segantla', 'eaton', 'oraandil', 'pudhusaa', 'thambadhiyinar', 'bandhan', 'mahmood', 'jarvis', 'thuraikkum', 'potter', 'saashthirigal', 'paathaikku', 'kaalanikal', 'pidippadhu', 'koodiyae', 'thirumangai', 'bhuj', 'cambridge', 'angkeegaarangkal', 'nagoria', 'darwin', 'seralathan', 'attoozhiyangalum', 'payanikalai', 'luutiyana', 'nulainththa', 'irukkavoa', 'paarkkiradhu', 'piranthapoathu', 'patiala', 'belide', 'sikka', 'nagaiyai', 'panghal', 'lynch', 'stokes', 'anubamaa', 'muthalvarukku', 'heblikar', 'baleshwar', 'soazhapuram', 'hines', 'vazhukku', 'choathikkum', 'sirsa', 'saappiduvathu', 'ezhuthiyirukkiraarkal', 'ilatchaththu', 'evaikalaith', 'piritha', 'kulaththai', 'idugaigalil', 'sollukku', 'kuththirukkum', 'ezhumalaiyaan', 'metals', 'seedhakkadhi', 'placentia', 'mempaduththukinranaar', 'kulumai', 'thodarpudan', 'singam', 'menon', 'padaiyinarum', 'gorrilla', 'dronar', 'savithri', 'vivagaaraththai', 'anupama', 'tezpur', 'maurya', 'vittradhu', 'koolli', 'pushkar', 'makilchchi', 'padaipaka', 'snaibar', 'uruvaagavillai', 'paandavargalil', 'yoakaththin', 'norris', 'neeroattanggal', 'poakkuvaraththai', 'kaattuth', 'mudindhdhaalum', 'asiriyarkalukku', 'padhivargal', 'pradesh', 'high', 'beibale', 'sasanankal', 'manuthaakkal', 'thattik', 'kalaachchaaraththai', 'cuba', 'kanchan', 'bhojpur', 'periyavaraaka', 'daewid', 'panigazhukku', 'yunesco', 'tharavukalai', 'nalloar', 'piradhaanap', 'segarippu', 'uudakaththai', 'shaam', 'letan', 'yeluthiyulla', 'avathaaranggalil', 'junction', 'yetooyiset', 'naamalae', 'noolakangalil', 'varatham', 'satiish', 'baiylvaan', 'paandavarkalai', 'datacom', 'muyandraal', 'thittamida', 'boattil', 'tamilpetromarine', 'estate', 'shillong', 'nayathodu', 'narampukalai', 'piraveen', 'geethayil', 'punnakaiyudan', 'taeta', 'vathanthigal', 'yeppadiyum', 'aakast', 'suchi', 'uruppinarumaana', 'wade', 'thayavila', 'tharakuutiya', 'betty', 'isaikkaruviyai', 'kondirunthavargaludan', 'uruppum', 'makaechan', 'viththiyaa', 'unavugalukkaagavum', 'shailaja', 'rasa', 'kadarkaraikku', 'puuttu', 'dhar', 'amsangkalil', 'sandhia', 'wathore', 'ariviyalaalaridaiye', 'yesuppaaniya', 'paruman', 'hoshangabad', 'seyalpatumpoothu', 'saathiyilar', 'sambradhayamaana', 'pazhu', 'makaa', 'linaks', 'ayilvaai', 'seamec', 'upayoogaththilirunthu', 'kuru', 'irukkiraargalthaaney', 'tarbo', 'kalanthaalaam', 'lang', 'yerpaduvatharku', 'neelasal', 'chinthitthal', 'thambulam', 'ilakka', 'ithalaaka', 'pinburamaaka', 'siemens', 'reeves', 'koovalanum', 'aayiram', 'akazhaayvil', 'kootanyil', 'bauer', 'yourik', 'pirachanaiyaga', 'koottangalin', 'kootpaatu', 'urakka', 'noble', 'letiin', 'kaathalukku', 'mugammathu', 'zorddan', 'thamizhagap', 'sipper', 'bhukya', 'satii', 'kadarkarai', 'thota', 'jammu', 'sikanamana', 'anthony', 'agamadhabaath', 'scent', 'saravanabhavan', 'sentrulla', 'eduththukolgiren', 'periyathu', 'aayiraththai', 'iyamvo', 'thaniththani', 'payanikalaip', 'yevar', 'noblesville', 'kejiyaaga', 'vishaakaa', 'vazhakkukalaiyum', 'vaagananggalaiyum', 'seyyappattullathaaga', 'kandedukkappattathu', 'thodarbalar', 'kaartikeeyan', 'meinaruviyila', 'jean', 'panigalaip', 'thodaathavargalukkum', 'muraik', 'chollukkaana', 'heriss', 'jeyikka', 'kuuttavum', 'madina', 'muhammad', 'sangankal', 'evatrtrukkum', 'udhayamaavadharkuch', 'sangath', 'pulampach', 'uraiyaattriya', 'yuii', 'nuzhainthiruppaargal', 'paik', 'asok', 'uloom', 'kaalatthaic', 'ring', 'ezhuththukkalilthaan', 'soozhappattathu', 'peepe', 'thapasu', 'surver', 'abul', 'toobaggoo', 'vadikkappattathu', 'rafael', 'siththasramaththai', 'tharakkuutiya', 'amerika', 'sivanthu', 'thokupaiyum', 'baurnami', 'saey', 'uththarappradesa', 'chankat', 'vanji', 'thamizhakaththilum', 'krishna', 'boca', 'bhaskar', 'pinpatruvathenbathu', 'tamizhakatthilum', 'donaldson', 'paniyum', 'poathum', 'duglas', 'odeesee', 'latchanam', 'poonee', 'biksbi', 'vladymyr', 'bharathiya', 'kadarkaraiyilirundha', 'kodooramaana', 'bhaavanaiyil', 'edirpaarkkum', 'sozharkalin', 'tabagoo', 'poonagariyil', 'pottavargalukkum', 'nadigaiyaana', 'kuantum', 'mani', 'kangra', 'sthaapaga', 'virumbugiradhu', 'deevid', 'babeel', 'solvathai', 'yookaththin', 'beetlez', 'nayam', 'thaengaip', 'mandaal', 'arivuruththugireergal', 'vazhangiyullathagavum', 'ram', 'niraivuraiyodu', 'diipak', 'pootaan', 'kuday', 'naro', 'latin', 'bara', 'mentor', 'chirumiyai', 'jaanakikkuththaan', 'seythathaagavum', 'telelinks', 'pauula', 'edukkappadavillai', 'padaiththathu', 'siriyap', 'ratnagiri', 'livarpuul', 'serbiya', 'jaitley', 'brahmma', 'balmiki', 'thedhiyum', 'kondirukkumpoothu', 'sasanangal', 'zeen', 'pottaar', 'inthnikalvukku', 'appaadal', 'pithon', 'arivadhu', 'avalaik', 'maasgoavin', 'kankaanippaalar', 'thozhilai', 'manju', 'maali', 'kuantam', 'kondirundhom', 'mugaththuvaaraththil', 'earpadaamal', 'athirupthiyai', 'nirvaagangal', 'choazharkalin', 'anuradhapuraththil', 'elakiri', 'vittum', 'villiams', 'panguthararkalaka', 'elatchaththu', 'gowravikkum', 'saathaaranamaana', 'vungalukke', 'mattravarghalthaan', 'seithathagavum', 'thoguththa', 'greenville', 'america', 'vatar', 'sangavi', 'smartspaces', 'giitaa', 'thuraiviyum', 'kalyana', 'pangupetrullanar', 'longmont', 'munnuthaaranamaaka', 'english', 'rukmaniyidam', 'pirathyeagamaaga', 'chandel', 'padaithu', 'jordan', 'edhirppaarkkum', 'manickka', 'maalikaiyil', 'kalaadi', 'poonaa', 'cul', 'valaithalanggalil', 'vaakkugalai', 'paniyilum', 'sayreville', 'gaurila', 'arena', 'ilakkam', 'thevargalukkaakavum', 'setees', 'japanin', 'tharunatthai', 'koottath', 'thatavi', 'kazhivarai', 'paakisthaanukku', 'karanamaakach', 'inriyum', 'thaiththuvamaana', 'raanuvath', 'nathiyaana', 'ashley', 'moorthigal', 'innoayai', 'thangiullathu', 'kadalul', 'uruthiyudan', 'pisiyaaga', 'metti', 'paitan', 'aankalae', 'pirachnai', 'dayalan', 'midland', 'cherrapunji', 'servarukku', 'valaigutaavil', 'haley', 'poruththappattirukku', 'thoguppil', 'noolagangkalil', 'qyuba', 'calumet', 'jappaanai', 'radaar', 'palatine', 'uudakap', 'kuuttattait', 'mclaughlin', 'indri', 'iruppaiyum', 'punch', 'tamilaringar', 'malargalaik', 'srirangkaththil', 'aankalilum', 'gati', 'matravargalaiyum', 'kaankirathu', 'siirutaip', 'paduthuk', 'chellavendum', 'piiddi', 'chakthi', 'thadaykalayth', 'vaalin', 'rawlani', 'powers', 'vaazhvathu', 'bambaram', 'maharashtra', 'ina', 'pirathesanggalukkum', 'onnum', 'purinthum', 'seiyyappattirunthaan', 'pirushadhanukku', 'apparels', 'valimaiyaana', 'nirvaagaththirkum', 'yeno', 'beltran', 'roower', 'agamadhabaatthil', 'vaethaththin', 'aththiyaayangkalil', 'roanoke', 'airoappiya', 'sikkith', 'asansol', 'kulangkalin', 'axis', 'adhikamaanathu', 'keeliranki', 'maeni', 'varma', 'koodum', 'karuththa', 'imayamalaiyin', 'ierppu', 'puroktarai', 'shanthi', 'sarbiya', 'akkiramaththinaruku', 'poattikkaaga', 'kulangkalaiyum', 'machine', 'orissa', 'kandarinththathu', 'sithiraip', 'varuththappattuch', 'loodhiaanaa', 'samprathaaya', 'wabag', 'moorththiyaaga', 'thehivalai', 'walls', 'kamio', 'oill', 'bano', 'irukkinrom', 'paarththirukkiren', 'tharaththaik', 'tinplate', 'kohima', 'aaduvar', 'kedum', 'vaakanam', 'nadhikalum', 'kizhiththu', 'thaervai', 'uuvaa', 'sankar', 'boron', 'sanchi', 'aekapoagam', 'panigazhum', 'jharia', 'ramachchandran', 'lakshmi', 'makalath', 'muthalamaicharin', 'panigazhaiyum', 'robles', 'gold', 'thandavaalanggal', 'urudhiyudan', 'stephens', 'seithuvittaar', 'adangiyathu', 'sirca', 'amerikkar', 'thodarbukku', 'idukki', 'seyalmuraikal', 'gureila', 'udpuramaaka', 'baathaikalai', 'kaakiranul', 'edukkappadaamal', 'veliyidappattana', 'manathil', 'loodhiana', 'foseco', 'padikku', 'pinthu', 'oppanthaththil', 'pathippiththa', 'aruppukkottai', 'panbaadum', 'jodha', 'kalai', 'aadippoora', 'zoordan', 'ccameeo', 'uurvalamaaka', 'ezhuthukiren', 'anthantha', 'seithanar', 'mikey', 'seyalpaduvathu', 'thanthiraththai', 'sarathigal', 'ethirkkatchi', 'viththiyaasamaaga', 'pulappaduththiyullaar', 'rane', 'holloway', 'harbour', 'muyandraar', 'foodworks', 'tharasaa', 'dohrey', 'needhimandraththai', 'sambrathaayamaana', 'ponnaiyum', 'mathiyaarasu', 'vizhikkungaal', 'pilaikal', 'seruppaip', 'nagpur', 'nadappadhaga', 'nisaan', 'latchaththirkum', 'karumpalahaiyil', 'bhadauria', 'thala', 'oththuzhaikka', 'kulatthu', 'viluppuram', 'dhairiyam', 'seiyyappattirunthu', 'muhammat', 'tayaaraanathu', 'weter', 'needikkiradhu', 'vanchi', 'innovation', 'sype', 'kaanbiththaar', 'annapolis', 'roam', 'aster', 'arinthen', 'sukku', 'veelchchiyilirunththu', 'azhuththi', 'irunthirupadhagath', 'koduthirupathaagavum', 'random', 'narala', 'ipparavai', 'vanthiyaththaevan', 'vikram', 'veedic', 'bean', 'mandham', 'ankeny', 'maruththuvarai', 'landanil', 'carr', 'irundhadhillai', 'nobel', 'kudumbaththinarudan', 'randolph', 'kuuttankalukku', 'nuraiyiiralil', 'irukkap', 'yavvithaththilum', 'bogie', 'utpuramaaga', 'mastek', 'ottagangal', 'poayinar', 'ottaganggal', 'wheeling', 'innalgal', 'echchil', 'tylar', 'suuppirandu', 'hungaryyil', 'tamilarinar', 'nun', 'ippaadhai', 'alavukatandhtha', 'sei', 'khambhat', 'seiveerkal', 'sioux', 'pirammam', 'longview', 'chalukiyargal', 'thalaimaiyaetroor', 'padalankal', 'niraivaaga', 'teamlease', 'baathai', 'nirvaagikalai', 'paguthiyirukkiradhu', 'kodooramaaka', 'bapat', 'jadav', 'adhirupthiyai', 'urudhiyaana', 'titagarh', 'kiits', 'matheran', 'lindaa', 'aachiramam', 'plyboards', 'nadanthappattathu', 'pigmees', 'dhoranai', 'kondirukkavillai', 'semiththirunthaalum', 'thagavalarindhu', 'priya', 'dumka', 'aanaiyathil', 'apar', 'meesamsam', 'magilnthu', 'seiyappattaar', 'erinththu', 'kulaththukku', 'kallattre', 'vadamaerkil', 'icourt', 'tandon', 'paduththu', 'innichai', 'dalhousie', 'adhirstakkari', 'niruththaththukkup', 'seiveergal', 'mauhammad', 'kkum', 'kothikkum', 'golda', 'baebal', 'nanmaikalaip', 'pricol', 'avadhippattu', 'sachan', 'alazhagiyaana', 'lindsey', 'titaniuum', 'maembaalap', 'vatham', 'avenues', 'koodukalil', 'mookkum', 'panakkarargal', 'deebanggal', 'koll', 'bhansali', 'washington', 'kathua', 'podum', 'shivagauri', 'sentar', 'baangkaak', 'pogavillai', 'varavertrar', 'hercules', 'nigazhvaiyum', 'vakaikalai', 'neereatram', 'boise', 'kontirukka', 'baliyaanaar', 'kana', 'vadakkin', 'koduppar', 'mukaththuvaaram', 'vaakanaththai', 'ludheena', 'choluku', 'sonnargal', 'avamadhippadhaiyum', 'thokuppin', 'vijayapura', 'gooalie', 'innalkal', 'annaattil', 'cherry', 'health', 'maelmaruvaththoor', 'vagaigalai', 'sollungkal', 'qelvinn', 'chiirutai', 'gaya', 'zuari', 'douglass', 'aatrtralaal', 'puunai', 'anuppiya', 'tharakkudiya', 'vineedh', 'maxwell', 'surrullaa', 'aurora', 'oadhi', 'seiyyappattulladhaaga', 'edhirpaarppu', 'iyalbaiyum', 'flaiyers', 'paaraatta', 'uruvaakaththirku', 'qootch', 'paduththiyulladhu', 'charavarththi', 'nandrigal', 'heymadait', 'peyarin', 'lasith', 'taneja', 'kavalaiyai', 'mamon', 'hisar', 'kyran', 'ettaavathu', 'innigazhvukku', 'solvadhaga', 'evvithak', 'thodarbukalum', 'manickam', 'irugik', 'ethirkkatchigalin', 'kilambum', 'prasad', 'lattu', 'visaiyudan', 'sethilil', 'oruvazhiyaaga', 'sitaram', 'parumanaal', 'soththugalai', 'booroon', 'meenavar', 'kutay', 'mudindhdhathu', 'carlo', 'thokuppaalarkalukkum', 'upsalla', 'kandarindhanar', 'panippaalar', 'fluorine', 'pesukiraargal', 'azhiththavan', 'pombalap', 'alipore', 'arumbu', 'aayvugal', 'hanson', 'amer', 'eerppu', 'kudainthu', 'arya', 'amerikkargal', 'tholilil', 'thaasan', 'muthaliyor', 'yettiyathu', 'vankodumai', 'kennel', 'bowie', 'thernthedukkum', 'valakkugalaiyum', 'pulanaaivup', 'rehhman', 'kaithikalukku', 'sudalai', 'pakirathan', 'rishikal', 'panguthaarar', 'raththaththai', 'oozhiyargal', 'adakki', 'americaavukku', 'sroo', 'mandya', 'phase', 'wellington', 'paulaa', 'sindhikka', 'chayn', 'kurukshetra', 'panigazhukkum', 'senjuppomnu', 'valaikutaa', 'aduththum', 'pidiththirunthathaiyum', 'arunachal', 'koottaththaith', 'caardu', 'aashram', 'nov', 'noolakath', 'kaithu', 'qolly', 'kaaranamaakap', 'kaivasam', 'thanithaniyana', 'parikaaram', 'pesanumdaa', 'unavukalaiyum', 'choudhary', 'kaapoolil', 'antri', 'riisii', 'nikazhvaip', 'saaraaykku', 'padikkumpothu', 'siriththa', 'yoakkiyamaana', 'oorae', 'sutlej', 'ezhundhullana', 'pathinaezhaam', 'saharsa', 'kuurappattirukkum', 'thenpaguthiyilulla', 'vaendiyadhuthaan', 'thiyaakaraajan', 'zet', 'sithirai', 'tholviku', 'munvaiththathu', 'satre', 'quraishi', 'brownsville', 'aaner', 'dans', 'thanithanmaiyana', 'karumpalakaiyil', 'alwar', 'vendumenavum', 'ennikkai', 'pesinom', 'overkal', 'urukkiya', 'padikalin', 'kondirukindranar', 'miqey', 'intriyum', 'mugamaakavum', 'ullirunththu', 'mcpherson', 'aarppaattanggal', 'eppodho', 'thodargalukkuthan', 'kooriyulla', 'kampan', 'jushantan', 'aathavan', 'maarupaattuth', 'rectifiers', 'cooch', 'tate', 'kolaigaararkalaana', 'naadukadaththa', 'poruththappattana', 'thookkuth', 'ninaivaakavum', 'yavatmal', 'kaattikkondirundhu', 'wise', 'unavugalum', 'artemis', 'purakkaniththu', 'kanavaalum', 'carloos', 'neethimandrathai', 'yaaritamum', 'bro', 'yavvitha', 'valarndhullathaagavum', 'parrish', 'srivastava', 'kootpaadugalin', 'raaend', 'resii', 'sonnaargal', 'bea', 'niiroo', 'urchaaga', 'doda', 'jeeva', 'thangakudiya', 'andaman', 'kattaayaththil', 'intiyana', 'akolkar', 'tamizhagatthai', 'panimalai', 'odysi', 'sattaviroothamaaga', 'yanam', 'innigazhvai', 'kirubhai', 'sathaveethaththil', 'kodiyetraththudan', 'mahayana', 'vetrtrikaramaaka', 'chowdhri', 'nanaa', 'malargalaiyum', 'aaloasanaikalaiyum', 'saatchiyam', 'cholukana', 'pope', 'tholainokki', 'vithikkappattullathu', 'aayiraththu', 'thirmaanikkum', 'adigalayum', 'oozhiyarkal', 'atheethamaana', 'eedupattulladhu', 'chapel', 'yuuri', 'viharaigal', 'matravargalum', 'karloos', 'iniyaavathu', 'saravanabavan', 'erie', 'thanithanik', 'varalaattruch', 'jose', 'coimbatore', 'thuvangkavillai', 'narpanbugazh', 'meenvarkalukku', 'townsend', 'thogaiyin', 'poongulali', 'sikanamaka', 'kaadhanaayagi', 'kootthu', 'corq', 'choubey', 'pirasaaraththai', 'south', 'virathangal', 'mudindhdhavudan', 'munneduththa', 'kuvindhathu', 'reeparpishdu', 'columbin', 'indrutan', 'jane', 'anbaip', 'utpattirunthavargal', 'sadalamaaga', 'tripura', 'uuthaa', 'pele', 'brewer', 'enh', 'nadappattirukindranar', 'kasivugalinaal', 'tirunelveli', 'mahajan', 'vaelaigalai', 'naarummae', 'poattiyil', 'be', 'nayatthootu', 'samoogamaliththathaaga', 'eeru', 'veezhnthathu', 'yedhirkkaamal', 'raipur', 'sevagram', 'pesynaen', 'pamparam', 'andriravu', 'needikka', 'kanidham', 'golden', 'siraiththurai', 'aliththirukkirathae', 'sundram', 'gadosi', 'piravaaneri', 'kalwin', 'sathaveedhamaaga', 'zaapaan', 'kadaisiyaaka', 'fasteners', 'thiraith', 'athigapachcham', 'buxar', 'payirchiidamperum', 'atiyai', 'sqotch', 'kaamalea', 'atepol', 'boards', 'russo', 'payaththodae', 'kashmir', 'kiriththavargalum', 'enraalae', 'vikiraman', 'round', 'naankainthu', 'penninadhum', 'novak', 'chikkanamaana', 'sarvarkal', 'thangiya', 'veezhchchiyilirunthu', 'edukkavendum', 'kollaadhu', 'saei', 'thondriyulladhu', 'jeen', 'irunthukkondirukka', 'nirvagikkum', 'adhanathan', 'kovalan', 'nigalvugazhaal', 'harvey', 'cerebra', 'vanigarkalin', 'mutharkattamaaga', 'veesuthal', 'mauhamad', 'streamwood', 'toon', 'indiabulls', 'parimaatraththil', 'karangalaiyudaiyavarum', 'wiliam', 'ortega', 'aravuk', 'boolla', 'naadukadatthappatta', 'aayira', 'woolgaa', 'netri', 'enterprise', 'python', 'maniyam', 'viyaapaarigalin', 'verdes', 'matrtravarkalidam', 'nadaththappattulladhaagath', 'vaazhvilirundthu', 'rathnaayakkavai', 'padaithanar', 'mudiveduthu', 'irulil', 'tamilakatthilirundhu', 'kondadiyullargal', 'procter', 'saeralaathan', 'urumivittup', 'pugalpetrtravai', 'koottathukku', 'form', 'plaiyars', 'pitikka', 'kulanggalum', 'naattukkum', 'rink', 'dun', 'inaiyathalangalil', 'chico', 'mudiyala', 'paiththiyam', 'piranthirullathu', 'bagyaraj', 'innum', 'seyalmuraigalai', 'kadarkaraiyai', 'kutrezhuthaiyum', 'dayton', 'uudaka', 'veeraraaga', 'limitettum', 'pennukkum', 'sangkangkalukku', 'vazhanguvathai', 'prakash', 'thervil', 'nikazhvukalaip', 'vanpunarvu', 'kilar', 'annan', 'visaariththaar', 'sasaram', 'mickiy', 'nuzhaindhadhu', 'nirvaagaththil', 'maddox', 'balaathkaara', 'kondirukkumendru', 'seyyappattavai', 'cybe', 'virumbukirom', 'chouhan', 'peyarilum', 'thunpuruththal', 'kadamaiyalargalai', 'keanthiriya', 'unargiren', 'amaitthu', 'welsh', 'valangkuvathai', 'unnda', 'chuthamaana', 'hyderabad', 'bryant', 'tonii', 'pathikkapatullathu', 'crosby', 'udainthathu', 'yogam', 'design', 'aayvum', 'kaappaatrik', 'ninaiyaai', 'narayanaya', 'panriyin', 'tietanium', 'therkaaka', 'tetanium', 'evaikalai', 'valikaattu', 'enima', 'nikazhvaiyum', 'teksaas', 'ninaiyaay', 'alappuzha', 'pakirnthullaar', 'thadaiyum', 'muhaideen', 'kondaataththil', 'mays', 'sakthi', 'aruvaruppaanathu', 'sangamathil', 'aalayanggalin', 'vidayanmaaga', 'cholvathai', 'aluththi', 'ambalappuzhaikku', 'fine', 'prachcharathil', 'saanthappaduthum', 'vilaiyaattaakavum', 'padipaiyum', 'samdharshni', 'tenurai', 'oppandha', 'bhaavanai', 'cheyenne', 'availaik', 'kaettathu', 'bankura', 'odssi', 'irunthaaley', 'pesuvom', 'lalithaa', 'koodugalil', 'padaiththu', 'bai', 'kofii', 'asokaa', 'ezhunthullana', 'lopez', 'eerukalai', 'black', 'appakuthi', 'sittharth', 'greenwood', 'ketkirar', 'tarunatthai', 'dhindhwal', 'thadaiyai', 'munaippilirunthu', 'vaangitu', 'kannaththil', 'camarillo', 'pirathyaekamaaka', 'paigal', 'udampai', 'veter', 'alavukadantha', 'evvitham', 'karnanin', 'kidaikkakk', 'aappirikkavilum', 'sozhapuram', 'aadhangam', 'anithaa', 'uruppugalukku', 'cooltt', 'arivippil', 'katturaikumana', 'tobago', 'nav', 'iuri', 'neeraetram', 'tyler', 'sandhyaa', 'balrampur', 'sadhi', 'illaiyaam', 'laurus', 'industries', 'nanmaiye', 'marakkattaikal', 'goalkalai', 'thengaip', 'endrale', 'villaikal', 'aalayankalai', 'emilii', 'kadaththappattirukku', 'unaru', 'vilas', 'kidaikkaatu', 'pulavargalai', 'seiyyappattanar', 'religare', 'ahmadabad', 'padaitthathu', 'adhigabatcham', 'cotton', 'seiyyappaduvadhum', 'madhya', 'cooper', 'muslim', 'kallurikalum', 'kulirchchi', 'siththandha', 'matakkukireergal', 'ethirpaarppugal', 'pinnuuttam', 'calvin', 'ilatchiyaththirkum', 'merta', 'kodaikanal', 'mugaitheen', 'qarlos', 'pirithaar', 'waterloo', 'naagareeganggalil', 'kettaalum', 'arivikkappattulla', 'carbogen', 'tarunankalil', 'kuuttangalai', 'sanggaththai', 'thanthiranggal', 'avathaarangkal', 'ganangal', 'kitantha', 'jindal', 'chaethamadainththana', 'puunaa', 'nanbargalukkum', 'alipur', 'mudivirku', 'marakkattaigal', 'jha', 'thamilagatthukku', 'mahayanaa', 'makalaith', 'vilaiyaadavillai', 'bombay', 'vazhikaattum', 'koovaiyin', 'koolin', 'thirangalaiyum', 'kavalturaip', 'denver', 'cauimbetore', 'bajpai', 'kidaikkaathu', 'betless', 'thalaivargalukku', 'kattanaththil', 'sendrulla', 'thenik', 'edhirppukkalinaalum', 'kophee', 'surabhi', 'sivaperumaanae', 'jurdan', 'nadigaiyum', 'kanchipuram', 'reedar', 'porulaakavum', 'pugaiyiradha', 'thulaiththu', 'awasthi', 'alavukalai', 'thandavaala', 'palavaaraaga', 'ciruvanin', 'africaavukku', 'reese', 'pettruththandhadhu', 'pulavar', 'konark', 'engkoa', 'person', 'adikalayum', 'gingee', 'padangkalin', 'kidaikkak', 'thiruthathach', 'kaardu', 'irakkappadugiraargal', 'pajakavukku', 'siiv', 'clara', 'kar', 'land', 'kanavanadhu', 'kalandhuvittrundhaan', 'bajindhar', 'padmanaaban', 'shahvai', 'sollapappattadhu', 'kuraindavai', 'eppavum', 'jalaun', 'tharunathai', 'vaakkuvaadham', 'baanaththil', 'aanchchanaeyar', 'murukkugiradhu', 'kambaramayanaththil', 'seithavarukku', 'flint', 'goli', 'poochchugal', 'poanra', 'binvaangkinaar', 'kutch', 'mushlimmaggalukku', 'livermore', 'vetpaalargalai', 'shoottik', 'vendum', 'ioore', 'rosario', 'kuwaa', 'prabu', 'nerkonda', 'unarndhulladhaleye', 'parththu', 'vaayaal', 'guurilla', 'thiraikkup', 'apcotex', 'puthaiththu', 'pankutharar', 'varukindrana', 'vaazhvum', 'plaant', 'whittier', 'cutler', 'latiin', 'verumanea', 'magalaith', 'patimatthin', 'thoolvikku', 'thoalvikkup', 'andhra', 'berg', 'theriyaadhaa', 'kandukkapattulathu', 'kothikum', 'solanki', 'thamizhagatthilum', 'schultz', 'tewari', 'nagarungga', 'nirupar', 'needhimandril', 'elimaiyaakak', 'veezhchchikkum', 'berlin', 'sonnarkal', 'asoqa', 'veelchchikkum', 'sollappadugiraargal', 'marainr', 'aayirakkanakkil', 'mendez', 'azhagil', 'kalakattangalil', 'music', 'vendiyathuthaan', 'pilae', 'ullooratchi', 'maanavargal', 'spartanburg', 'saalukkiyargal', 'thalatthudan', 'ilamvayidhilaeyae', 'samsaram', 'vazhakkuppathivu', 'valaikudaavil', 'muyanrapoathu', 'seluththiyullathaagavum', 'kampenikal', 'netrip', 'tholainookki', 'magaathaeve', 'preem', 'vaakuvaatham', 'seyalaiyay', 'kaneepaa', 'pangillaiya', 'gurila', 'pidiththavargalaagavoo', 'saranadainthathu', 'praveen', 'frazier', 'karugi', 'poonaiyin', 'vidaadheergal', 'yerpadave', 'rohtak', 'mannikkavum', 'buena', 'jenn', 'veruththaar', 'himachalap', 'mahbubnagar', 'kavarndha', 'palakkad', 'gillette', 'committiyil', 'koppaiyil', 'paguppaayvu', 'noidaa', 'racklaa', 'vichaariththa', 'kampattin', 'tholilin', 'thamizharingyar', 'oyal', 'vishwakarma', 'qiiran', 'sastrrii', 'ulhasnagar', 'kaettanar', 'unavugalaich', 'thondriya', 'pothumai', 'mohammad', 'carson', 'yuba', 'nuzhinththathu', 'chozhar', 'surendarr', 'vlademer', 'lugo', 'pyjmies', 'panesar', 'morales', 'mahindhiraa', 'anjchu', 'kiriththavargalin', 'paaluuttikalil', 'jaadhaav', 'sadhaveedhamaaka', 'thodumpothu', 'leandro', 'pukalpetrtraar', 'kiiran', 'porunkadalil', 'upadhyay', 'sasidharan', 'siraikku', 'valangappadaamal', 'sollikkinen', 'pinpuramaaga', 'nigazhvaip', 'theerkkatharisi', 'oodakaththil', 'kayitrtrin', 'onrukkaakavum', 'yenid', 'thokuppil', 'rehmaan', 'kadanthadhu', 'kalluri', 'caent', 'suyanalaththukkaagavo', 'uruthiyaana', 'indiavai', 'nakarththuvathaiyum', 'vinchi', 'thadayanggal', 'godfrey', 'jaapaan', 'kofi', 'nuzhinththapoathu', 'richardson', 'yavarukkum', 'saasanangal', 'sirohi', 'keezhiranki', 'symms', 'alexander', 'thunichchal', 'sanggaththil', 'paekki', 'kalviyodu', 'kaasivisuvanathasuvamy', 'pirajvaran', 'kaalakattangalil', 'kidaikkakkoodiya', 'nathikalum', 'roaver', 'achchaththil', 'thanakkaga', 'kalaai', 'magizhndhiruppargal', 'torres', 'pirandhadhaal', 'state', 'nadhiyil', 'pathakakkam', 'athupatrri', 'nadiththathu', 'thankiya', 'visaarithar', 'pandavargal', 'dindigul', 'kitaikkaathu', 'ramachchandiran', 'paaluuttigal', 'mudindthathum', 'preemm', 'vidappattulladhu', 'syracuse', 'aaloachanaikalaiyum', 'ginniyaa', 'kaaranamaagave', 'aatrtru', 'sampirathaya', 'selvadharkaaga', 'kuuttattin', 'manassas', 'thamizhakatthu', 'dawid', 'kuurappatirukkum', 'thuravi', 'aththiyaayam', 'muththa', 'fincorp', 'sarakkugal', 'maeniyai', 'nerukkadigal', 'hardoi', 'enka', 'meengalin', 'kettadharku', 'thethiyum', 'seetuu', 'theerppaal', 'thaniththanik', 'irukkavillai', 'sind', 'secret', 'saanji', 'amerikaa', 'arrakka', 'theriviththullathaagavum', 'azhakil', 'dheergadarisi', 'kaelvin', 'pirkaalaththu', 'bharadwaj', 'pasadena', 'pooki', 'chaallukiyar', 'aarvaththai', 'sellers', 'pirathaesam', 'securities', 'kooppaikkaana', 'pirabhuvin', 'erkanavae', 'kaetkappaduvathai', 'peyaro', 'varghese', 'avanka', 'kudayyin', 'kasera', 'konduuraiyatrum', 'mantham', 'chiraippadikkiren', 'podaathaiyum', 'kulangkalai', 'missouri', 'thiraikku', 'ekapoaka', 'panigal', 'seyalaichcheiyaamal', 'kadhigalukku', 'maethyoo', 'garden', 'rungta', 'azhaippu', 'mudindhullathu', 'technoplast', 'paavangkal', 'aalayamum', 'vazhakkup', 'harrij', 'nokki', 'kootpaadu', 'kopaiyil', 'mukkthi', 'dei', 'padaippakka', 'pradesh', 'muthaliyavargal', 'athikaaravarkkaththinaal', 'kavalthuraip', 'kaalame', 'moorththi', 'kanara', 'maalaiyai', 'mikka', 'viyanththa', 'palarukkum', 'kidanku', 'controls', 'unavukalaich', 'couult', 'munnanikku', 'uuzhiyargalum', 'kurainthavai', 'aatharvaagach', 'mangla', 'tamizhakatthaich', 'kelvik', 'moondrilirunththu', 'pukalpettravai', 'paechupavarkal', 'koduththiruppargal', 'irukkindrom', 'kerr', 'lakhmani', 'koolp', 'vishayaththilum', 'vazhinadaththum', 'negi', 'inthanilaiyil', 'sangaththil', 'vazhipaduvadhu', 'kaalaandil', 'mattravarkal', 'tharunankkalil', 'vaazhvilirukkum', 'sindhanaiyaalargalathu', 'magizhthirumeni', 'pudhuchcheariyai', 'ainn', 'sreerankaththil', 'padaiththaan', 'pae', 'seithamaiaal', 'muzhangka', 'mukamaakavum', 'reshii', 'thokaiyai', 'vaakanamaaka', 'kondirukku', 'jay', 'randhawa', 'maiyamaagak', 'kollathavar', 'kambalattu', 'lozano', 'pagirappatduvidum', 'maattikkondaarkalaa', 'illaathavargal', 'thamilakatthaich', 'thoalvikku', 'suttukkolgiraal', 'nadanthirukkirathu', 'wardha', 'kamittiyin', 'machilipatnam', 'suvaroram', 'ippaathai', 'seluththinar', 'samaddar', 'qwantam', 'oththuzhaikkinranar', 'naattiyaththil', 'nandrikal', 'chaibasa', 'taitanium', 'miami', 'nuraiyiiral', 'gulmarg', 'seyarpaadugalil', 'srinivaasan', 'colorado', 'tira', 'avaludan', 'aerpaduthal', 'kulaiththaalum', 'vazhangkappaduvathu', 'asoka', 'aayvukalaiyum', 'bayamum', 'nadaiperaadha', 'jyothy', 'yoore', 'irundhaaley', 'parigaaram', 'uooraga', 'misra', 'kondirukka', 'kalloorigalukku', 'piriththa', 'holt', 'kolukattai', 'munthi', 'pottuvittu', 'ariviththirundhadhu', 'williams', 'anumathiyai', 'kadarkaraiyin', 'thodarbukalaiyum', 'kondirundhavaraagavum', 'koovai', 'wasif', 'parbhani', 'sandhegamillai', 'sirian', 'sey', 'appaguthikku', 'kooriulla', 'boauut', 'naadoodi', 'valakku', 'vizhigal', 'pizhaigalai', 'nissann', 'jonaavai', 'yell', 'saerththuch', 'kalutai', 'thoarruvikka', 'porulaagavum', 'galil', 'virumbukiraar', 'tata', 'thiraippadath', 'dhadchanaamoorthi', 'aaivuk', 'pirathaanamaana', 'centum', 'puudaan', 'urudhiyaanathum', 'seint', 'idaodhukkeedu', 'neeyae', 'paarkkavendum', 'ketapodhu', 'andarshon', 'stevenson', 'madison', 'azhaginai', 'mills', 'thevarkalukkaakavum', 'idaivelikkup', 'himatsingka', 'panihati', 'maanidhar', 'malik', 'kerlam', 'nuzhinththathaal', 'purappattaar', 'tamilagatthukku', 'sandhaipaduthiyavar', 'luudheeana', 'kyuuba', 'madoro', 'swaraj', 'cameo', 'kadatthappattirukkum', 'daadaa', 'madhirithaan', 'suravazhiyil', 'tamizhagam', 'jaanukku', 'thamilaiyum', 'thuraviyum', 'bharat', 'raamayanam', 'seidhuvittu', 'alembic', 'padimatthin', 'troy', 'sinthanaiyai', 'izhanthu', 'naadukadaththappatta', 'niruththivittu', 'noolae', 'somerville', 'seyarpaadugalin', 'saranadainthavargalaithan', 'vairamuttu', 'piramugar', 'saramaariyaaga', 'seibavargalae', 'adaithal', 'azhuthu', 'choazharkal', 'paththaandukalaaka', 'vaangappothu', 'laenaa', 'pathineazhaam', 'simon', 'oothaa', 'santham', 'mutiyavillai', 'kokomo', 'masuuthikku', 'pireem', 'azhaki', 'rupavauhini', 'chozhargal', 'misionn', 'pichin', 'wolga', 'kozhumbil', 'uruvaakaththilum', 'nati', 'seivom', 'paathai', 'mikkathaakavum', 'valaikutaavil', 'varikalai', 'nadaiperuvathai', 'burnett', 'kirubai', 'manandhaal', 'kodooramaaga', 'kalviyilum', 'koolt', 'noolaga', 'solludan', 'nagaur', 'adakkik', 'behuria', 'silikon', 'kavalnilaiyaththil', 'surrullaap', 'nigara', 'ingram', 'amaravati', 'kudaathaa', 'tamizhagatthaich', 'turbau', 'nizamabad', 'poruppetrathu', 'paandavarkalum', 'serwer', 'seythamaiyaal', 'geets', 'kadidhaththai', 'gooldan', 'makadha', 'kulaththu', 'ezhumalayaan', 'padimaththin', 'saralamaaka', 'kondirukkiren', 'appadaththil', 'isaikkaruvi', 'thira', 'todd', 'novi', 'keet', 'assiriyaraagap', 'beatti', 'thozhumpoothu', 'kalandhukolkiraarkal', 'puraa', 'kavi', 'tharunamaaka', 'veerzhchchikkum', 'kelly', 'tooni', 'zunheboto', 'pathikkappatta', 'veliyaakkum', 'athileye', 'greene', 'perunthootta', 'aagappvadhumillai', 'aagivida', 'terry', 'kudiththirukkiraar', 'muchuleem', 'maheshwar', 'aeriya', 'seyalpadadha', 'but', 'phoenix', 'aidu', 'poruppartra', 'vaarisugalukkum', 'baangaak', 'thoarruviththu', 'pirapu', 'maadhamaaga', 'thuulaith', 'rakhecha', 'odissei', 'keat', 'nadu', 'kalalai', 'appadiya', 'bathilaliththa', 'abinaya', 'nukeykodaa', 'tamilakatthukku', 'amaithiyum', 'emily', 'thokaiyin', 'asheville', 'ameriqa', 'kaalaantil', 'davenport', 'mahaayana', 'kiriththavargal', 'puthuvaiyil', 'alangaaraththidalil', 'padaitthaan', 'jaet', 'bayilvaan', 'inavaatham', 'umai', 'sedhamadaindha', 'zinc', 'neettik', 'mainpuri', 'panigazhai', 'balot', 'virundhukkuththaan', 'golieth', 'thambathigalukku', 'polavum', 'gujrati', 'santo', 'sorpa', 'wind', 'cankar', 'padala', 'panigalaiyum', 'thondriyullathu', 'moolamoa', 'kulaththi', 'balangir', 'madhdhiyatharaik', 'kuyili', 'airoppiya', 'tamilakatthaich', 'aalana', 'ooraatchith', 'paniyaalargalai', 'paguppaaivu', 'kanojia', 'athigamaanathu', 'tough', 'global', 'veel', 'pirathaesa', 'ariyappattathu', 'chalukkiyar', 'koduththaargal', 'narachimman', 'isaindhida', 'kondirundha', 'morrison', 'nagappattinam', 'navas', 'kaathin', 'veetirkul', 'thiyagarajan', 'randall', 'haveli', 'theviyar', 'velichchathirkum', 'kalyaanap', 'hendricks', 'satin', 'cooimbatoore', 'ivaithaan', 'poluthupokkaaka', 'pirathesaththukkullum', 'imilii', 'thigathigalil', 'amaiththirunthaan', 'padangalilum', 'oricon', 'nigalvaip', 'veliyittuullathu', 'ladakh', 'poduvathu', 'poole', 'samanana', 'vaedhipporulkal', 'shrirampur', 'padhilai', 'seithukkondaargal', 'valakkugalum', 'yerinthu', 'ilamvayathileayea', 'kaneebaa', 'pukazhpettraar', 'iththittaththai', 'evaikalukku', 'koorinaal', 'balaghat', 'aetrtrukkondathu', 'kathirveechchin', 'shakopee', 'laajic', 'therindhavargalaagavum', 'graand', 'ippoathaiya', 'giit', 'unesco', 'cype', 'kolal', 'companygal', 'electronics', 'kudiyirundhavargalal', 'avalaip', 'saalukkiyar', 'neermattam', 'seelam', 'nagercoil', 'esyuvithaan', 'aruppukkoottai', 'thodarbilaana', 'railhal', 'anitaa', 'seyarpaadugalaiyum', 'kadiththu', 'vidatheerkal', 'kontirukkavillai', 'vazhanggiyullanar', 'aayvukku', 'poagumboadhu', 'vaethangalil', 'hemet', 'kearan', 'kutrezhuthaium', 'chaantha', 'indana', 'dominguez', 'nigazhvugalaiyum', 'aththiyaayangalai', 'roberson', 'vadivennum', 'kinniya', 'goolden', 'chopra', 'kallamavunaththai', 'tobagu', 'quuantuum', 'pechchaik', 'paalootti', 'kushwaha', 'serrano', 'nanmai', 'mcguire', 'karavalaadugalai', 'acevedo', 'seidhen', 'arivathu', 'suzlon', 'pali', 'senti', 'onrae', 'vaangkum', 'kol', 'thoalviyaith', 'thimuka', 'uyirinam', 'seydharth', 'eesan', 'kuutavum', 'world', 'thokaiyaanathu', 'anuraathapuraththil', 'dmkvin', 'thayaaraanathu', 'incoa', 'alhambra', 'vittu', 'ulagaip', 'kattamaikka', 'saerkkaiyaal', 'puthumaigalai', 'ranchi', 'viradham', 'thattaan', 'scotch', 'veechuthal', 'thaathup', 'currendar', 'sattama', 'finley', 'kalakattankalil']\n",
      "['அரோபின்டோ', 'பிறந்தன', 'பாண்டிவிட்', 'பயன்படுத்தவில்லை', 'லிதிரைப்', 'வீடக்', 'வீட்டிற்குச்', 'சீனிவச', 'சிறிதலவு', 'பரப்பழவை', 'கத்திருக்கக்தோடத்', 'மகிழ்ச்சியான', 'போர்த்துக்கேனர்', 'சைப்பாதான', 'கிர்வர்', 'லாமினாதன்', 'கிடாட்டா', 'நீது', 'நிறைந்திருந்தனர்', 'விஜானங்களும்', 'பீவர்ட்டின்', 'ஷிப்பிங்', 'முடிவிலா', 'ஈயத்தகது', 'மிரமார்', 'திருமாலின்', 'நுலைந்தது', 'துர்பார்', 'பிறந்துள்ளது', 'நுண்மை', 'ஆளோசனை', 'தமிழையும்', 'சர்வார்', 'பிறந்தபோது', 'மலர்களில்', 'அவர்களினால்', 'பெக்கி', 'வழங்குனர்', 'வாங்கப்படும்', 'ஷூரெஸ்', 'சிறான்', 'நீரோட்டத்தின்', 'எதிர்க்கட்சி', 'மாமெட்', 'பெயரோ', 'பணித்தான்', 'அட்டுல்', 'விஜானங்களின்', 'சொழற்களுக்கு', 'உடைப்பூர்', 'ஈனோ', 'மெட்டியா', 'வங்கியாளர்களுடனான', 'திருத்துவதற்கு', 'டிகாலியம்', 'இதற்கெல்லாம்', 'பாகியோதன்', 'கூடுகாவில்', 'வாதங்களை', 'கொல்லாதவர்', 'இடைத்', 'தியாகரானர்', 'அக்ரேச்சா', 'வீலையாக', 'வெளைத்திட்டம்', 'பேக்', 'அண்டர்', 'வோய்', 'பிழவால்', 'நிலைப்பாட்டில்', 'கூபி', 'அர்கிஸ்', 'மேம்பாலம்', 'வெச்சிட்டொண்டரை', 'வாதிட்டு', 'கெக்கராட்டை', 'சொந்தானி', 'பணித்தான்', 'கிரான்ட்டின்', 'ஜினிவா', 'கனவனின்', 'பக்தகோடிகள்', 'குலங்களின்', 'பற்ப்பவர்', 'இதற்கெல்லம்', 'அடங்கியுள்ள', 'லட்சியத்திற்கும்', 'பிரிதீரு', 'தங்குமிடம்', 'ரைச்வே', 'ஏற்படவில்லை', 'விபத்தின்', 'பொலவோ', 'மானாஸ்', 'வருந்தான்', 'ஆனைய', 'நூலும்', 'எரிக்கோசின்', 'ஆரம்பித்துள்ளது', 'அசியா', 'கட்', 'மையமாக', 'கோப்பையில்', 'கூட்டண்கள்', 'செர்ந்துவிட்டிருந்த', 'டோடா', 'ஆணைமலை', 'யுன்சொட்டேலின்', 'வராக', 'வந்திருந்தனர்', 'ராம்கர்', 'முன்னெடுக்க', 'க்க்வில்', 'கல்லாள', 'லோ', 'திட்டமிட்டுள்ளார்', 'தேர்வில்', 'முகுதுவேன்', 'மண்ண்பிஸ்ட்', 'கையால்', 'ஆன', 'குடாயில்', 'சொல்லோ', 'இடார்ஸ்', 'கிரிச்தவர்களின்', 'அடுமாட்டுமல்ல', 'ஷாமாக்ஸ்', 'கோலியி', 'சேதமடைந்தன', 'மட்டியிருந்ததாகவும்', 'ஷாவை', 'பணிமனை', 'சலித்தொள்ளைகளா', 'சிற்றன்னி', 'நரம்புகள்', 'அண்டி', 'கைதல்', 'அனல்தம்', 'கூர்க்', 'பீபி', 'சலம்கா', 'உண்டர்', 'யோகத்தின்', 'ரைட்டால்', 'மகாவோர்', 'சாசே', 'பானிரத்', 'பணிகளுக்கும்', 'குலமும்', 'கயிற்றில்', 'விளையாடுதல்', 'பிட்டிகள்ட்', 'மோட்ட்டில்', 'கோடா', 'கார்டு', 'கல்லுறியக', 'இத்திட்டதிற்கு', 'தனிதனியக', 'கார்க்', 'வேலையின்', 'மாற்றுவதை', 'உறுப்புகள்', 'வைப்பார்', 'பிராமணர்களும்', 'அடியிலியால்', 'கீழ்', 'தடைப்', 'பங்குதாரர்கள்', 'புதுவையை', 'தடைபட்டது', 'கைமறி', 'ஒன்ன்', 'சாண்ட்ஸ்', 'செய்தியாளர்களுகும்', 'புதுமைகளை', 'மீமண்ணை', 'பதிவர்', 'செலுத்தப்படவேண்டும்', 'தொக்கிபின்', 'எடுத்திருக்கிறது', 'சூடாலை', 'யோக்கியர்களுக்கு', 'இப்போதி', 'அனுபியுள்ளது', 'லீகின்', 'அநுராதபுரம்', 'ஒலிபரப்பிட்டு', 'நன்மைகளைப்', 'கூல்டைன்', 'உருவாக்கத்திற்கு', 'மரால', 'சண்டான', 'பேஸ்', 'விக்ராஜன்', 'அழுகை', 'ஒருவர்', 'பயங்கரவாதிகள்', 'ஜாப்பானின்', 'பிசியாக', 'வெல்ஸ்', 'பசுக்கலின்', 'எங்கோ', 'ஜெய்ப்ர்ட்டர்', 'கிடந்தனர்', 'குறித்துள்ளார்கள்', 'டோ', 'கடிதமும்', 'அலகியான', 'சங்கத்தை', 'திருந்தியிரிக்கிறார்', 'மசுதியை', 'தொகையாண்து', 'அதினாக்குயாள்ள', 'ஒடிச்சி', 'சமபங்கு', 'கேடாய்ய', 'சூழர்களுக்கு', 'ஆர்ப்பாட்டங்கள்', 'தக்சின்மல்த்தி', 'கைதிகளை', 'பழனி', 'சீனிட்டோவை', 'கைனெஸ்', 'எழுதியிருக்கிறார்கள்', 'காகினதா', 'கிடைக்காததால்', 'டெய்டே', 'பிரம்மத்தை', 'மூல்ந்கடிக்கப்பட்ட', 'கொண்டிருந்த', 'பிரரோடு', 'மக்கலங்களை', 'காரணமாகும்', 'அச்நேணிக', 'லூவ', 'மீன்களையும்', 'வகுத்தால்', 'முதல்வரை', 'காட்டே', 'தலையகராம்', 'திறனாளிகளுக்கான', 'அட்கின்னல்', 'நுறை', 'குறுக்குப்', 'பெர்டிலிஸர்', 'லான்ட்கார்ட்', 'கணவனது', 'துருவம்', 'துலை', 'சர்பியா', 'துன்புறுத்தல்', 'கம்பலக்து', 'யூரிக்', 'கூட்டப்பட்ட', 'அகச்சித்தரிப்பு', 'உரைமாதல்களை', 'செயல்படத', 'காலக்கத்தோறில்', 'பெனினென்', 'கருதிப்பார்த்து', 'ரிவாஸ்', 'அற்வேசேவோ', 'ரம்னன்', 'சாரதிகள்', 'வேதங்களில்', 'செயல்படுதல்', 'வெண்டும்', 'எகபோகம்', 'தன்கிச்', 'தெரிந்திருந்தவர்', 'பூனககியில்', 'பொருந்தவில்லை', 'பின்வாங்கினார்', 'கோப்பை', 'மத்தலட்களைத்', 'வென்சிஸ்', 'கிலப்பி', 'வருகின்றன', 'புரட்டி', 'கல்வியாண்டு', 'நாங்களும்', 'உருவாக்கள்', 'லால்', 'வருவாய்', 'பொய்விட்டார்', 'வீர்', 'மிஸ்ரா', 'சொல்டன்', 'கைவிடப்படுகிறார்கள்', 'செய்யப்பட்டிருப்பார்', 'ஆர்வத்தைக்', 'வாட்டர', 'பாண்டவர்களை', 'பதிக்கத்தான்', 'எழுதியுள்ள', 'குடோபு', 'அலம்பித்துடைத்து', 'கல்லுறிகளும்', 'தொங்கோனிர்ட்', 'ரைத்தம்', 'படிகளின்', 'இசுலு', 'மூர்த்திகள்', 'தெர்க்கிலிருந்து', 'லக்சமி', 'வலிநடத்தி', 'எமேரியே', 'கர்டன்', 'சந்தர்ப்பண்கள்', 'பிரச்சூரங்கள்', 'கவலையே', 'எழுந்துக்கும்', 'குட்ட்', 'டேசிலா', 'வெட்றிடத்தில்', 'சென்னை', 'உணர்ந்திருந்தான்', 'கெல்வோ', 'டெக்காஸ்', 'மாட்வரர்கள்', 'அடியும்', 'ஏற்கனவே', 'சந்தன்', 'வெடிக்', 'காவல்துறைக்', 'தொடர்பனர்', 'கரணமாகும்', 'லிம்மன்', 'பட்டிக்', 'லாம்ப்', 'பல்ஜார்', 'விடுச்', 'ரெட்டிங்', 'கடிதங்களும்', 'பிர்லான்பூட்', 'சொல்லப்படுகளாகவும்', 'பிரபு', 'ரெட்ரோட்', 'கால்ரா', 'நபா', 'நிகழ்சியும்', 'முடியல', 'பெருந்தாகம்', 'ஹர்ட்ஸ்', 'சொல்வதக', 'பிரமுக்கர்', 'இடதுங்கூடு', 'வேலைகளும்', 'கூட்டங்களுக்கு', 'மாலவிடர்', 'புலா', 'ஆய்வுக்கு', 'கூட்டங்களை', 'பாஸ்சைக்', 'அசோக்', 'கூழ்ந்த்', 'உள்ளடட்கும்', 'தயாரிப்பதுண்டு', 'இந்தியாவொன்று', 'அரகு', 'நரம்புகளை', 'பணிகளுக்குப்', 'ஒகா', 'நிகழ்ந்தாகையும்', 'இருக்கின்றோச்', 'ஆழ்துவை', 'கல்விக்கான', 'கோவை', 'அலையும்', 'குலிது', 'ஒடிசியி', 'சேதமடைந்து', 'யேராலம்', 'டோகையின்', 'அறிகாண்டகியாவும்', 'செயல்முறைக்', 'விதித்து', 'கொண்டிருந்த', 'குடும்', 'தமிழகத்திலிருந்து', 'விளையாடுதல்', 'மாட்டோக்ஸ்', 'வாங்குதல்', 'ஷியின்', 'புரிகின்றன', 'ஆத்யா', 'கிடங்களார்', 'கேட்டது', 'அளவுகள்', 'கணிக்கமா', 'கிடைக்கின்ற', 'சீடு', 'சிவியாப்', 'மசுதினை', 'அக்கனித', 'ஜல்வியன்', 'யேக்படுவதுடன்', 'அம்சகோபதில்', 'என்னா', 'சரைகொல', 'வெளியாகியிருந்தால்', 'வழங்குவதை', 'ரிசிராஜ்', 'மண்டாவர்', 'நவின்', 'வெண்மைப்புறத்சியில்', 'தலைவரை', 'சுவாசித்திருக்கும்', 'வடமாகான', 'ஞானைரன்று', 'காங்கத்', 'இரைக்கானமே', 'கொல்பிஸ்', 'நடுநிலைப்', 'வெப்ரோட்ஸ்', 'ராமான்', 'வாகனங்களின்', 'காலனிகள்', 'ஆண்தை', 'அவரோட', 'முக்டோவெல்', 'செய்யாப்பட்டபோது', 'புகாரில்', 'செங்குத்தான', 'மகதா', 'இன்ப்ரோப்போன்ட்ட்', 'வண்ற்றி', 'தடங்களில்', 'குலத்திற்கு', 'துர்கை', 'பி', 'கபுலில்', 'மடலா', 'சாஸ்திரோகள்', 'நடந்தபோது', 'ரூஜ்ச்', 'கொலபோர்', 'இருணக்கர', 'சுர்ஸ்', 'வெலிப்', 'அஸ்சம்', 'ஒவர்கள்', 'நல்லிரவு', 'பாரதியார்', 'அதிச்த', 'போரான்', 'வேர்ந்து', 'கிளோக்ஸ்', 'அரியும்', 'ஸ்வாமிகளைப்பற்றி', 'செயிங்', 'பரோலி', 'வாங்கவும்', 'எடுக்குமாறு', 'கண்டிப்ப', 'மட்கோன்', 'உத்தியோகத்தில்', 'புகழ்பெற்றவை', 'டின்சுகியா', 'அச்ராப்', 'பொருளாகச்', 'அகத்தி', 'செய்யுள்கள்', 'ஓட்டப்பட்டுள்ளார்கள்', 'வைத்தியம்', 'மத்தலட்டங்கள்ன', 'ஏகிஸ்', 'அடங்கியுள்ள', 'அப்போதோ', 'யோங்க்', 'போபால்', 'ஆண்களைக்', 'பணிகளின்', 'மூடி', 'அழக', 'ஹெய்டிக்ஸ்', 'கண்ணூட்டத்தில்', 'யாகியா', 'சாண்டர்ஸ்', 'குலங்களையும்', 'ஜோலியோட்', 'வழக்குகளுக்கு', 'குர்டு', 'தொம்ப்சன்', 'அறிவித்திருந்தது', 'விசில்', 'கவலி', 'மலர்களையும்', 'புடால்', 'நன்மைகள்', 'நாங்களாம்', 'கிரிய்', 'அன்டியாஸ்', 'வெளியிடப்படவில்லை', 'பண்டவர்களில்', 'அலம்', 'நடாமுடியன்', 'பரக்கும்', 'சாம்மன்', 'வளர்ப்பைத்', 'அடாடா', 'மாதங்களிலுமே', 'நோகம்', 'குறைந்தே', 'திவாரி', 'படையலியும்', 'பலு', 'சங்கமக', 'முறைமைகளை', 'படுத்திய', 'வீலையையும்', 'செய்யப்பட்டிருந்த', 'அடரர்', 'நீரோட்டத்தில்', 'செய்யவற்றுவானர்களையும்', 'அவதிகுள்ளாகுவார்', 'அடின்ட்டியி', 'எழுப்பானிய', 'லூட்டிக்', 'முனைபுணிவையாக', 'பிரமாண்டமான', 'கம்முன்றைக்கியர்ஸ்', 'பொலகிரித்தேட்டை', 'நுறையொரல்', 'இன்றைக்கும்', 'சந்திய', 'சேமிக்கப்பட்டுள்ளது', 'ஷாஜி', 'நீயும்', 'யோக்ஸ்போ', 'அருந்திவிட்டோம்', 'பண்ணிவிடுவார்களோ', 'சித்தான்த', 'கவலையில்', 'போரெஸ்ட்', 'குப்கே', 'படத்தையும்', 'கூட்டண்களின்', 'போட்டியான்தார்', 'திரன்', 'க்காலின்', 'டையி', 'படைதன்', 'பெரணியில்', 'மிட்ட்சாங்க்', 'ஜுக்லோயின்', 'பட்டகாரரான', 'இதேவெலே', 'வைப்பார்கள்', 'நாசா', 'நிலைநிற்துதும்', 'அசோக', 'செர்ந்து', 'மெட்டோஷன்ஸர்', 'நோக்கியே', 'நடந்தாள்போடும்', 'முர்லிதர்', 'மலோட்ரா', 'டூர்சிங்', 'அப்பாடால்', 'ஸ்டாட்டன்', 'நெருக்கம்', 'ஆகுவிடும்', 'நாதே', 'உயிர்மை', 'ஹோலிடன்ஸ்', 'குன்ட்சிம்', 'ஒடிசா', 'சமந்தா', 'எதுவாக', 'தரவை', 'மனோச்வரி', 'வழி', 'ஸ்ரூஸ்', 'தமிரம்', 'விட்டுவைத்திருந்தார்', 'பரிமாற்றமும்', 'பன்னும்', 'டவங்கோரி', 'தீனி', 'ரம்யென்ட்', 'விசைகளை', 'முங்கர்', 'விளையாடிக்', 'சுந்தி', 'படுத்தியுள்ளது', 'தண்டனையிலிருந்து', 'அளவுகடந்த', 'கவலைப்படும்', 'இவ்வையெல்லாம்', 'மாலிக்', 'சந்தர்ப்பங்களை', 'முன்மாதிரி', 'பூனா', 'பழ்லா', 'முகாம்கள்', 'கார்டினால்', 'உருமாகக்', 'ஆண்களிடம்', 'அக்ஸ்', 'மும்பை', 'வகிகள்', 'வீலையின்', 'சுந்தரி', 'போகப்', 'கால்ற்', 'ஆடுகளில்', 'எச்', 'தொன்றியதால்', 'அக்கார்வால்', 'உருப்புகளுக்கும்', 'தலங்களில்', 'இணையானது', 'ஜிமான்னால்', 'பக்தர்கள்', 'திருவரங்கம்', 'உயிலில்', 'பார்ப்பவர்', 'விரதங்கள்', 'தோட்டுவிட்டு', 'சர்துத்', 'பிஸ்ட்', 'மற்றவர்களையும்', 'வட்டியை', 'பிடார்', 'ப்லோ', 'ஆண்டிலிருந்து', 'நதியையும்', 'கூப்பை', 'செயின்', 'கார்ட்டாஸ்', 'யத்தனபுடி', 'ஏறங்கபட்', 'நீட்டிப்பு', 'பணிகளுக்கு', 'பெருகியது', 'வாக்குறுது', 'ராணுவத்திற்கு', 'அதாவது', 'விடுக்கப்பட்டுவது', 'இமிலி', 'அமெரிக்கர்கள்', 'மையமாகவும்', 'பாயம்', 'பிழையாக', 'மோய்செஸ்', 'யோ', 'சாத்னா', 'ஏஎ்', 'கைதியின்', 'நோக்கிக்', 'சென்னி', 'பொறுப்பேற்று', 'க்ளக்காய்சிக்குள்ளே', 'முனெச்சரிக்கை', 'முகாமை', 'கடவுள்களின்', 'மிக்கவர்', 'நேயர்கள்', 'இருக்கும்போது', 'கூடமும்', 'பண்டி', 'பிதப்பை', 'வழிகர்தல்', 'தூலம்ட்', 'உயர்நிலைப்', 'ஒதர', 'பெருவதற்காக', 'கூரவும்', 'சாண்டில்லா', 'பார்ப்பவர்களுக்காக', 'வழக்குகளில்', 'ஆவனப்படுத்தவது', 'பார்மண்டிக்கொண்ட்', 'ஜெய்குமரன்', 'வரித்', 'வலியுறுத்தியுள்ளது', 'பலத்த', 'கிலியின்', 'நிர்வாக', 'ஒப்பந்தப்', 'திறையுளகின்', 'வலுக்கட்டானமாக', 'காஸ்ட்ரோ', 'சக்ரபோர்ட்டி', 'சுடலைமாடன்', 'மெல்ட்டின்', 'சாஜானம்பூர்', 'க்ஜோபா', 'சதவான', 'ஆபோகுசில்', 'ஒல்ம்பிமா', 'கான்ட்ரோ', 'இடெய்வெலிய்', 'அமைத்திருந்தவர்கள்', 'ஜாபால்', 'நாஸ்டின்', 'புதுச்சேரி', 'ஹாரிஸ்', 'எமில்', 'செயல்படும்போது', 'விடுத்துள்ளது', 'குறைக்கப்பட்டுள்ளது', 'போர்கே', 'செகரித்து', 'குறைந்தவர்கள்', 'சிலிக்கா', 'வாசித்தவற்றின்', 'பிராஜ்', 'கூறியிருப்பதாவதுக்', 'மாஜெண்கோ', 'ப்ரி', 'வெகப்பண்டு', 'பொம்பானோ', 'செய்துள்ளார்கள்', 'வெற்றிட', 'கேல்விய்', 'ஷிலார்', 'கெல்வியின்', 'டக்லாஸ்', 'வாங்கினால்', 'வந்தியதேவன்', 'அதேதமான', 'தர', 'மருத்துள்ளது', 'ஆலையும்', 'கொழுப்பில்', 'கிம்பா', 'வரவிருக்கும்', 'கொழுந்து', 'அக்காலா', 'வாங்கிச்', 'அதினாக்குயுள்ளனும்', 'ஷெட்', 'கம்ஜெட்ஸ்', 'டூழுசமாக', 'அன்னியரானார்', 'சந்திராச்ராமம்', 'யோப்படிச்', 'பாதையைப்', 'கோல்லிஸ்', 'ரசிரக்கெண்ஸ்', 'ஆணையத்தில்', 'தம்பதியிலருக்கு', 'அப்ரிகளே', 'வாக்குவாததில்', 'தாண்டவமாகத்', 'பயிற்களைத்', 'விடயமாக', 'கூட்டமும்', 'வெல்லு', 'மாலிகைக்கு', 'கண்டுவருகின்றார்கள்', 'அப்பிட்', 'நுற்றுவர்களுக்கு', 'லெட்டின்', 'மகிழ்ச்சியுடன்', 'தாங்கக்', 'சிர்தன்', 'ஆசிரியர்களுக்கு', 'ஆயேரத்து', 'இன்னல்', 'செய்யாப்படுவதும்', 'சோலபுரம்', 'கர்திகோகியன்', 'ஒன்றுதிரந்துள்ள', 'தனு', 'செயற்படிருப்பதாக', 'வைத்தியனாத', 'சிக்னிட்டி', 'தமிழகத்திலும்', 'அசோகாவை', 'அகத்திக்கொடிய', 'எக்ஸ்டன்', 'இம்மாக்கள்', 'கூட்டத்தை', 'விவரித்துள்ளார்', 'வீட்டுக்குள்', 'இன்சுராண்டி', 'கொடுப்பதாக', 'ஜபனை', 'சந்தித்துப்', 'கருணகரன்', 'அப்படிப்', 'கைதிகளை', 'தமிழகத்திலும்', 'பூல', 'கண்டரிந்த', 'பலகையின்', 'இன்றித்', 'தொடர்புகளையும்', 'லோக்கிஸ்டிங்', 'நூலகங்கள்', 'நன்மையே', 'நீரைத்', 'கோவையின்', 'ஊடகம்', 'தமிழகத்தைச்', 'தொபங்கள்', 'விவாடிமிர்', 'உருப்புகளையும்', 'மிக்கவர்களையும்', 'அச்சாம்', 'முடியலை', 'மெலாதிக்கர்கள்', 'ஏற்படும்', 'அம்ரிஸ்டரில்', 'லட்சத்திற்கும்', 'உணவுச்', 'ஆரே', 'கொவிந்தையும்', 'முன்னுதாரனமாக', 'ஒல்சன்', 'எலகிப்', 'ஒடிஸ்', 'உதகமண்டலம்', 'அலையி', 'எவையே', 'கீதன்மாலி', 'பெத்தில்', 'கல்யான', 'காப்பி', 'வெல்கா', 'பரிசோதித்து', 'பெர்த்', 'கதானானகி', 'நெவர்க்', 'டிமி', 'படிப்பைத்', 'அதிர்ச்சியடைந்த', 'உதடுகள்ன', 'அலியும்', 'கிடா', 'வெறுத்த', 'கொட்டுறு', 'நெல்லன்', 'க்பாவில்', 'கடற்கரையில்', 'பெரவைத்', 'சங்கராக்கிக்கு', 'சேதமடிந்து', 'உடம்பை', 'விட்லா', 'ஸ்ட்ராங்', 'அழித்தனர்', 'பக்கா', 'வெண்டும்', 'ஆங்களுக்கான', 'கல்விக்கக', 'உயிர்வாலும்', 'அசோகன்', 'தமிழகத்துக்கு', 'தெரிவித்துள்ளதாக', 'தொங்கர்', 'மிக்கது', 'உத்திரப்பிரதில', 'இந்தியாவை', 'மனுதாரர்', 'நிகழ்ந்தாரனும்', 'தண்டனையிலிருந்து', 'சுரா', 'செய்யாடி', 'பீர்லண்ட்', 'பின்புரமாக', 'நார்காலி', 'இவங்க', 'யெய்த', 'யதிர்க்க', 'இணைதிடுமாறு', 'செய்கிற', 'கடம்பூர்', 'இவனைப்பாடிய', 'பசுக்களில்', 'கண்டறிந்தனர்', 'குணற்றும்', 'முன்வைத்தார்', 'பச்சானைப்', 'ஸ்னோவ்', 'தலையிட்டு', 'டெலி', 'பெர்ஜர்ட்ஸ்', 'மிட்ரா', 'கி', 'மண்டாடி', 'குழற்னம்', 'வேடி', 'காலத்தை', 'இலக்கியத்துறைக்கார்', 'சோசலிசா', 'அபுதாபியில்', 'அலம்', 'அமைத்துக்கொள்துள்ளது', 'மணிப்பூர்', 'ஆய்வுக்கான', 'புகழ்பெற்றார்', 'பிழசி', 'எழுதியுள்ளது', 'யேலிமையாக', 'மாலைகள்', 'பதிலும்', 'வரிகள்', 'டிக்கான்', 'தோலி', 'அபினைய', 'யெலுதியுள்ளது', 'சொல்லுக்கான', 'சிறிதலாவு', 'நோகன்', 'தொடங்கினென்', 'படிமா', 'திரித்தன்ன', 'கண்டியடி', 'சுதமன', 'இலந்து', 'அவதாரங்கள்', 'தருகின்றார்', 'ஆண்டிலிருந்து', 'கூல்டா', 'எல்லினால்', 'அதிதமன', 'ஒரங்கள்', 'ஸ்ரீனிவானம்', 'பாவ', 'ஒட்டிக்', 'பலகையில்', 'குலந்தாய்', 'பாதிக்கப்', 'கதிர்வீர்ச்சி', 'இந்துக்', 'வெண்ட்ரீஸ்', 'மொண்டேர்', 'இழுதுபோட்டவர்', 'பொவதர்கு', 'ஆகுவிடும்', 'படுத்திய', 'முதல்வரை', 'தலைமைத்', 'தோர்வுவிட்டார்', 'கண்ணிகளைச்', 'கைமியோ', 'வீண்டும்', 'தேவாளயம்', 'வெளுத்து', 'ஓடுருவல்களுக்கும்', 'நாட்டவர்கள்', 'கில்லோனி', 'கூடுமான', 'கூல்', 'திறனாளிகளுக்கான', 'செய்யப்பட்டன்', 'வங்கக்', 'முப்பறிமான', 'மகிழுந்து', 'இப்போடிய்', 'உடல்பட்மைதைக்கும்', 'பியி', 'முபைதேன்', 'தீர்', 'ஆர்வமும்', 'ரைச்சாட்டல்', 'வின்ரெக்கர்', 'பத்தான்று', 'சாஸ்ட்ரி', 'சங்கிலிகள்', 'கின்னா', 'உதவியாளர்கள்', 'ஆக்சுவரிஸ்', 'எவு', 'வாகுவாதம்', 'ஆயேரத்தை', 'தொடர்புத்', 'ராமான்', 'மிகிமி', 'காவல்த்தைப்', 'கச்சின்னோடி', 'கூட்செண்', 'நாள்களில்', 'ரைட்', 'இடைப்பகுதியிலுள்ள', 'சரேகம', 'ஜென்டென்பெர்க்கர்', 'நிக்கெரியோ', 'விடயமாக', 'பாதியாக', 'முச்சிய்', 'நடத்தினர்', 'தமிழ்லையும்', 'அஞ்', 'முகத்துவாரத்தில்', 'தொகுத்தார்', 'தொடர்புகளில்', 'அங்பைப்', 'ஆலாக', 'ஹட்டிசிப்ரூக்', 'கப்சுசுங்கு', 'ஒட்ஸ்ரியன்', 'குலத்தினரைக்', 'எண்ட்', 'இனியாவது', 'சுகார்', 'சக்கராட்டைப்', 'தர்பூ', 'மருத்துவணமைகள்', 'க்தி', 'வைத்தியானவையின்', 'சிகார்', 'மண்டபத்திலுள்ளே', 'நெல்லான்', 'அரை', 'இருமல்', 'மிசியோன்', 'சிறிது', 'உடகத்தை', 'ஆருரோடு', 'கடற்கரையிலிருந்து', 'கோலின்', 'தொகையே', 'மாலையும்', 'தனிக்கலிக்', 'ரெக்ரா', 'பிலைகளை', 'லுக்க', 'மனைவியிடம்', 'விசக', 'அழகி', 'கீட்ஸ்', 'கேவல்மோ', 'புரிகின்றனர்', 'வாக்கிட்டு', 'கோகி', 'உயர்மணிதர்கள்', 'செய்தர்த்', 'சுர்ரிவரா', 'கூட்டாக', 'பார்த்துகொண்டு', 'அதங்கங்படியில்', 'ரெட்டர்', 'தயலன்', 'வலிநடத்திலார்', 'சரங்குக்', 'இந்தேபெர்ட்கிக்கி', 'அன்றிரவு', 'பிலாண்ட்', 'கூறபாக', 'சூழப்பட்டுள்ளது', 'யூட்', 'கரச்சியி', 'ஜான்ப்ர்', 'வெளியாகவில்லை', 'கிரெஸ்ட்', 'தொலைபோனி', 'டிக்கிஎல்', 'துக்கமடையும்', 'வில்லியம்', 'விலகக்', 'அழுக்கு', 'பிரோர்பூர்', 'பலிகா', 'பல்லவர்கள்', 'பதுலையில்', 'தனித்தச்சையாய', 'வலப்துவதுடன்', 'செர்வெருக்கு', 'அதற்கேற்ப', 'துருபதனான', 'மலிக்', 'கோன்ரர்', 'கோவி', 'சால்க்கியர்கள்', 'ஜிஞ்சன்', 'வழிப்பெட்டுகளுள்ளன', 'இபோச்ஸ்', 'கொழுக்கட்டை', 'காம்மம்', 'அமரகபத்', 'கடற்கரை', 'பிரட்டம்', 'வெறுமையாக', 'மொலின', 'கடபா', 'மலைக்கெடுக்களின்', 'வருவானுத்', 'நசவில்', 'தீண்டாமை', 'ஜகரகர்லு', 'ரூகிங்', 'மோரோனா', 'கிடைக்கின்ற', 'சொந்தமா', 'டிகானியும்', 'கைமி', 'லோடன', 'செய்தவருக்கு', 'பொருத்தப்பட்டிருக்கும்', 'கார்ரானி', 'கம்பண்கள்', 'யாராசின்', 'அமெரிஸ்டனே', 'உங்களுக்கான', 'கூறியதாவது', 'எகாடலின', 'செய்பவர்களுக்கும்', 'செர்வேற்கள்', 'கட்டுமானம்', 'வரதன்', 'விரிச்சல்', 'ஊடாக', 'புச்சாக', 'ஜிற்ரோ', 'நிறைவெற்று', 'வில்லுபுரம்', 'வே', 'டோபாக்கோ', 'முற்பட்டார்', 'நூனாதின்', 'மகனா', 'அமாரகப்', 'நூலகத்தை', 'கேட்டால்', 'மகிழுந்து', 'கவலைப்படமல்', 'தாங்கள்', 'பபா', 'பினைக்கப்பட்டவர்', 'பிரித்தார்', 'உருவாக்குவதற்கு', 'யேசவேதான்', 'கோலோம்பில்', 'சீதக்கதி', 'ஆச்றம்', 'லெயக்ஸ்', 'எஸ்செஸ்', 'சொல்வது', 'கூட்டவும்', 'அடிக்கு', 'புதுச்சேறி', 'பாலுறவு', 'அம்பலவானர்', 'மருத்திருப்பற்கள்', 'கொலுப்பில்', 'குவா', 'ஈடுபட்டதாக', 'ராம்பூத்', 'பீட்டன்ஸ்', 'முசுசிம்', 'அழித்தார்', 'மாராக', 'ஆவுடையால்', 'பாஸ்', 'விடுகிறவனுக்கு', 'பரட்டுக்கள்', 'சொலுங்கள்', 'வங்கதேனத்தின்', 'சரவாகி', 'சுரேந்தானகர்', 'சாந்தம்', 'மக்தரிவி', 'சூட்டிக்', 'பண்டவர்களுக்கும்', 'நுட்லெஸ்', 'உழைக', 'செய்ட்', 'ரூவர்', 'உண்டானது', 'ஆய்வுகளுக்கு', 'டிக்கி', 'காக்காஸ்', 'வகுத்தது', 'பண்டவர்களை', 'மலரே', 'செரிந்து', 'தமிழகத்துக்கு', 'பாலும்', 'கார்க்', 'கென்டனோட', 'சிவப்ராகனா', 'லகிம்பூர்', 'காவல்டுறைக்', 'கேதுமாலனின்', 'அமெரிக்களில்', 'இல்லையெனில்', 'சீருடைகள்', 'கூடது', 'ரிசியி', 'காட்டுவதாக', 'தோனி', 'சொல்வதென்றல்', 'நூனாதின்', 'உச்சகட்ட', 'சூழப்படிருக்கிற', 'டெக்ரிரிஸ்', 'அசூக்', 'குழந்தாய்', 'உப்போசால', 'வீராங்கனைகள்', 'வுளாடிமிர்', 'தொல்முபோது', 'மத்தியதரைக்', 'ராஜான்', 'நவா', 'ரைஸ்ட்', 'கூல்', 'கீரன்', 'சஃப்ரா', 'விரும்புகிறார்கள்', 'நசிக்', 'குடுமிப்பிடியும்', 'அறிவிப்புகளை', 'ரைக்', 'செய்திடவும்', 'பிரான்சிக்கி', 'தம்பதிகள்', 'பீத்தி', 'இருந்தாலே', 'ரிஜான்', 'சோத்', 'செர்த்தனர்', 'வங்கிக்கு', 'இயக்கு', 'ரென்ச்லி', 'தலைமையெட்டார்', 'பினாச்சினல்', 'குனாட்ஜம்', 'சமர்ப்பிக்க', 'மகா', 'கூட்', 'ஜையமாகவும்', 'மட்டத்திற்குக்', 'கடைசி', 'கருத்துக்', 'மோடியாரி', 'சென்றுள்ளது', 'ஆட்சியமைக்க', 'சொல்வதென்றால்', 'குழந்தாய்', 'வீசித்', 'நிலைதான்', 'கார்ட்ஸர்', 'கல்வியே', 'பாதையை', 'கற்பதில்', 'ஈடுபட்டனர்', 'பர்ரான்', 'கொடைகமல்', 'காரோ', 'பாணங்கள்', 'கல்லால்', 'லார்னன்', 'தயநிதியாகிய', 'செயல்படும்', 'செட்டி', 'சுட்டினர்', 'மோவர்ஸ்', 'இத்தீவு', 'பகுதியைத்', 'இன்றித்', 'பிரதேசா', 'வேலைச்', 'பலியிடுதல்', 'சாத்தரி', 'இப்ராமிம்', 'மார்பை', 'நிகழ்ந்திருக்குமே', 'ஜோன்டால்', 'வைதிருக்கிறது', 'பிடிப்பது', 'காரில்லா', 'கெமிப்பத்திர்', 'தனித்தனியான', 'மனை', 'கார்க்', 'கருத்துட்களின்', 'தெரிகிறது', 'ஏற்படாத', 'முனம்மாத்', 'ப்ராவோ', 'இந்நிகள்வை', 'காப்பீடு', 'கார்கோலே', 'விட்லா', 'கோகாரெச்சாவர்', 'பன்றி', 'நிறுவப்பட்டுச்', 'சைஹூட்', 'துர்பே', 'குழுவினாகருக்குரியே', 'தொலுதார்', 'தாடா', 'கேல்வியின்', 'பிரைமா', 'தமிழகத்தைச்', 'மானிக்கம்', 'சூராவலிகள்', 'அனா்ட்', 'கிழார்', 'வததான்', 'கூற்றப்பட்ட', 'செய்யப்பட்டுள்ளார்', 'ஆர்ப்பாட்டம்', 'குலத்திற்கு', 'கடிதத்தில்', 'கைதியாக', 'வாடிய', 'லெடின்', 'லோகியா', 'யூசித்து', 'சோலர்கள்', 'தரா', 'சிவந்து', 'அழித்தது', 'கைது', 'லோப்பர்ட்', 'குலங்களும்', 'திருவடனை', 'வெற்றிடம்', 'பெயரால்', 'மாபரசெல்வர்', 'பிரித்தியாசினாலும்', 'தலங்களில்', 'பிரசந்தைப்', 'வச்சிங்கி', 'அஞ்சு', 'பணியிட', 'ஆர்ப்பாட்டங்கள்', 'மிம்சில்லான்', 'ஈசல்', 'இதழாக', 'மூன்றிலிருந்து', 'சீதர்ட்', 'தலைவனும்', 'உரிமி', 'வீட்டர்', 'வழிதோன்றல்கள்', 'வரலாடர்ற', 'தாங்கக்', 'கோபி', 'இதற்கமைய', 'அரைகுறாள்', 'ஒப்பந்தக்', 'பாபாவின்', 'எவர்', 'தரவுகளை', 'நீரோடு', 'சிந்தனையை', 'சால்', 'ஊரக', 'எவர்ட்ட்', 'சமனான', 'அப்படியும்', 'காலிக்', 'கூபோ', 'முயன்றபோது', 'வெற்றிதட்தை', 'நாகரத்திலிருந்ததோம்', 'அறிவிப்புகளை', 'போக', 'கொல்டைன்', 'மகம்மது', 'பயனிகளுக்கு', 'அப்பகுதி', 'துலக்கப்பட்டு', 'கண்ணியர்', 'எவச்சூட்டின்', 'வாகனங்களுக்கு', 'கேரவ', 'அமெரிக்கர்களுக்கு', 'ஸ்வீயின்', 'மூன்றிலிருந்து', 'புகர்பெற்றார்', 'ஒர்லாண்டோ', 'குறைந்தவர்கள்', 'அதிமுகளை', 'குணமா', 'தாங்காமல்', 'தூல்விக்குப்', 'காரணமாகப்', 'கதைக்கு', 'பெக்கி', 'செலிக்குக்கும்', 'கடைச்சங்கத்', 'வேறீருவன்', 'வழங்குனர்', 'நூலகங்கள்', 'ஓவர்', 'லெர்லோ', 'தாங்ககூடிய', 'அறிமுகப்படுத்தின', 'சுழறபோத்து', 'விஜானங்களும்', 'பிக்யிஸ்', 'டூலி', 'சோதை', 'முடிக்கப்பட்டிருந்த', 'மகிழ்ச்சியாக', 'ஷாவை', 'குண்டில்லா', 'நிரங்கள்', 'தமிழகப்', 'கீச்சர்', 'நவீனத்', 'சங்ரி', 'பார்த்துச்', 'சமமாகவும்', 'வாங்கும்', 'கீதை', 'படைத்தனர்', 'விளிம்புகள்', 'குடிப்பழக்கம்', 'இங்கா', 'சட்டமா', 'ஜினோரி', 'ஊராண்டில்', 'வங்கதேசத்தின்', 'மான்கூவின்', 'ஸ்வானிப்பதால்', 'படிதல்', 'பதிக்கப்பட்டுள்ளது', 'தண்டவாளங்கள்', 'ஷங்கர்', 'வேலையாக', 'அமெரிக்க', 'தூலைத்', 'வெடிக்', 'விளாட்டாய்ட்', 'பாட்டில்', 'விச்சைகளை', 'விற்கனும்', 'அதிலேயே', 'ஒரங்கே', 'சொல்கிறீர்கள்', 'கொடுக்கப்பட்டிருகள்', 'தொடர்புகளில்', 'சிந்திதல்', 'ஷியில்', 'கோஸ்ட்', 'பேனின்', 'கோல்களை', 'கோகுனோ', 'பூல', 'டி', 'என்றிருந்திருக்கும்', 'ஜம்முகாசியிடின்', 'பங்குதாரர்களாக', 'முழவு', 'ஆசிரியராகப்', 'ஆன்மிகம்', 'பதவியெட்பு', 'அமானாராகர்', 'முடிந்தாலும்', 'பிலை', 'கோரன்', 'படிகள்', 'கவிய்', 'நன்மையாக', 'கவலையே', 'நடத்தினால்', 'பின்வாங்கினார்', 'விழ்க', 'நனா', 'ஜிஸ்ட்', 'கள்ளங்குழிக்கு', 'ஆடுபவர்', 'சிம்மித்', 'சுப்பின்', 'பரென்னி', 'அறிவித்திருந்தார்', 'தெரியாதா', 'கோபி', 'உங்கந்த', 'மயா்சர்போசும்', 'டெக்கப்', 'இடிப்பு', 'தன்செய்வினை', 'இதைத்தான்', 'பிரருக்கு', 'சிறிதும்', 'சக்கரங்களை', 'யேக்படாத', 'கலைவரை', 'அங்கீகாரத்தைப்', 'நிலமாக்', 'ஜாட்ட்', 'ஈகபோகம்', 'பிரதேசம்', 'ஈவு', 'சபையினால்', 'ரூடார்', 'விடாயம்', 'ஆய்வுகளையும்', 'புரிவது', 'பிற்காலத்து', 'சுலிங்கி', 'ஜிண்டால்', 'முற்றியாக', 'மானாசன்', 'கீஸ்', 'குடிங்கால்களை', 'நடந்துவருவதாகவும்', 'செர்பிய', 'மட்டியிருந்ததாகவும்', 'ஆவணபடுத்தவது', 'குரிச்சி', 'வர்ச்சி', 'திறங்கள்', 'பலியிடுவது', 'வீழ்ச்சியின்', 'துர்க்கை', 'இராகவனை', 'கோடியே', 'டிஸ்ட்டைப்பர்', 'மென்யன்', 'நிசன்', 'கூறியிருந்ததாலும்', 'நூற்றியேட்டு', 'வயல்', 'படுத்தியது', 'கடைசியாக', 'திக்கால்', 'மனதுக்கு', 'விவாத', 'அனுமதிகவில்லை', 'நியமிக்க', 'குலோசில்லோ', 'பீபி', 'பிராம்ஸ்', 'அப்ரிக்கா', 'பரதேச்சி', 'சொன்னதும்', 'அவரிடம்', 'கொலுக்கட்டை', 'ஆலையம்', 'கரச்சி', 'பண்டவர்களும்', 'கொல்லப்படவுள்ளமையும்', 'அசுரத்தக்கூடவர்களில்', 'போவி', 'வெரென்னா', 'மென்று', 'பொலுடில்', 'கூறியபோது', 'காரணத்தைத்', 'போட்டர்', 'சிறிதும்', 'பான்கிஸ்', 'நாஸ்ரா', 'எஸ்பினோன', 'கல்லூரி', 'உணர்ந்தான்', 'பிரவேசா', 'நிறுத்தப்பட்டு', 'தம்பதி', 'குல', 'வகமேற்கில்', 'உன்னிடம்', 'வீட்டிற்குச்', 'தோன்றிய', 'காண்கிறார்', 'பிறகாச', 'க்ட்', 'எக்கிக்கி', 'டோகையைக்', 'பேரோன்', 'ஆய்த', 'டிக்கேயும்', 'அவரோ', 'சொட்டியிருந்தது', 'சக்கரங்களை', 'கதையம்சங்களுடன்', 'மகாலட்சுமி', 'கோஸ்ட்', 'வழக்குகளும்', 'நல்லூர்', 'கொடியெற்றதுதான்', 'பணிகளின்', 'சர்வர்கள்', 'தரா', 'ஆண்களே', 'அதபுர்', 'கவியின்', 'அருபத்து', 'காலதுங்', 'அடித்துவிட்டதாகவும்', 'டார்வின்', 'பயிர்', 'பணிப்பாத்', 'நன்மையாக', 'தொகையே', 'வெச்சில்', 'செர்க்கைகள்', 'பலகையின்', 'இவையெல்லாம்', 'கழலை', 'ஸ்வாஜி', 'ஏகுட்ஸ்', 'ஓழலில்', 'மட்டச்செரி', 'வித்தியா', 'நூலகத்தில்', 'சைவாஜ', 'ரான்சோ', 'விசேசமான', 'பண்ணிறந்தாம்', 'மதுரா', 'கட்சிகளை', 'மனக்டில்', 'கையல்', 'மகிழ்ச்சியும்', 'ஸ்கோட்ஸ்', 'அனுப்பின்னாரு', 'போகி', 'பணக்காரர்கள்', 'வெளியிடவில்லை', 'சங்கத்திற்கு', 'எழுவதுதான்', 'நீரிட்டால்', 'கோவலனும்', 'ஈடுப்பட்டதாக', 'சதிச்', 'மலையத்திலரத்தில்', 'மாற்றுவதை', 'கடிதங்களும்', 'செய்ததை', 'ஜார்க்கண்ட்', 'அமாரகக்களில்', 'இக்கல்', 'பிளாக்க்கில்', 'சிவதானுவை', 'அனீடா', 'செக்கல்', 'பெரியதாக', 'கையோ', 'சாத்தியமா', 'அவலைத்', 'தடுத்தார்', 'தொர்க்ஸ்', 'பிட்டியன்', 'வீடிற்குச்', 'பர்ரெட்', 'இனம்', 'பெய்ர்வர்', 'நல்வா', 'யார்படும்', 'செய்தவருகு', 'பலாட்டாட', 'இந்தியாவை', 'துர்க்கை', 'பெரியவராக', 'கோர்கா', 'இருகிக்', 'நுறையொரவின்', 'செவ்வாய்', 'விண்டர்', 'நுழைந்தனர்', 'வலைக்குதா', 'செர்பியா', 'குலித்த', 'வேனி', 'வாகனங்களையும்', 'துணிந்து', 'தமிழகத்தை', 'சென்றில்', 'படைத்தனர்', 'ப்ட்', 'கூற்', 'ஐச்வர்மர்களையும்', 'விடயங்களை', 'வேசிம்', 'சக்கரங்களை', 'யூத்', 'பயிற்களிலும்', 'பிறப்பிக்காததால்', 'நோகன்', 'மேனைமாக்', 'குருக்கும்', 'யிக்குறையைப்பற்று', 'விலியம்', 'பாவா', 'தியாகரான', 'டிட்டி', 'புப்', 'மாதுலை', 'பபா', 'மாற்றமடையும்', 'பேராசிரியரும்', 'ஷோப்ர்', 'விற்பச்சட்பாய்க்', 'கோரா', 'கோ', 'ஜோல்யன்', 'தயறிப்பதுண்டு', 'நால்', 'ஈருகளை', 'காசியில்லதரவுக்கு', 'மலர்களைக்', 'பொருத்தது', 'அணுப்பியுள்ளது', 'பொருமையை', 'யாமட்டத்துக்கும்', 'சுண்டெக்', 'வாங்கப்பட்டு', 'அளிக்கப்பட்டிருந்தது', 'பேபோல்', 'பூடான்', 'உணவுகளையும்', 'பிறந்திருந்ததாகவும்', 'பொறுப்பெற்ற', 'பரிச்சையை', 'வில்லிஸ்', 'ஆண்களைக்', 'திக்கால்', 'முனிவர்களாகிய', 'பெசினோம்', 'குப்குறுளும்', 'கணவானது', 'துடித்திருந்தால்', 'கொர்க்', 'நல்லா', 'நோகிப்', 'சந்தர்ப்பம்', 'ஜின்சன்', 'சினா', 'ராம்பத்தின்', 'செங்குத்தான', 'தொடர்ந்தால்', 'இவர்த்துக்கும்', 'ரெண்டாம்', 'தமிழகத்திலும்', 'கூட்டமும்', 'போக்குவரத்தில்', 'சுத்தப்படுத்துச்', 'எம்மை', 'சங்கமிக்கும்', 'ஹெக்லாவரே', 'பொலுடு', 'அம்பெட்கர்', 'கணமனையால்', 'சலலர்', 'ரைக்ஸ்', 'வழங்குவதுடன்', 'நட்தோவெனி', 'விசாரிக்க', 'அரசூர்களான', 'தன்பட்', 'நையிடால்', 'பொட்டுத்', 'கயிற்றின்', 'உட்டரகன்ட்', 'வீட்டிலே', 'ஒடிமூல்னி', 'கிடைக்காடு', 'மனுத்தாக்கள்', 'எரிந்து', 'போ', 'அனுப்பிமா', 'ஒப்பந்தத்தில்', 'அருமை', 'மாகா', 'பொறுப்பேற்றது', 'ஏகன்', 'பெசினேன்', 'சிக்கன', 'பிலை', 'மாச்ச்', 'கிடந்தனர்', 'சேர்க்கைகள்', 'சந்திரிகள்', 'நரம்புகள்', 'யோகம்', 'ஸ்ரீனிவாசன்', 'யூருக்கிறாரகள்', 'மையான்', 'சம்பவத்தன்று', 'மிட்டோஸ்வைக்க்', 'அப்பகுதியின்', 'அணிமா', 'பண்றியின்', 'கோய்ட்', 'ஏண்ட்வில்', 'உதேசிதிருந்தார்', 'நோக்ரோட்டின்', 'வருடி', 'செயல்படாத', 'நோக்கியமான', 'டுன்னி', 'வீழ்ச்சியும்', 'அடியும்', 'உணவுக்காக', 'காரணமாகும்', 'வகர்', 'கலந்துரையாகவிலும்', 'அலங்கரத்தில்', 'வழிகாட்டு', 'தன்னாவுர்', 'முர்த்தி', 'நிகழ்ந்தாைப்', 'கீழிறங்கி', 'அபூர்வமான', 'அய்ரோபியா', 'நீதவான்', 'விட்டால்', 'கன்வாஜன்', 'பொயினர்', 'ஜிவா', 'குற்டட்டின்', 'பவினமிழம்', 'குறிச்சி', 'கர்மங்கள்', 'கருத்தாக்கம்', 'கார்னா', 'தண்கசையிலிருந்து', 'சூலர்', 'பெத்தி', 'ஆய்வுகளையும்', 'போகிறின', 'மா்ரா', 'கார்சன்', 'இந்தியங்கன்ஸ்', 'பிரித்த', 'நாடோடி', 'குலங்கள்', 'வித்தியாசாமாக', 'பார்டி', 'சங்கிலியை', 'மகிழ்ச்சியும்', 'நகம்மையிலும்', 'தமிழகம்', 'எவர்ஸ்', 'விமானங்கள்', 'பொழுதுபோக்காக', 'குடம்ந்து', 'வாக்குப்பதிவு', 'தொகைகள்', 'கபான', 'யேக்படவே', 'காட்டாக்', 'மாரா', 'கஷ்டப்பட்டு', 'ஊந்தேவே', 'துலையை', 'அங்கோலோ', 'பதிலும்', 'மானகராத்', 'ஆகுவிட', 'ஆர்வத்தில்', 'அகத்தி', 'வைத்திருக்கிறார்', 'மதுபானி', 'கார்நர்', 'தேரடிப்பேலி', 'வாட்டர்', 'ஸ்கோர்லேதில்', 'முயன்றனர்', 'பண்றிகளை', 'புகழ்பெற்றவை', 'சாத்திரை', 'மரபாங்கங்கியவை', 'குறைந்தால்', 'இதோ', 'வங்கிகளுக்கு', 'உட்பட்டிருந்தவர்கள்', 'அடிகளையும்', 'அமைக்கலம்', 'வழிபடுவது', 'ஒப்பந்தம்', 'நிகழ்த்தப்படும்', 'மோரோபின்', 'எச்சரித்துளாரு', 'வக்கோல்', 'அப்பகுதிகளில்', 'சந்தர்ப்பங்களை', 'சுடலைமடன்', 'படுத்துளேன்', 'ஜையமாக', 'சத்துனவு', 'சதவீதமாக', 'சேர்ட்குளைய்', 'அம்பலவனர்', 'லக்சிமியின்', 'குர்த்து', 'தேவாலயம்', 'வொல்கா', 'பாச்சல்ராஜ்', 'எருப்பலர்', 'அனுபவிக்க', 'டார்ட்', 'ஹேண்டிஸ்', 'சொல்வதை', 'தேடா', 'சிட்டாண்டா', 'நிகழ்வை', 'பயிற்களும்', 'சீதக்கதி', 'மேலவையில்', 'குடிப்பெயர்ந்தார்', 'வெட்டர்', 'சான்ற்ரார்', 'விசைகளை', 'சந்தர்ப்பங்களில்', 'அழைக்கப்படுவதற்கான', 'பண்பாடுகளின்', 'செகன்றா', 'ஏட்டில்', 'ஒராண்டில்', 'புதுசா', 'தம்பதியினர்', 'பந்தன்', 'மம்ந்த்', 'ஜார்விஸ்', 'துறைக்கும்', 'போட்டர்', 'சாஸ்திரிகள்', 'பாதைக்கு', 'காலனிகள்', 'பிடிப்பது', 'கூடியே', 'திருமங்கை', 'பின்', 'கம்ப்ரிட்கே', 'அங்கீகாரங்கள்', 'நாக்டியா', 'டார்வின்', 'சேரலதன்', 'அட்டுவையாக்களும்', 'பயனிகளை', 'லூடியன', 'நுலைந்த', 'இருக்கவோ', 'பார்க்கிறது', 'பிறந்தபோது', 'பாடியாவா', 'பெலிட்டி', 'சிக்க', 'நாகையை', 'பங்கள்', 'ரியுஸ்', 'ஸ்டோக்ஸ்', 'அனுபமா', 'முதல்வருக்கு', 'ஹெப்லிகர்', 'பலேச்வர்', 'சூலபுரம்', 'ஹினெஸ்', 'வழுக்கு', 'சோதிக்கும்', 'சிர்சா', 'சாப்பிடுவது', 'எழுதியிருக்கிறார்கள்', 'இலட்சத்து', 'எவைகளைத்', 'பிரித்த', 'குலத்தை', 'இடுகைகளில்', 'சொல்லுக்கு', 'குத்திருக்கும்', 'எழுமலையான்', 'மோட்ட்ஸ்', 'சீதக்கதி', 'பிளானென்டியோ', 'மெய்படுத்துகின்றனர்', 'குலுமை', 'தொடர்புடன்', 'சிங்கம்', 'மோனோன்', 'படையினரும்', 'கொர்வில்லா', 'ட்வானர்', 'நவித்தி', 'விவகாரத்தை', 'அனுபம', 'டெல்பூர்', 'மார்சா', 'விற்றது', 'கூல்லி', 'புன்கர்', 'மகில்ச்சி', 'படைப்ப', 'ஸ்னைபர்', 'உருவாகவில்லை', 'பாண்டவர்களில்', 'யோகத்தின்', 'நொர்ரிஸ்', 'நீரோட்டங்கள்', 'போக்குவரத்தை', 'காட்டுத்', 'முடிந்தாலும்', 'அசிரியர்களுக்கு', 'பதிவர்கள்', 'பிரட்டாஸ்', 'ஜுக்', 'பொம்பாலே', 'சசனங்கள்', 'மனுதாக்கள்', 'தட்டிக்', 'கலாச்சாரத்தை', 'க்கா', 'கன்னால்', 'போய்ப்ர்', 'பெரியவராக', 'டீவிட்', 'பணிகளுக்கு', 'யுனெர்க்கோ', 'தரவுகளை', 'நல்லோர்', 'பிரதானப்', 'செகரிப்பு', 'ஊடகத்தை', 'ஷாம்', 'லெட்டால்', 'யெலுதியுள்ள', 'அவதாரங்களில்', 'ஜின்க்ரின்', 'யேடோனியெட்', 'நாமலே', 'நூலகங்களில்', 'வரதம்', 'சாதியு', 'பையுள்வான்', 'பாண்டவர்களை', 'தகர்', 'முயன்றால்', 'திட்டமிட', 'போட்டில்', 'தமிழ்ப்பொருளம்லை', 'எஸ்டாட்டி', 'ஷூல்லைக்', 'நயதோடு', 'நரம்புகளை', 'பிரவேன்', 'கீதனில்', 'புன்னகையுடன்', 'தேடா', 'வதந்திகள்', 'யோப்படியும்', 'ஆகார்ட்', 'சுச்சி', 'உருப்பினருமான', 'வேட்', 'தயவில', 'தரகுடினை', 'பெட்டி', 'இணைக்கறுவியை', 'கொண்டிருந்தவர்களுடன்', 'உறுப்பும்', 'மகாச்சன்', 'வித்தியா', 'உணவுகளுக்காகவும்', 'லானோய', 'ராச', 'கடற்கரைக்கு', 'பூட்டு', 'தார்', 'அம்சங்களில்', 'சந்திய', 'வேத்தோ', 'அறிவியலாளருடையே', 'யெசுப்பானிய', 'பருமன்', 'ஜோசங்கபட்', 'செயல்பட்சுபோது', 'சாதியிலர்', 'சம்புரதமாமான', 'பழு', 'மாகா', 'லினக்ஸ்', 'அயில்வாய்', 'சோமாங்', 'உபயோகத்திலிருந்து', 'குரு', 'இருக்கிறார்கள்தானே', 'டார்பே', 'கலந்தாளாம்', 'லாங்', 'யேக்படுவதற்கு', 'நீலசல்', 'சிந்தித்தல்', 'தம்புலம்', 'இலக்க', 'இதழாக', 'பின்புரமாக', 'சிமான்ஸ்', 'ரைவாஸ்', 'கூவலனும்', 'ஆயிரம்', 'அகலாய்வில்', 'கூடாணியில்', 'பேரர்', 'யூரிக்', 'பிரசானையாக', 'கூட்டங்களின்', 'கூட்பாடு', 'உறக்க', 'நோப்லே', 'லெடியின்', 'காதலுக்கு', 'முகம்மது', 'சிற்றார்', 'தமிழகப்', 'சிப்பெர்', 'பிக்ஸா', 'சாடியி', 'கடற்கரை', 'தோடா', 'ஜம்மு', 'சிகனமன', 'அந்தோலி', 'அபயதபோத்', 'ஸ்கெஸ்ட்', 'சரவஙபவன்', 'சென்றுள்ள', 'எடுத்துகொள்கிறேன்', 'பெரியது', 'ஆயிரத்தை', 'இயம்ரோ', 'தனித்தனி', 'பயனிகளைப்', 'யாவர்', 'நோப்செல்வில்', 'கையியாக', 'விஷாகா', 'வழக்குகளையும்', 'வாகனங்களையும்', 'செய்யப்பட்டுள்ளதாக', 'கண்டெடுக்கப்பட்டது', 'தொடர்பனர்', 'கார்டிகோகியன்', 'மெய்யறுவினின', 'ஜோன்', 'பணிகளைப்', 'தொடாதவர்களுக்கும்', 'முரைக்', 'சொல்லுக்கான', 'ஹேரிஸ்', 'ஜெயிக்க', 'கூட்டவும்', 'மாடினா', 'முனம்மாத்', 'சங்காங்கள்', 'எவட்றுக்கும்', 'உதயமாவதற்குச்', 'சங்கத்', 'புலம்பச்', 'உரையாற்றிய', 'யுனி', 'நுழைந்திருப்பார்கள்', 'பைக்', 'அசோக்', 'உளோம்', 'காலத்தைக்', 'ரைக்', 'எழுத்துக்களில்தான்', 'சூழப்பட்டது', 'பீபி', 'தபைல', 'சுர்வர்', 'அபுல்', 'டோபாக்கோ', 'வடிக்கப்பட்டது', 'ரெபரில்', 'சித்தன்றமத்தை', 'தரக்குடின', 'அமெரிக்கா', 'சிவந்து', 'தொகுபையும்', 'பருசமி', 'சீய்', 'உத்தரப்போரரி', 'சாங்காட்', 'வண்ணி', 'தமிழகத்திலும்', 'கிரிச்சா', 'போக்கா', 'பாண்கர்', 'பின்பாட்டிவவர்கள்', 'தமிழகத்திலும்', 'டோசேர்ட்சன்', 'பனியும்', 'போதும்', 'டிக்லாஸ்', 'ஒடோனி', 'லாட்சனம்', 'பூனே', 'பிக்கிபி', 'விலாட்மிஸ்', 'பாதரிய', 'கடற்கரையிலிருந்த', 'கொடூரமான', 'பாவனையில்', 'எடிர்பார்க்கும்', 'சோலர்களின்', 'தபாகோ', 'பூனகரியில்', 'பொட்டவர்களுக்கும்', 'நடிகையான', 'குண்டும்', 'மனின்', 'கங்கே', 'ஸ்தாபக', 'விரும்புகிறது', 'தோவிட்', 'பாபில்', 'சொல்வதை', 'நோகத்தின்', 'பீட்டில்', 'நயம்', 'தைத்தைப்', 'மண்டால்', 'அறிவுருத்துகிறீர்கள்', 'வழங்கியுள்ளதாகவும்', 'ராம்', 'நிறைவுரையோடு', 'டிம்பக்', 'பூடான்', 'குடாய்', 'நாரோ', 'லாடின்', 'பரா', 'மெண்டர்', 'சிறுமியை', 'ஜானகிக்குத்தான்', 'செய்ததாகவும்', 'டெலோசிங்ஸ்', 'பேழா', 'எடுக்கப்படவில்லை', 'படைத்தது', 'சிறியப்', 'ரத்னகிரி', 'லிவர்புல்', 'செர்பிய', 'ஜெங்க்ரிய்', 'பிரம்மா', 'பல்மிகி', 'தெதியும்', 'கொண்டிருக்கும்போது', 'சசனங்கள்', 'சூன்', 'பொட்டார்', 'இந்நிகழ்வுக்கு', 'அப்பாடல்', 'பிடோன்', 'அறிவது', 'அவலைக்', 'மான்கோவின்', 'கண்காலிப்பாளர்', 'தொழிலை', 'மண்ணு', 'மாலி', 'குண்டாம்', 'கொண்டிருந்தும்', 'முகத்துவாரத்தில்', 'ஏற்படாமல்', 'அதிருப்கினை', 'நிர்வாகங்கள்', 'சோழர்களின்', 'அனுரங்காரத்தில்', 'எலகிரி', 'விட்டும்', 'வில்லிமாஸ்', 'பங்குதரர்களாக', 'எலட்சத்து', 'கொரோவெற்கும்', 'சாதாரணமான', 'விங்களுக்கே', 'மற்றவர்கள்தான்', 'செய்ததாடலும்', 'தொகுத்த', 'கிரோன்வில்லி', 'அமெரிங்கா', 'வகர்', 'சங்கவி', 'ராஜ்ர்ட்ராபிஸ்', 'கியூடா', 'துறைவியும்', 'கல்யான', 'பங்குபேட்டுள்ளனர்', 'லைக்காண்ட்', 'முன்னுதாரனமாக', 'எங்கிச்', 'ரூக்யமினிடம்', 'பிரத்யாகமாக', 'சாண்ட்லால்', 'படைது', 'ஜோர்ட்கால்', 'எதிர்ப்பார்க்கும்', 'மணிக்கு', 'மாலிகையில்', 'கலாடி', 'பூலா', 'ராஸ்', 'வலைதளங்களில்', 'வாக்குகளை', 'பணியிலும்', 'செய்ரெவில்', 'கௌதில', 'அரேன', 'இலக்கம்', 'தேவக்கணுக்காகவும்', 'செட்டிஸ்', 'ஜபமின்', 'தருணத்தை', 'கூட்டத்', 'தடரேன்', 'கழிவரை', 'பாகிச்தானுக்கு', 'கரணமாகச்', 'இன்றியும்', 'தைத்துவாயான', 'ரானுவத்', 'நதியான', 'அச்சேன்', 'மூர்திகள்', 'இன்னீயை', 'தங்கிச்சாவு', 'கடலுள்', 'உருதியுடன்', 'பிசியாக', 'மெட்டி', 'பைடான்', 'ஆண்களே', 'பிரச்சை', 'டயலன்', 'மிட்லண்ட்', 'செர்கபின்சி', 'செர்வருக்கு', 'வலைக்குவரில்', 'ஹல்யி', 'பொருத்தப்பட்டிருக்கு', 'தொக்கிபில்', 'நூலகங்களில்', 'கிம்கா', 'லெலிங்', 'ஜாப்பானை', 'ரெட்டார்', 'பலாடின்', 'ஊடகப்', 'கூட்டட்டேர்', 'ஜோட்சிக்கிலின்', 'இன்றி', 'இருப்பையும்', 'புன்ன்', 'தமிழரிக்கர்', 'மலர்களைக்', 'ஸ்ரீரங்கத்தில்', 'ஆண்களிலும்', 'கடி', 'மத்தலர்களையும்', 'காண்கிறது', 'சிமுருகைப்', 'படுத்துக்', 'செல்லவேற்றும்', 'பிய்ட்டி', 'சாட்டி', 'தடம்களைத்', 'வாளின்', 'ரவ்வனி', 'போவர்ஸ்', 'வாழ்வது', 'பம்பரம்', 'மாவரைட்டா', 'இனா', 'பிரதேசங்களுக்கும்', 'ஒன்னும்', 'புரிந்தும்', 'செய்யாப்பட்டிருந்தான்', 'பிருஷதனுக்கு', 'அப்பரேல்ஸ்', 'வலிமையான', 'நிர்வாகத்திற்கும்', 'யெசோ', 'பெல்ட்ரன்', 'ரூவர்', 'அபயதபாத்தில்', 'வேதத்தின்', 'அத்தியாயங்களில்', 'ரூணேக்கி', 'ஏந்தப்பிய', 'சிக்கித்', 'அசன்சல்', 'குலங்களின்', 'அக்ஸிஸ்', 'அதிகமானது', 'கீழிறண்கி', 'மேனி', 'வார்மா', 'கூடும்', 'கருத்த', 'இமயமலையின்', 'ஜிர்ப்பு', 'புரோக்கரை', 'ஷாந்தி', 'சர்பிய', 'அக்கிரமத்தினருக்கு', 'போட்டிக்காக', 'குலங்களையும்', 'மச்சின்', 'ஒரிச்சா', 'கண்டறிந்தது', 'சிதிரைப்', 'வருத்தப்பட்டுச்', 'லூடியான', 'சம்புறதாய', 'வாபாக்', 'மூர்த்தியாக', 'தெய்வேலை', 'வால்ஸ்', 'கமியோ', 'ஓச்ச்', 'பான்', 'இருக்கின்றும்', 'பார்த்திருக்கிறேன்', 'தரத்தைக்', 'டின்ப்ளோட்', 'கீமுமா', 'ஆடுவர்', 'கேடும்', 'வாகனம்', 'நதிகளும்', 'கிழித்து', 'தேர்வை', 'ஊவா', 'சங்கர்', 'போரான்', 'சன்சி', 'ஏகபோகம்', 'பணிகளும்', 'ஜாரியா', 'ராஜச்சந்திரன்', 'லாக்ஸ்மி', 'மகலத்', 'முதலமைச்சரின்', 'பணிகளையும்', 'ராஃப்ஸ்', 'கோஸ்ட்', 'தண்டவாளங்கள்', 'உருதியுடன்', 'ஸ்டாபின்ஸ்', 'செய்துவிட்டார்', 'அடங்கியது', 'சிற்கா', 'அமெரிக்கர்', 'தொடர்புக்கு', 'இடுக்கி', 'செயல்முறைகள்', 'குரெச்சா', 'உட்புரமாக', 'பாதைகளை', 'காகிரனுள்', 'எடுக்கப்படாமல்', 'வெளியிடப்பட்டன', 'மனதில்', 'லூடியன', 'பொசெக்கோ', 'படிக்கு', 'பிண்டு', 'ஒப்பந்தத்தில்', 'பதிப்பித்த', 'அறுப்புக்கொட்டை', 'பண்பாடும்', 'ஜோத', 'கலை', 'ஆடிப்போர', 'சுர்தன்', 'கிராஜி', 'ஊர்வலமாக', 'எழுதுகிறேன்', 'அந்தந்த', 'செய்தனர்', 'மிகோய்', 'செயல்படுவது', 'தந்திரத்தை', 'சரதிகள்', 'எதிர்க்கட்சி', 'வித்தியாசமாக', 'புலப்படுத்தியுள்ளார்', 'ரேனே', 'ஜோல்லோவை', 'ஹர்பூர்', 'முயன்றார்', 'பூட்டெண்க்ஸ்', 'தரசா', 'டோர்லே', 'நீதிமண்றத்தை', 'சம்புரதாயமான', 'பொன்னையும்', 'மதியாரனு', 'விழிக்குங்கால்', 'பிலைகள்', 'செருப்பைப்', 'நாக்குர்', 'நடப்பதக', 'நிசான்', 'லட்சத்திற்கும்', 'கரும்பலாயினும்', 'பாடீரியா', 'தலா', 'ஒத்துழைக்க', 'குலத்து', 'விளுப்புறம்', 'தைதியம்', 'செய்யாப்பட்டிருந்து', 'முனம்மாட்', 'தயாரானது', 'வெட்டர்', 'நீடிக்கிறது', 'வண்ணி', 'இன்னூவரின்', 'சிப்', 'காண்பித்தார்', 'அன்னபோலிஸ்', 'ரூம்', 'அஸ்டர்', 'அறிந்தேன்', 'சுக்கு', 'வீழ்ச்சியிலிருந்து', 'அழுத்தி', 'இருந்திருபதாகத்', 'கொடுதிருபதாகவும்', 'ரைட்டம்', 'நரவா', 'இப்பரவை', 'வந்தியத்தாவோம்', 'விக்ரம்', 'வீடிக்', 'பீன்', 'மண்தம்', 'அங்கெனி', 'மருத்துவரை', 'லண்டனில்', 'கோர்ட்', 'இருந்ததில்லை', 'நோபோல்', 'குடும்பத்தினருடன்', 'ரெங்கோஸ்', 'குற்றர்களுக்கு', 'நுறையினூரலில்', 'இருக்கப்', 'மவ்விதத்திலும்', 'போகி', 'உட்புரமாக', 'மா்ட்க்', 'ஒட்டகங்கள்', 'போயினர்', 'ஒட்டகங்கள்', 'வீழிங்', 'இன்னல்கள்', 'எச்சில்', 'டிலார்', 'சுப்பிராண்டு', 'ஜிங்கரியில்', 'தமிழரினர்', 'நூச்', 'இப்பாதை', 'அளவுகடந்த', 'சிம்', 'கம்பாத்', 'செய்வீர்கள்', 'சிமாக்ஸ்', 'பிரம்மம்', 'லைக்கோலி', 'சால்கியார்கள்', 'தலைமையேற்றூர்', 'படலங்கள்', 'நிறைவாக', 'டோம்சோசே', 'பாதை', 'நிர்வாகிகளை', 'பகுதியிருக்கிறது', 'கொடூரமாக', 'பபக்', 'ஜாடவ்', 'அதிருப்கினை', 'உருதியான', 'திடாகர்', 'கிய்ட்ஸ்', 'மதேரன்', 'லிண்டா', 'ஆச்சிரமம்', 'ப்ளோப்க்ர்ஸ்', 'நடந்தப்பட்டது', 'பிக்னிஸ்', 'தொறனை', 'கொண்டிருக்கவில்லை', 'செயிற்டிருந்தாலும்', 'தகவலறிந்து', 'ப்டியா', 'டிம்கா', 'ஆணையதில்', 'அபார்', 'மீனம்சம்', 'மகில்ந்து', 'செய்யப்பட்டார்', 'எரிந்து', 'குலத்துக்கு', 'கல்லற்றி', 'வடமேற்கில்', 'இட்ட்ஸ்', 'டாண்டான்', 'படுத்து', 'இன்னிச்சை', 'தலிசிய்', 'அதிர்ந்தக்கரி', 'நிறுத்தத்துக்குப்', 'செய்வீர்கள்', 'மனம்மாக்', 'க்குன்', 'கொதிக்கும்', 'கொல்டா', 'பாபால்', 'நன்மைகளைப்', 'பிரிக்கில்', 'அவதிப்பட்டு', 'சன்சன்', 'அளவங்கியான', 'லிண்டியி', 'டிகாலியும்', 'மேம்பாலப்', 'வாதம்', 'அவேனூச்', 'கூடுகளில்', 'மூக்கும்', 'பணக்கரர்கள்', 'தொபங்கள்', 'கோல்ஸ்', 'பான்சலி', 'வேசிங்கோன்', 'கத்தா', 'பொடும்', 'ஷிவகோரி', 'செண்டர்', 'பாங்காக்', 'பொகவில்லை', 'வரவேற்றர்', 'ஹெர்க்ரேச்ஸ்', 'நிகழ்வையும்', 'வகைகளை', 'நீரீட்ரம்', 'போம்னோ', 'கொண்டிருக்க', 'பலியானார்', 'பனா', 'வடக்கின்', 'கொடுப்பர்', 'முகத்துவாரம்', 'வாகனத்தை', 'லுதீன', 'லோல்கு', 'சொன்னர்கள்', 'அவனங்கபுடனைச்', 'தொக்கிபின்', 'விஜயபுர', 'கூவியே', 'இன்னல்கள்', 'அன்னாட்டில்', 'செல்டி', 'ஹூல்த்', 'மேல்மாறுவத்தூர்', 'வகைகளை', 'சொல்லுங்கள்', 'கேல்விய்', 'சிம்ருதை', 'பயா', 'சுரேரி', 'டிக்கால்ஸ்', 'ஆற்றலால்', 'பூனை', 'அனுப்பிய', 'தரக்குடிய', 'வினீத்', 'மக்ரோல்ல்', 'சுர்வுல்லா', 'அரோரோ', 'ஓதி', 'செய்யாப்பட்டுள்ளதாக', 'எதிர்பார்ப்பு', 'இயல்பையும்', 'பிளாமெர்ஸ்', 'பாராட்ட', 'உருவாகத்திற்கு', 'டூட்', 'படுத்தியுள்ளது', 'சரவர்த்தி', 'நன்றிகள்', 'ஜெய்யாகர்', 'பெயரின்', 'லாசித்', 'தனோமா', 'கவலையை', 'மாமன்', 'ஹிலர்', 'பிரோன்', 'எட்டாவது', 'இன்னிகள்வுக்கு', 'சொல்வதாக', 'எவ்விதக்', 'தொடர்புகளும்', 'மணிக்கம்', 'இருகிக்', 'எதிர்க்கட்டியகின்', 'கிலம்பும்', 'பிரசாட்', 'லாட்டு', 'விசையுடன்', 'செதிலில்', 'ஒருவழியாக', 'சிடாரம்', 'பருமனால்', 'சொத்துகளை', 'பூரோன்', 'மீனவர்', 'குடாய்', 'முடிந்தது', 'கார்லோ', 'தொகுப்பாளர்களுக்கும்', 'ஸ்பால்லா', 'கண்டறிந்தனர்', 'பணிப்பாளர்', 'ப்ளூரின்', 'பெசுகிறார்கள்', 'அழித்தவன்', 'பொய்பலப்', 'அலிபோர்', 'அரும்பு', 'ஆய்வுகள்', 'ஹான்சன்', 'அமர்', 'ஈர்ப்பு', 'குடைந்து', 'அர்ஜா', 'அமெரிக்கர்கள்', 'தொழிலில்', 'தாசன்', 'முதலியோர்', 'யெட்டியது', 'வங்கோடுமை', 'கொன்னல்', 'போவிய்', 'தெர்ந்தெடுக்கும்', 'வழக்குகளையும்', 'புலசானுரப்', 'ரிஜான்', 'கைதிகளுக்கு', 'சுடலை', 'பகிரததன்', 'ரிசிகள்', 'பங்குதாரர்', 'ரத்தத்தை', 'ஊழியர்கள்', 'அடக்கி', 'அமெரின்றானுக்கு', 'ஸ்ரோ', 'மாண்ட்யா', 'பானி', 'வெல்லிங்கோன்', 'பேலா', 'சிந்திக்க', 'ஷெயி', 'குருக்கொண்டா', 'பணிகளுக்கும்', 'செஞ்சிப்பொன்னு', 'வலைக்குதா', 'அடுத்தும்', 'பிடித்திருந்ததையும்', 'அருணாச்சல்', 'கூட்டத்தைத்', 'லோர்டு', 'ஆச்ராம்', 'நோர்', 'நூலகத்', 'கைது', 'கொல்லி', 'காரணமாகப்', 'கைவலம்', 'தனிதனியன', 'பரிகாரம்', 'பெசசும்கள', 'உணவுகளையும்', 'சூதாரி', 'காபோலில்', 'அண்டி', 'ரிஜினி', 'நிகழ்வைப்', 'சாரான்பூட்டு', 'படிக்கும்போது', 'சிறித்த', 'யோக்கியமான', 'ஊரே', 'சுட்லோய்', 'எழுந்துள்ளன', 'பதினேழாம்', 'சானார்', 'கூழப்பட்டிருக்கும்', 'தென்பகுதியிலுள்ள', 'வேண்டியதுதான்', 'தியாகரானம்', 'சோத்', 'சிதிரை', 'தொல்விக்கு', 'முன்வைத்தது', 'செட்ரே', 'குறைசி', 'பிரோவிஸ்வில்', 'ஆணர்', 'டேன்ஸ்', 'தனித்தம்மையான', 'கரும்பலகையில்', 'அல்வார்', 'வெண்டுமெனவும்', 'எண்ணிக்கை', 'பெசினோம்', 'ஒவர்க்கல்', 'உருக்கிய', 'படிகளின்', 'கொண்டிருகின்றனர்', 'மிக்கிய்', 'இன்றியும்', 'முபமாகவும்', 'உள்ளிருந்து', 'மிப்கோஸ்ரன்', 'ஆர்ப்பாட்டங்கள்', 'எப்போதோ', 'தொடர்களுக்குதான்', 'கூறியுள்ள', 'கம்பான்', 'ஜிசன்டன்', 'ஆதரன்', 'மாருபாட்டுத்', 'ரெக்கிக்கெண்ட்', 'கூஸ்', 'டேட்', 'கொலைகாரர்களான', 'நாடுகடத்த', 'பொருத்தப்பட்டன', 'தூக்குத்', 'நினைவாகவும்', 'யாத்தான்ன்', 'காட்டிக்கொண்டிருந்து', 'விசி', 'உணவுகளும்', 'அர்ட்டீம்ஸ்', 'புறக்கணித்து', 'கனவாலும்', 'லெர்லாஸ்', 'நீதிமண்றதை', 'யாரிடமும்', 'பிரோ', 'யாவ்வித', 'வலர்ந்துள்ளதாகவும்', 'பார்டிச்', 'ஸ்ரீவண்டாவா', 'கூட்பாடுகளின்', 'ரூஜெர்ட்', 'ரெசியி', 'சொன்னார்கள்', 'ப்', 'நிமூரோ', 'உர்சாக', 'டோடா', 'ஜீவா', 'தங்ககுடிய', 'அண்டமன்', 'கட்டாயத்தில்', 'இன்டியன', 'அப்லாக்கர்', 'தமிழகத்தை', 'பணிமலை', 'ஒட்சி', 'சட்டவிருதமாக', 'யனம்', 'இன்னிகளுவை', 'கிருபை', 'சதவீதத்தில்', 'கொடியெற்றத்துடன்', 'மனனன', 'வெற்றிகரமாக', 'சொந்தி', 'நனா', 'மலர்களையும்', 'ஆளாசனைகளையும்', 'சாட்சியம்', 'சோலுகன', 'போபி', 'தொலைநீக்கி', 'விதிக்கப்பட்டுள்ளது', 'ஆயிரத்து', 'திர்மானிக்கும்', 'அடிகளாயும்', 'ஊழியர்கள்', 'அதேதமான', 'ஈடுபட்டுள்ளது', 'செப்பில்', 'நுண்டி', 'வினரைகள்', 'மட்டவர்களும்', 'கர்லூச்', 'இனியாவது', 'சரவஙகன்', 'எரிய்', 'தனிதனிக்', 'வரலாட்டுச்', 'ஜோலோ', 'கம்ப்பத்திர்', 'துவங்கவில்லை', 'நற்பண்புகள்', 'மீன்வர்களுக்கு', 'டோவ்செண்ட்', 'தொகையின்', 'பூங்குலலி', 'சிகனமாக', 'காதனானகி', 'கூத்து', 'கூர்க்', 'சோப்கிய்', 'பிரசாரத்தை', 'சூத்', 'விரதங்கள்', 'முடிந்தவுடன்', 'முன்னெடுத்த', 'குவிந்தது', 'ரூபர்பின்று', 'கோலும்பின்', 'இன்றுதன்', 'ஜானே', 'அன்பைப்', 'உட்பட்டிருந்தவர்கள்', 'சடலமாக', 'விரிபுரா', 'ஊத்தா', 'பேல்', 'பிரோவர்', 'எஎஎஎஎஎஎஎஎஎஎஎஎஎஎஎஎஎஎஎஎஎஎஎ', 'நடப்பட்டிருகின்றனர்', 'கசிழுகளுனால்', 'திருசொல்வெலி', 'மனனம்', 'வேலைகளை', 'நார்ம்மே', 'போட்டியில்', 'பெ', 'நயத்தோடு', 'சமூகமலித்ததாக', 'ஈரு', 'வீழ்ந்தது', 'யதிர்க்காமல்', 'ராம்பூர்', 'செவக்ரம்', 'பென்னென்', 'பம்பரம்', 'அன்றிரவு', 'நீடிக்க', 'கனிதம்', 'கொல்டன்', 'சிறைத்துறை', 'அளித்திருக்கிறதே', 'சுண்டம்', 'கட்சி', 'பிரவானரி', 'கல்ரின்', 'சதவீதமாக', 'ஷோபன்', 'கடைசியாக', 'பென்டனர்ஸ்', 'திறைத்', 'அதிகபண்ணம்', 'பிக்சர்', 'பயிற்சியூகம்கூடும்', 'அடியை', 'ஸ்கோட்ஸ்', 'காமலே', 'அடோபெர்', 'பூர்ட்ஸ்', 'ரூச்சோ', 'பயத்தோடே', 'காச்சிட்', 'கிரித்தவர்களும்', 'என்றாலே', 'விகிரமன்', 'ரூண்ட்', 'நாங்கைந்து', 'பெண்ணினதும்', 'நோவக்', 'சிக்கனமான', 'சர்வர்கள்', 'தங்கிய', 'வீழ்ச்சியிலிருந்து', 'எடுக்கவேண்டும்', 'கொல்லாது', 'செய்', 'தொன்றியுள்ளது', 'ஜோனி', 'இருந்துக்கொண்டிருக்க', 'நிர்வகிக்கும்', 'அதனதன்', 'கோவலன்', 'நிகழ்ந்தாகவும்', 'ஹர்வோ', 'கோல்பிரா', 'வணிகர்களின்', 'முதற்கட்டமாக', 'வீசுதல்', 'மனமக்', 'ஸ்ட்ரீம்ந்த்', 'டோல்', 'இந்திபெர்ஸ்', 'பரிமாற்றத்தில்', 'கரங்களையுடையவரும்', 'விலியம்', 'ஒர்டோகா', 'அரவுக்', 'பூல்லா', 'நாடுகடத்தப்பட்ட', 'ஆயிர', 'விழ்கா', 'நெட்ரி', 'என்டெர்ப்ரிசி', 'பிட்டின்', 'மனியம்', 'வியாபாரிகளின்', 'வெற்ட்ஸ்', 'மற்றவர்களிடம்', 'நடத்தப்பட்டுள்ளதாகத்', 'வாழ்விலிருந்து', 'ரத்னானக்கவை', 'படைதனர்', 'முடிவெடுது', 'இருலில்', 'தமிழக்கவிலிருந்து', 'கொண்டாடியுள்ளத்கள்', 'பிராக்டர்', 'சேரலாதன்', 'உருமிரிட்டுப்', 'புகழ்பெற்றவை', 'கூட்டதுக்கு', 'பூர்', 'பிளாமார்ஸ்', 'பிடிக்க', 'குலங்களும்', 'நாட்டுட்கும்', 'ரிங்க்', 'டூலி', 'இணையதலங்களில்', 'சிக்கி', 'முடியல', 'பைத்தியம்', 'பிறந்திருள்ளது', 'பாக்காலாஜ்', 'இன்னும்', 'செயல்முறைகளை', 'கடற்கரையை', 'குட்டெலுதையும்', 'டெய்ட்டில்', 'ஊடக', 'வீரராக', 'லிமிடத்துச்', 'பெண்ணுக்கும்', 'சங்கங்களுக்கு', 'வழங்குவதை', 'பிரகாஷ்', 'தெர்வில்', 'நிகழ்ந்தாகைப்', 'வண்புணர்வு', 'கிலர்', 'அன்னன்', 'விசாரித்தார்', 'சனரம்', 'மிக்கியி', 'நுழைந்தது', 'நிர்வாகத்தில்', 'மாட்டோக்ஸ்', 'பலாட்டாட', 'கொண்டிருக்குமொன்று', 'செய்யப்பட்டவை', 'காம்பி', 'விரும்புகிறோம்', 'சோலன்', 'பெயரிலும்', 'துன்புறுத்தல்', 'கடமையலர்களை', 'கீந்திரிய', 'உண்டெகிறேன்', 'அமைத்து', 'வெல்ஸ்', 'வழங்குவதை', 'உன்றோ', 'சுதமான', 'ஹிட்டங்கர்', 'பிராமர்ட்', 'டோனியி', 'பதிக்கபட்டினாரு', 'க்ராஸ்பி', 'உடைந்தது', 'யோகம்', 'டெசிக்குல்', 'ஆய்வும்', 'காப்பாட்டிக்', 'நினையாய்', 'நரணமனய', 'பண்றியின்', 'தொயகியும்', 'தெர்க்க', 'டேட்டாமிச்', 'எவைகளை', 'வலிகாட்டு', 'எனிமா', 'நிகழ்வையும்', 'டெக்சாஸ்', 'நினையாய்', 'அலப்புல', 'பகிர்ந்துள்ளார்', 'தடையும்', 'முனேடின்', 'கொண்டாடத்தில்', 'மாயிஸ்', 'சாக்டி', 'அருவருப்பானது', 'சங்கமதில்', 'ஆளயங்களின்', 'விடயாச்சாக', 'சொல்வதை', 'அலுத்தி', 'அம்பலப்புலைக்கு', 'பிலி', 'பிரச்சததில்', 'சாந்தப்படுதும்', 'விளையாட்டாகவும்', 'படிபையும்', 'சம்தர்ச்சி', 'டெனுரை', 'ஒப்பந்த', 'பாவனை', 'லிமென்னே', 'அவைசைக்', 'கேட்டது', 'பங்குற', 'ஒட்சி', 'இருந்தாலை', 'பெசுவாம்', 'லலிதா', 'கூடுகளில்', 'படைத்து', 'பிஎ', 'கோகிமி', 'அசோகா', 'எழுந்துள்ளன', 'லூப்்', 'ஈருகளை', 'பிளாக்க்', 'அப்பகுதி', 'சித்தர்த்', 'கிரோன்ரர்ட்', 'கேட்கிறர்', 'தருமத்தை', 'தின்றாவ்', 'தடையை', 'முனைப்பிலிருந்து', 'வாங்கிடு', 'கண்ணத்தில்', 'கமாரில்லோ', 'பிரத்யாகமாக', 'பைகள்', 'உடம்பை', 'வெட்டர்', 'அளவுபதற்த', 'எல்விதம்', 'கர்னனின்', 'கிடைக்கக்க்', 'ஆப்பிரிக்கவிலும்', 'சோலபுரம்', 'ஆதங்கம்', 'அணிதா', 'உருப்புகளுக்கு', 'கோல்ட்ட்', 'அறிவிப்பில்', 'கட்டுரைகுமான', 'டோபேகோ', 'நால்', 'இந்தி', 'நீரேற்றம்', 'டிலர்', 'சந்துமா', 'பல்ரம்பூர்', 'நாதி', 'இல்லையாம்', 'லார்ஸ்', 'இந்துர்டிச்ச்', 'நன்மையே', 'மரக்கட்டாகும்', 'கோல்களை', 'தெங்கைப்', 'என்றாலே', 'வில்லைகள்', 'ஆளயங்களை', 'எமிலியி', 'கடத்தப்பட்டிருக்கு', 'உணரு', 'விலாஸ்', 'கிடைக்காடு', 'புலவர்களை', 'செய்யாப்பட்டனர்', 'ரவிங்களே', 'அமாரகப்', 'படைத்தது', 'அதிகபட்சம்', 'கோட்டன்', 'செய்யாப்படுவதும்', 'மத்ன', 'கோயாஃப்', 'முஸ்லிம்', 'கல்லுறிகளும்', 'குலிர்ச்சி', 'சித்தந்த', 'மடக்குகிறீர்கள்', 'எதிர்பார்ப்போகும்', 'பின்னுற்றும்', 'கன்வின்', 'இலட்சியத்திற்கும்', 'மேர்டா', 'கொடைகமல்', 'முபைதேன்', 'கார்லீஸ்', 'பிரிதார்', 'வெட்ட்ஸ்வோ', 'நாகரிகங்களில்', 'கெட்டாலும்', 'அறிவிக்கப்பட்டுள்ள', 'கார்போடி', 'தருணங்களில்', 'கூட்டங்களை', 'சங்கத்தை', 'தந்திரங்கள்', 'அவதாரங்கள்', 'கணங்கள்', 'கிடந்த', 'ஜிண்டல்', 'சாதமடைந்தன', 'பூனா', 'நண்பர்களுக்கும்', 'அலிப்ர்', 'முடிவிற்கு', 'மரக்கட்டாகும்', 'ஜா', 'தமிழகத்துக்கு', 'மனமலா', 'மகானைத்', 'விளையாடவில்லை', 'பொம்பாய்', 'வழிகாட்டும்', 'கோவையின்', 'கூலின்', 'திறங்களையும்', 'கவல்டுறைப்', 'டென்ரர்', 'கெமிப்கேட்டே', 'பம்பை', 'கிடைக்காது', 'பெட்லெஸ்', 'தலைவர்களுக்கு', 'கட்டனத்தில்', 'சென்றுள்ள', 'தெனிக்', 'எதிர்ப்புக்களினாலும்', 'கோபோ', 'சுரபு', 'சிவபெருமானே', 'ஜிர்டன்', 'நடிகையும்', 'கண்சிப்புரம்', 'ரூடர்', 'பொருளாகவும்', 'புகையிறத', 'துலைத்து', 'அவார்டி', 'அளவுகளை', 'தண்டவால', 'பலவாராக', 'சிதுஷரின்', 'அப்ரிர்வருக்கு', 'ரைச்', 'பெற்றுத்தந்தது', 'புலவர்', 'கோனார்க்', 'எங்கோ', 'பெர்சன்', 'அடிகளாயும்', 'கிங்கோ', 'படங்களின்', 'கிடைக்கக்', 'திருததச்', 'கார்டு', 'இறக்கப்படுகிறார்கள்', 'பாஙகாுக்கு', 'சியில்', 'க்ளாரா', 'கார்', 'லாண்ட்', 'கணவனது', 'கலந்துவிருத்துவான்', 'பமிந்தர்', 'பட்மணாபன்', 'சாவ்னை', 'சொல்லப்பட்டடாது', 'குறைந்தரை', 'எப்பவும்', 'ஜலான்', 'தருணதை', 'வாக்குவாதம்', 'பானத்தில்', 'ஆண்ணானைசர்', 'முருக்குகிறது', 'கம்பரமமாந்தில்', 'செய்தவருக்கு', 'பிளிஸ்ட்', 'கொலி', 'பூச்சுகள்', 'போன்றா', 'பின்வாங்கினார்', 'கிட்ஸ்', 'முஸ்லிய்மாப்பவுக்கு', 'லிலட்சேர்', 'வெக்காளர்களை', 'ஷூட்டிக்', 'வெண்டும்', 'இந்தே', 'ரோசேரி', 'குவா', 'பிரபு', 'நெர்கொண்ட', 'உணர்ந்துள்ளதேனே', 'பர்த்து', 'வாயால்', 'குழ்வில்', 'திறைக்குப்', 'அப்கோர்க்க்', 'புதைத்து', 'பங்குத்தரர்', 'வருகின்றன', 'வாழ்வும்', 'பிளாஸ்ட்', 'விட்டினர்', 'க்ட்லர்', 'லாடியின்', 'வெறுமனி', 'மகலைத்', 'படிமாட்டின்', 'தூல்விக்கு', 'தோல்விக்குப்', 'அண்டா', 'பெர்க்', 'தெரியாதா', 'கண்டுக்கப்படுவாரு', 'கொதிகும்', 'சோலங்கி', 'தமிழகத்திலும்', 'ஸ்லூஸ்ட்ஸ்', 'தேவாரி', 'நாகருங்க', 'நிருபர்', 'நீதிமண்றில்', 'எலிமையாகக்', 'வீழ்ச்சிக்கும்', 'பெர்லின்', 'சொன்னர்கள்', 'அசோக', 'வீழ்ச்சிக்கும்', 'சொல்லப்படுகிறார்கள்', 'மரைச்', 'ஆயிரக்கணக்கில்', 'மெண்டெஸ்', 'அழகில்', 'கலக்கராக்களில்', 'முசிக்', 'வெண்டியதுதான்', 'பிலோ', 'உள்ளூரட்சி', 'மானவர்கள்', 'ஸ்பார்டர்ப்க்', 'சாலுக்கியர்கள்', 'தலத்துடன்', 'இளம்வயிரிலேயே', 'சம்சரம்', 'வழக்குப்பதிவு', 'வலைக்குவரில்', 'முயன்காகூடு', 'செலுத்தியுள்ளதாகவும்', 'கம்பெனிகள்', 'நெட்டிப்', 'தொலைநூட்கி', 'மகாதாவே', 'பிரியம்', 'வாகுவாதம்', 'செயலையை', 'கணிக்கமா', 'பங்கில்லைய', 'குரில', 'பிடித்தவர்களாகவோ', 'சரணகைந்தது', 'பிரவேன்', 'பிரானிஸ்', 'கருகி', 'பூனையின்', 'விடாதீர்கள்', 'யார்பாடவே', 'ரூத்காக்', 'மன்னிக்கவும்', 'பூலா', 'ஜோசின்', 'வெறுத்தார்', 'ஜையாசாயப்', 'மங்புக்கணக்', 'கவர்ந்த', 'பலக்கட்', 'கிள்ளெட்டே', 'கம்மிட்டியில்', 'கொப்பையில்', 'பகுப்பான்று', 'நோய்டா', 'ரெக்கோனா', 'விச்சாரித்த', 'கம்பாட்டின்', 'தொழிலின்', 'தமிழரிக்கைச்', 'ஒயல்', 'விச்வகார்மா', 'கிமூரான்', 'சைர்டியி', 'உளல்மகர்', 'கேட்டனர்', 'உணவுகளைச்', 'தொய்தியா', 'பொதுசை', 'மீமம்சக்', 'கார்னன்', 'நுபா', 'நுழிந்தது', 'சோலார்', 'சுரண்டர்', 'விலாட்டாஸ்', 'லுகோ', 'பிம்மன்ஸ்', 'பனீசர்', 'மோரால்ஸ்', 'மைிழ்திரா', 'அஞ்சு', 'கிரித்தவர்களின்', 'பாலுட்டிகளில்', 'ஜாதாவ்', 'சதவீதமாக', 'தொடும்போது', 'லோஜெர்ட்', 'புகர்பெற்றார்', 'கிமூரன்', 'பொருண்கடலில்', 'உபத்தைய', 'சசிதரன்', 'சிறைக்கு', 'வளங்கப்படாமல்', 'சொல்லிக்கொளின்', 'பின்புரமாக', 'நிகழ்வைப்', 'தீர்க்கதறிச்', 'ஓடகத்தில்', 'கயிற்றின்', 'ஒன்றுக்காகவும்', 'யெனிட்', 'தொக்கிபில்', 'ரிஜ்சன்', 'கடந்தது', 'கல்லுறி', 'கோய்ட்', 'சுயனவத்துக்காகவோ', 'உருதியான', 'இன்ட்னேவை', 'நகாட்டுதாவேயும்', 'விச்சி', 'தடமங்கள்', 'கொற்கின்', 'ஜாபான்', 'கோகி', 'நுழிந்தபோது', 'ரிச்சர்ர்ரன்', 'யாவருக்கும்', 'சாசனங்கள்', 'சிரோனி', 'கீழிறண்கி', 'ரம்மிஸ்', 'அலோக்காண்டர்', 'துணிச்சல்', 'சங்கத்தில்', 'பேக்கி', 'கல்வியோடு', 'காலிழிச்வழதனாலாம்', 'பிரம்வரன்', 'காலகட்டங்களில்', 'கிடைக்கக்கூடிய', 'நதிகளும்', 'ரூவர்', 'அச்சத்தில்', 'தனக்கக', 'கலாய்', 'மகிழ்ந்திருப்பார்கள்', 'டோர்ட்ஸ்', 'பிறந்ததால்', 'ஸ்டாட்டி', 'நதியில்', 'பதகக்கம்', 'அதுபரிரி', 'நடித்தது', 'தன்கிய', 'விசாரிதர்', 'பண்டவர்கள்', 'திண்டிக்குல்', 'கிடைக்காது', 'ராஜச்சாந்திரன்', 'பாலுட்டிகள்', 'முடிந்ததும்', 'பிரோம்ம்', 'விடப்பட்டுள்ளது', 'சுண்காஸ்சி', 'ஆளாசாயைகளையும்', 'கின்னியா', 'காரணமாகவே', 'ஆற்று', 'சம்பிரதாய', 'செல்வதற்காக', 'கூட்டட்டின்', 'மனச்சாஸ்', 'தமிழகத்து', 'டேவிட்', 'கூழப்படிருக்கும்', 'துறவி', 'அத்தியாயம்', 'முத்த', 'பிஸ்கார்ப்', 'நரக்குகள்', 'மேனியை', 'நெருக்கடிகள்', 'ஹர்ட்டியோ', 'எங்கா', 'மீங்களின்', 'கெட்டதற்கு', 'தேதியும்', 'சீடு', 'தீர்ப்பால்', 'தனித்தனிக்', 'இருக்கவில்லை', 'சிண்ட்', 'கெக்ரெட்', 'சான்னி', 'அமெரிக்கா', 'அர்டக்க', 'தெரிவித்துள்ளதாகவும்', 'அழபில்', 'தீர்கடாரிசி', 'கேல்வின்', 'பிற்காலத்து', 'பாத்தரியான்', 'பானாடினா', 'பூகி', 'சால்நுகினர்', 'ஆர்வத்தை', 'செல்லேர்ஸ்', 'பிரதீசம்', 'செங்கிரிச்ஸ்', 'கோப்பைக்கான', 'பிறபுவின்', 'எர்கனவே', 'கேட்கப்படுவதை', 'பெயாரோ', 'வர்கொலோ', 'அவங்க', 'குடாயின்', 'கானோரா', 'கொண்டுரியர்தும்', 'மண்தம்', 'சிறைப்படிக்கிறேன்', 'பொடாதையும்', 'குலங்களை', 'மிச்சூரி', 'திறைக்கு', 'எகபோக', 'பணிகள்', 'செயலைச்செய்யாசல்', 'கதிகளுக்கு', 'மேட்சோ', 'கார்ட்டின்', 'ரூங்கே', 'அழைப்பு', 'முடிந்துள்ளது', 'டெச்சோப்போஸ்ட்', 'பாவங்கள்', 'ஆலயமும்', 'வழக்குப்', 'ஹர்டிய்', 'நோக்கி', 'கூட்பாடு', 'கோபையில்', 'முக்குறி', 'டோன்', 'படைப்பக்க', 'பிரட்டாஸ்', 'முதலியவர்கள்', 'அதிகாரவர்க்கத்திலாம்', 'கவர்த்தைப்', 'காலமே', 'மூர்த்தி', 'கனரா', 'மாலையை', 'மிக்க', 'வியந்த', 'பலருக்கும்', 'கிடங்கு', 'கான்ட்ரீஸ்', 'உணவுகளைச்', 'கோன்ர்', 'முன்னனிக்கு', 'ஊழியர்களும்', 'குறைந்தவை', 'ஆதர்வாகச்', 'மங்கோனா', 'தமிழகத்தைச்', 'கெல்விக்', 'மூன்றிலிருந்து', 'புகர்பெற்றவை', 'பேசுபாரர்கள்', 'கொடுத்திருப்பார்கள்', 'இருக்கின்றும்', 'கீர்ட்', 'லக்யமி', 'கூல்ப்', 'விஷயத்திலும்', 'வழிநடத்தும்', 'நெகி', 'இந்தநிலையில்', 'சங்கத்தில்', 'வழிபடுவது', 'காலாண்டில்', 'மற்றவர்கள்', 'தருணங்காவில்', 'வாழ்விலிருக்கும்', 'சிந்தனையாளர்களது', 'மகிழ்திருமின்', 'புதுச்சீரியை', 'அஞ்சி', 'ஸ்ரீரங்கத்தில்', 'படைத்தான்', 'பே', 'செய்தமையல்', 'முலங்க', 'முபமாகவும்', 'ரெசியி', 'தொகையை', 'வாகனமாக', 'கொண்டிருக்கு', 'ஜெய்', 'ரெண்தவ', 'மையமாகக்', 'கொல்லதவர்', 'கம்பலாட்டு', 'லோலனோ', 'பகிரப்பட்டுவிடும்', 'மாட்டிக்கொண்டார்களா', 'இல்லாதவர்கள்', 'தமிழகத்தைச்', 'தோல்விக்கு', 'சுட்டுக்கொள்கிறாள்', 'நடந்திருக்கிறது', 'வர்த்த', 'கமிட்டியின்', 'மச்சில்பரினம்', 'சுவரோரம்', 'இப்பாதை', 'செலுத்தினர்', 'சமாட்டர்', 'கிவாண்டாம்', 'ஒத்துழைக்கின்றனர்', 'நாட்டியத்தில்', 'நன்றிகள்', 'சைபாச', 'தைகளியும்', 'மையமி', 'நுறையின்றல்', 'குல்மார்க்', 'செயற்பாடுகளில்', 'ஸ்ரீனிவானம்', 'கோலோட்ட', 'திரா', 'அவலுடன்', 'ஏற்படுதல்', 'குலைத்தாலும்', 'வழங்கப்படுவது', 'அசோக', 'ஆய்வுகளையும்', 'பயமும்', 'நடைபெறாத', 'ஜினோரி', 'யூரோ', 'இருந்தாலை', 'பரிகாரம்', 'ஊரக', 'மிஸ்ரா', 'கொண்டிருக்க', 'கல்லூரிகளுக்கு', 'பிரித்த', 'ஹார்ட்', 'கொலுகட்டை', 'முண்டி', 'பொட்டுவிட்டு', 'அறிவித்திருந்தது', 'வில்லிமாஸ்', 'அனுமதியை', 'கடற்கரையின்', 'தொடர்புகளையும்', 'கொண்டிருந்தவராகவும்', 'கோவை', 'வேசிப்', 'பற்பானி', 'சந்தேகமில்லை', 'சிரியன்', 'சிய்', 'அப்பகுதிக்கு', 'கூறியுள்ள', 'பூங்ட்', 'நாடூடி', 'வழக்கு', 'விழிகள்', 'பிழைகளை', 'நிச்ரானில்', 'ஜோனாவை', 'யால்ஸ்', 'சேர்த்துச்', 'கலுடை', 'தோர்வுவிக்க', 'பொருளாகவும்', 'கலில்', 'விரும்புகிறார்', 'தாடா', 'திரைப்படத்', 'தட்டமாய்வீட்டி', 'ஆய்வுக்', 'பிரதானமான', 'காய்டும்', 'பூடான்', 'உருதியானதும்', 'செய்ச்ட்', 'இடதுத்கூடு', 'நீனே', 'பார்க்கவேண்டும்', 'கேடபோது', 'அண்டார்னன்', 'ஸ்டோவென்னால்', 'மாடிசன்', 'அழகினை', 'மில்ஸ்', 'தேவர்களுக்காகவும்', 'இடைவெளிக்குப்', 'ஜிமட்சிங்க', 'பணியடி', 'மானிதர்', 'மலிக்', 'கெர்லாம்', 'நுழிந்ததால்', 'புறப்பட்டார்', 'தமிழகத்துக்கு', 'சந்தைபடுதினார்', 'லுதீன', 'கிம்கா', 'மாட்டோ', 'ஸ்வாராஜ்', 'கோமி', 'கடத்தப்பட்டிருக்கும்', 'டாடா', 'மதிரிதான்', 'சுரவசியில்', 'தமிழகம்', 'ஜானுக்கு', 'தமிழையும்', 'துறவியும்', 'பரட்', 'ராமனமன்', 'செய்துவிட்டு', 'அல்மெபிக்', 'படிமட்டின்', 'ட்ரோய்', 'சிந்தனையை', 'இழந்து', 'நாடுகடத்தப்பட்ட', 'நிறுத்திவிட்டு', 'நூலே', 'செயற்ந்வில்', 'செயற்பாடுகளின்', 'சரணகைந்தவர்களுடன்', 'வைரமுட்டு', 'பிரமுக்கர்', 'சரமாறியாக', 'செய்பவர்களே', 'அடைதல்', 'அழுது', 'சோலர்கள்', 'பத்தாண்டுகளாக', 'வாங்கப்போது', 'வேசா', 'பதினேழாம்', 'சிமான்', 'ஓடா', 'சந்தம்', 'முடியவில்லை', 'கோகோமோ', 'மசுத்திக்கு', 'பிரோய்', 'அழகி', 'ரூபவேனினி', 'சொழர்கள்', 'மிசியில்', 'பிச்சின்', 'வெல்கா', 'கொழும்பில்', 'உருவாகத்திலும்', 'நாடி', 'செய்வாம்', 'பாதை', 'மிக்கதாகவும்', 'வலைக்குவரில்', 'வரிகளை', 'நடைபெறுவதை', 'பூர்நெட்ட்', 'கிருபை', 'மனந்தால்', 'கொடூரமாக', 'கல்வியிலும்', 'கூல்ட்', 'நூலக', 'சொல்லுடன்', 'நாகோர்', 'அடக்கிக்', 'பெய்த்யி', 'சிலிக்கின்', 'கவல்நிலையத்தில்', 'சுர்வுல்லாப்', 'நிகரா', 'இங்கம்', 'அமரவதி', 'குடாதா', 'தமிழகத்தைச்', 'துர்பா', 'நிலமபக்', 'பொறுப்பெற்றது', 'பாண்டவர்களும்', 'செர்வர்', 'செய்தமையால்', 'கீட்ஸ்', 'கடிதத்தை', 'கூல்டன்', 'மகதா', 'குலத்து', 'எழுமலமான்', 'படிமத்தின்', 'சரசமாக', 'கொண்டிருக்கிறேன்', 'அப்படத்தில்', 'இசைக்காருவி', 'திரா', 'டூட்ட்', 'நோவி', 'கீட்', 'அச்சிரியராகப்', 'பீட்டி', 'தொழும்போது', 'கலந்துகொள்கிறார்கள்', 'புரா', 'கவி', 'தருணமாக', 'வீர்ச்சுன்ன்குக்கும்', 'கேல்லி', 'டோனி', 'சுனோகோக்கோ', 'பதிக்கப்பட்ட', 'வெளியாக்கும்', 'அதிலேயே', 'கிரியோ', 'பெருந்தூட்ட', 'ஆகப்போவோரியுள்ளை', 'ஆகுவிட', 'டோர்டி', 'குடித்திருக்கிறார்', 'முச்சுலிய்', 'மனோச்வர்', 'ஏரிய', 'செயல்படத', 'ப்த்', 'பூனிக்ஸ்', 'ஏட்டு', 'பொறுப்பற்ற', 'வாரிசுகளுக்கும்', 'பாங்காக்', 'தோர்வுவிட்டு', 'பிறபு', 'மாதமாக', 'துழைந்த்', 'ரகேச்சா', 'ஒடிச்சியி', 'கீட்', 'நாடு', 'கலவை', 'அப்படிய', 'பதிலலித்த', 'அபினைய', 'நுபோன்கோட்டா', 'தமிழக்கத்துக்கு', 'அமைதியும்', 'எமிலி', 'தொகையின்', 'அசீவில்லி', 'அமெரிக்க', 'காலாண்டில்', 'டேவென்பர்ட்', 'மனானன', 'கிரித்தவர்கள்', 'புதுவையில்', 'அலக்காரத்திடவும்', 'படைத்தான்', 'ஜாட்', 'பயில்வான்', 'இனவாதம்', 'உமைய்', 'சேதமடைந்த', 'சிங்க்', 'நீட்டிக்', 'மாய்ப்புலி', 'பணிகளோ', 'பால்ட்', 'விருந்துக்குத்தான்', 'கொலியோத்', 'தம்பதிகளுக்கு', 'பொலவும்', 'குன்றதி', 'சாண்டோ', 'சோர்பா', 'விஸ்ட்', 'காங்கார்', 'படலா', 'பணிகளையும்', 'தொன்றியுள்ளது', 'மூலமோ', 'குலத்தி', 'பலங்கிற்', 'மத்தியதரைக்', 'குனிலி', 'ஏண்டப்பிய', 'தமிழகத்தைச்', 'ஆலன', 'ஊராட்சித்', 'பணியாளர்களை', 'பகுப்பாய்வு', 'கணோசியா', 'அதிகமானது', 'டூக்', 'கிளோபால்', 'வீல்', 'பிரதீச', 'அறியப்பட்டது', 'சாலுக்கியர்', 'கொடுத்தார்கள்', 'நரண்மிம்மன்', 'இசைந்திட', 'கொண்டிருந்த', 'மொர்ரிசன்', 'நாப்பக்கெரியாம்', 'நவாஸ்', 'காதின்', 'வீடிற்குள்', 'தியகாரனம்', 'ரங்கால்', 'ஹவலி', 'தெவியர்', 'வெளிச்சதிற்கும்', 'கல்யானப்', 'ஹென்றிக்கிஸ்', 'சாடின்', 'சொய்ம்பாட்டி', 'இவைதான்', 'பொழுதுபோக்காக', 'பிரதேசத்துக்குள்ளும்', 'இமிலியி', 'திகதிகளில்', 'அமைத்திருந்தான்', 'படம்களிலும்', 'ஒரிக்கின்', 'நிகழ்வைப்', 'வெளியிட்டுள்ளாது', 'லகத்', 'பொடுவது', 'பூல்', 'சமனச', 'வேதிப்பொருள்கள்', 'ஸ்ரீரம்போர்', 'பதிலை', 'செய்துக்கொண்டார்கள்', 'வழக்குகளும்', 'யேரிந்து', 'இளம்வயதிலேயே', 'கணிக்கமா', 'புகழ்பெற்றார்', 'இத்திட்டத்தை', 'எவைகளுக்கு', 'கூறினால்', 'பலகத்', 'ஏற்றுக்கொண்டது', 'கதிர்வெல்லின்', 'சாகோபோ', 'லாமிக்', 'தெரிந்தவர்களாகவும்', 'க்ராண்ட்', 'இப்போதைய', 'கியெட்', 'உன்செக்கோ', 'காம்பி', 'கோலல்', 'காம்பானிகள்', 'எலக்ட்டோஸ்ஸ்', 'குடியிருந்தவர்களால்', 'அவலைப்', 'சாலுக்கினர்', 'நீர்மாட்டம்', 'சீசம்', 'நாக்ரோக்கில்', 'எச்சுவிதான்', 'அறுப்புக்கூட்டை', 'தொடர்பிலான', 'ரைலால்', 'அணிடா', 'செயற்பாடுகளையும்', 'கடித்து', 'விடதீர்கள்', 'கொண்டிருக்கவில்லை', 'வழங்கியுள்ளனர்', 'ஆய்வுக்கு', 'போகும்போது', 'வேதங்களில்', 'ஜெயட்ட்', 'கீரன்', 'குட்டெலுதைசம்', 'ஷாந்த', 'இந்தானா', 'டோமிங்கோஸ்', 'நிகழ்ந்தானையும்', 'அத்தியாயங்களை', 'ரூப்போசன்', 'வடிவென்னும்', 'கின்னிய', 'கூல்டன்', 'சோப்ரா', 'கல்லமருநத்தை', 'தொப்கு', 'குணற்றும்', 'பெச்சைக்', 'பாலோட்டி', 'குஸ்வா', 'செர்ரானோ', 'நன்மை', 'ஜுஃப்ரீர்', 'கரவலாடுகளை', 'அவ்டேட்டோ', 'செய்தேன்', 'அறிவது', 'சுல்லான்', 'பாலி', 'செண்டி', 'ஒன்றே', 'வாங்கும்', 'கொஸ்', 'தோல்வியைத்', 'திமுகா', 'உயிரினம்', 'செய்தர்த்', 'ஈசன்', 'கூடரால்', 'தோர்ஸ்ட்', 'தொகையானது', 'அநுராதபுரத்தில்', 'டிக்ரின்', 'தயாரானது', 'இன்க்கி', 'அளம்பிரா', 'விட்டு', 'உலகைப்', 'கட்டமைக்க', 'சேர்க்கையால்', 'புதுமைகளை', 'ரான்சி', 'விரதம்', 'தட்டான்', 'ஸ்கோர்', 'வீச்சோதல்', 'தாதுப்', 'ரார்ட்டர்', 'சாட்டமா', 'பின்லி', 'கலக்கராட்களில்']\n",
      "tensor([[0.0000, 0.0000, 0.0000, 0.0000, 0.0000, 0.0000, 0.0000, 0.0000, 0.0000,\n",
      "         0.0000, 0.0000],\n",
      "        [0.0821, 0.0819, 0.0819, 0.0819, 0.0819, 0.0819, 0.0834, 0.1001, 0.1116,\n",
      "         0.1007, 0.1125],\n",
      "        [0.0229, 0.2758, 0.3222, 0.2153, 0.0734, 0.0414, 0.0156, 0.0155, 0.0117,\n",
      "         0.0030, 0.0033],\n",
      "        [0.0266, 0.2334, 0.2657, 0.2578, 0.1381, 0.0472, 0.0111, 0.0110, 0.0050,\n",
      "         0.0021, 0.0021],\n",
      "        [0.0071, 0.0617, 0.3503, 0.2253, 0.1385, 0.1338, 0.0370, 0.0291, 0.0062,\n",
      "         0.0055, 0.0055],\n",
      "        [0.0090, 0.0285, 0.0856, 0.1448, 0.2592, 0.2976, 0.0732, 0.0640, 0.0127,\n",
      "         0.0126, 0.0126],\n",
      "        [0.0111, 0.0390, 0.0456, 0.0497, 0.0821, 0.2959, 0.2436, 0.0899, 0.0481,\n",
      "         0.0475, 0.0475],\n",
      "        [0.0226, 0.0275, 0.0408, 0.0391, 0.0350, 0.0414, 0.3728, 0.1113, 0.1045,\n",
      "         0.1025, 0.1025],\n",
      "        [0.0337, 0.0279, 0.0283, 0.0283, 0.0282, 0.0297, 0.0646, 0.1916, 0.2199,\n",
      "         0.1741, 0.1737],\n",
      "        [0.0375, 0.0299, 0.0300, 0.0300, 0.0302, 0.0325, 0.0622, 0.1833, 0.1894,\n",
      "         0.1875, 0.1873],\n",
      "        [0.0384, 0.0382, 0.0382, 0.0382, 0.0382, 0.0383, 0.0438, 0.0749, 0.2565,\n",
      "         0.2257, 0.1695],\n",
      "        [0.0396, 0.0393, 0.0393, 0.0393, 0.0393, 0.0394, 0.0416, 0.0708, 0.2290,\n",
      "         0.2335, 0.1886],\n",
      "        [0.0531, 0.0531, 0.0530, 0.0530, 0.0530, 0.0531, 0.0598, 0.0748, 0.1745,\n",
      "         0.2646, 0.1082],\n",
      "        [0.0409, 0.0405, 0.0405, 0.0405, 0.0405, 0.0405, 0.0434, 0.0696, 0.2137,\n",
      "         0.2439, 0.1860],\n",
      "        [0.0560, 0.0560, 0.0559, 0.0559, 0.0559, 0.0560, 0.0607, 0.0737, 0.1579,\n",
      "         0.2695, 0.1027],\n",
      "        [0.0475, 0.0474, 0.0473, 0.0473, 0.0474, 0.0474, 0.0486, 0.0646, 0.1944,\n",
      "         0.2641, 0.1440],\n",
      "        [0.0570, 0.0570, 0.0569, 0.0569, 0.0570, 0.0570, 0.0623, 0.0756, 0.1491,\n",
      "         0.2724, 0.0988],\n",
      "        [0.0448, 0.0445, 0.0445, 0.0445, 0.0445, 0.0446, 0.0466, 0.0658, 0.1981,\n",
      "         0.2620, 0.1602],\n",
      "        [0.0584, 0.0584, 0.0583, 0.0583, 0.0584, 0.0584, 0.0623, 0.0738, 0.1429,\n",
      "         0.2729, 0.0978],\n",
      "        [0.0455, 0.0452, 0.0452, 0.0452, 0.0452, 0.0452, 0.0471, 0.0657, 0.1948,\n",
      "         0.2648, 0.1561],\n",
      "        [0.0590, 0.0590, 0.0589, 0.0589, 0.0590, 0.0590, 0.0627, 0.0739, 0.1393,\n",
      "         0.2735, 0.0967],\n",
      "        [0.0462, 0.0459, 0.0459, 0.0459, 0.0459, 0.0460, 0.0478, 0.0657, 0.1911,\n",
      "         0.2678, 0.1519],\n",
      "        [0.0594, 0.0594, 0.0593, 0.0593, 0.0594, 0.0594, 0.0630, 0.0739, 0.1370,\n",
      "         0.2738, 0.0960],\n",
      "        [0.0466, 0.0464, 0.0464, 0.0464, 0.0464, 0.0464, 0.0482, 0.0657, 0.1886,\n",
      "         0.2697, 0.1493],\n",
      "        [0.0597, 0.0597, 0.0596, 0.0596, 0.0596, 0.0597, 0.0632, 0.0739, 0.1356,\n",
      "         0.2739, 0.0956]], device='cuda:0')\n",
      "tensor([[0.0000, 0.0000, 0.0000, 0.0000, 0.0000, 0.0000, 0.0000, 0.0000, 0.0000,\n",
      "         0.0000, 0.0000, 0.0000],\n",
      "        [0.0749, 0.0749, 0.0749, 0.0749, 0.0749, 0.0756, 0.0756, 0.0767, 0.0916,\n",
      "         0.1025, 0.1006, 0.1031],\n",
      "        [0.0186, 0.0980, 0.4032, 0.3294, 0.0468, 0.0226, 0.0208, 0.0206, 0.0206,\n",
      "         0.0108, 0.0040, 0.0046],\n",
      "        [0.0163, 0.1227, 0.3652, 0.3500, 0.0633, 0.0203, 0.0173, 0.0169, 0.0169,\n",
      "         0.0046, 0.0032, 0.0033],\n",
      "        [0.0086, 0.0646, 0.2115, 0.3661, 0.1559, 0.0861, 0.0515, 0.0235, 0.0203,\n",
      "         0.0040, 0.0038, 0.0039],\n",
      "        [0.0042, 0.0213, 0.0267, 0.0310, 0.2111, 0.2560, 0.1445, 0.1291, 0.1035,\n",
      "         0.0242, 0.0242, 0.0242],\n",
      "        [0.0084, 0.0275, 0.0382, 0.0383, 0.0393, 0.1508, 0.2089, 0.2524, 0.0780,\n",
      "         0.0528, 0.0526, 0.0526],\n",
      "        [0.0144, 0.0158, 0.0210, 0.0202, 0.0362, 0.0983, 0.1638, 0.2683, 0.0921,\n",
      "         0.0900, 0.0899, 0.0899],\n",
      "        [0.0305, 0.0306, 0.0307, 0.0302, 0.0307, 0.0323, 0.0332, 0.0394, 0.1741,\n",
      "         0.1926, 0.1901, 0.1856],\n",
      "        [0.0462, 0.0466, 0.0466, 0.0450, 0.0466, 0.0468, 0.0469, 0.0476, 0.0671,\n",
      "         0.2285, 0.2364, 0.0957],\n",
      "        [0.0518, 0.0524, 0.0523, 0.0505, 0.0523, 0.0524, 0.0525, 0.0529, 0.0630,\n",
      "         0.1997, 0.2407, 0.0795],\n",
      "        [0.0522, 0.0528, 0.0528, 0.0509, 0.0528, 0.0529, 0.0529, 0.0533, 0.0627,\n",
      "         0.1965, 0.2417, 0.0785],\n",
      "        [0.0531, 0.0537, 0.0537, 0.0517, 0.0537, 0.0538, 0.0538, 0.0541, 0.0623,\n",
      "         0.1901, 0.2433, 0.0766],\n",
      "        [0.0539, 0.0545, 0.0545, 0.0525, 0.0545, 0.0546, 0.0546, 0.0549, 0.0621,\n",
      "         0.1841, 0.2445, 0.0752],\n",
      "        [0.0545, 0.0552, 0.0551, 0.0531, 0.0551, 0.0552, 0.0553, 0.0555, 0.0621,\n",
      "         0.1791, 0.2454, 0.0743],\n",
      "        [0.0550, 0.0556, 0.0556, 0.0535, 0.0556, 0.0557, 0.0557, 0.0560, 0.0621,\n",
      "         0.1756, 0.2460, 0.0737],\n",
      "        [0.0553, 0.0559, 0.0559, 0.0538, 0.0559, 0.0560, 0.0560, 0.0563, 0.0621,\n",
      "         0.1732, 0.2463, 0.0733],\n",
      "        [0.0555, 0.0561, 0.0561, 0.0540, 0.0561, 0.0562, 0.0562, 0.0565, 0.0622,\n",
      "         0.1716, 0.2466, 0.0731],\n",
      "        [0.0556, 0.0563, 0.0562, 0.0541, 0.0562, 0.0563, 0.0564, 0.0566, 0.0622,\n",
      "         0.1706, 0.2467, 0.0729],\n",
      "        [0.0557, 0.0564, 0.0563, 0.0542, 0.0563, 0.0564, 0.0565, 0.0567, 0.0622,\n",
      "         0.1699, 0.2468, 0.0729],\n",
      "        [0.0557, 0.0564, 0.0563, 0.0542, 0.0563, 0.0565, 0.0565, 0.0567, 0.0622,\n",
      "         0.1695, 0.2468, 0.0728],\n",
      "        [0.0557, 0.0564, 0.0564, 0.0542, 0.0564, 0.0565, 0.0565, 0.0568, 0.0622,\n",
      "         0.1692, 0.2468, 0.0728],\n",
      "        [0.0558, 0.0565, 0.0564, 0.0543, 0.0564, 0.0565, 0.0566, 0.0568, 0.0622,\n",
      "         0.1690, 0.2469, 0.0728],\n",
      "        [0.0558, 0.0565, 0.0564, 0.0543, 0.0564, 0.0565, 0.0566, 0.0568, 0.0622,\n",
      "         0.1689, 0.2469, 0.0727],\n",
      "        [0.0558, 0.0565, 0.0564, 0.0543, 0.0564, 0.0565, 0.0566, 0.0568, 0.0622,\n",
      "         0.1689, 0.2469, 0.0727]], device='cuda:0')\n"
     ]
    }
   ],
   "source": [
    "print(a); print(b);\n",
    "print(c[0])\n",
    "print(c[1])"
   ]
  },
  {
   "cell_type": "code",
   "execution_count": null,
   "metadata": {},
   "outputs": [],
   "source": [
    "import wandb\n",
    "wandb.login()\n",
    "\n",
    "sweep_configuration = {\n",
    "    'method': 'bayes',\n",
    "    'name': 'no-attention-bayes',\n",
    "    'metric': {'goal': 'maximize', 'name': 'validation_accuracy'},\n",
    "    'parameters': {\n",
    "        'embedding_size' : {'values' : [16, 32, 64, 128, 192]},\n",
    "        'number_of_layers' : {'values' : [1, 2, 3]},\n",
    "        'hidden_size' : {'values' : [32, 64, 128, 192, 256]},\n",
    "        'cell' : {'values' : ['RNN', 'GRU', 'LSTM']},\n",
    "        'bidirectional' : {'values' : ['True', 'False']},\n",
    "        'dropout' : {'values' : [0.0, 0.05, 0.1, 0.2, 0.3]},\n",
    "        'initial_tf_ratio' : {'values' : [0.6, 0.7, 0.8, 0.9]},\n",
    "        'batch_size' : {'values' : [32, 64, 128]},\n",
    "        'attention' : {'value' : 'False'},\n",
    "        'dataset' : {'value' : 'aksharantar'},\n",
    "        'optimizer' : {'value' : 'Adam'},\n",
    "        'learning_rate' : {'value' : 2e-3}\n",
    "    }\n",
    "}\n",
    "\n",
    "sweep_id = wandb.sweep(sweep=sweep_configuration, entity='cs19b021', project='cs6910-assignment3')"
   ]
  },
  {
   "cell_type": "code",
   "execution_count": null,
   "metadata": {},
   "outputs": [],
   "source": [
    "# testing runner\n",
    "# send tf_ratio (hparam) for 10 epochs (min_epochs); then turn on early stopping to track val_loss/val_acc\n",
    "# BEST CONFIG - NOTE (attn = True, 12 epochs, tf_ratio=0.8)\n",
    "\n",
    "\n",
    "runner = Runner(SRC_LANG, TAR_LANG, 4, 1, 4, 'LSTM', True, False, 0.0, 'Adam', learning_rate=2e-3, batch_size=64)\n",
    "\n",
    "early_stop_callback = EarlyStopping(monitor=\"validation_accuracy\", min_delta=0.1, patience=5, verbose=True, mode=\"max\")\n",
    "tblogger = TensorBoardLogger(os.getcwd())\n",
    "wdblogger = WandbLogger(log_model='all')\n",
    "chkpt_callback = ModelCheckpoint(monitor='validation_accuracy', mode='max')\n",
    "trainer = lt.Trainer(min_epochs=10, max_epochs=35, callbacks=[chkpt_callback, early_stop_callback], logger=[tblogger, WandbLogger])\n",
    "\n",
    "trainer.fit(runner)\n",
    "runner.freeze()"
   ]
  },
  {
   "attachments": {},
   "cell_type": "markdown",
   "metadata": {},
   "source": [
    "### IGNORE SECTION -> PERFORMED BUG SEARCH"
   ]
  },
  {
   "cell_type": "code",
   "execution_count": null,
   "metadata": {},
   "outputs": [],
   "source": [
    "# NOTE -> performing BUG SEARCH\n",
    "# testing all combinations to catch bugs\n",
    "# RESULT -> all clear; no bugs caught\n",
    "num_lay = [1,3]\n",
    "ctype = ['LSTM', 'GRU', 'RNN']\n",
    "bidirect = [True, False]\n",
    "attn = [True, False]\n",
    "\n",
    "for n in num_lay:\n",
    "    for c in ctype:\n",
    "        for b in bidirect:\n",
    "            for a in attn:\n",
    "                runner = Runner(SRC_LANG, TAR_LANG, 128, n, 256, c, 0.8, b, a, 0.05, 'Adam', learning_rate=2e-3, batch_size=128)\n",
    "                trainer = lt.Trainer(max_steps=2)\n",
    "                trainer.fit(runner)\n",
    "                runner.freeze()\n",
    "                trainer.test(runner)"
   ]
  }
 ],
 "metadata": {
  "kernelspec": {
   "display_name": "dlenv",
   "language": "python",
   "name": "python3"
  },
  "language_info": {
   "codemirror_mode": {
    "name": "ipython",
    "version": 3
   },
   "file_extension": ".py",
   "mimetype": "text/x-python",
   "name": "python",
   "nbconvert_exporter": "python",
   "pygments_lexer": "ipython3",
   "version": "3.8.10"
  },
  "orig_nbformat": 4
 },
 "nbformat": 4,
 "nbformat_minor": 2
}
